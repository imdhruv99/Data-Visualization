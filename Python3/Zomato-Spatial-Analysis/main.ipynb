{
 "cells": [
  {
   "cell_type": "markdown",
   "metadata": {},
   "source": [
    "# Zomato Spatial Analysis"
   ]
  },
  {
   "cell_type": "code",
   "execution_count": 1,
   "metadata": {},
   "outputs": [],
   "source": [
    "import numpy as np\n",
    "import pandas as pd\n",
    "import seaborn as sns\n",
    "import matplotlib.pyplot as plt"
   ]
  },
  {
   "cell_type": "code",
   "execution_count": 4,
   "metadata": {},
   "outputs": [],
   "source": [
    "df = pd.read_csv('Dataset/zomato.csv')"
   ]
  },
  {
   "cell_type": "code",
   "execution_count": 5,
   "metadata": {},
   "outputs": [
    {
     "data": {
      "text/html": [
       "<div>\n",
       "<style scoped>\n",
       "    .dataframe tbody tr th:only-of-type {\n",
       "        vertical-align: middle;\n",
       "    }\n",
       "\n",
       "    .dataframe tbody tr th {\n",
       "        vertical-align: top;\n",
       "    }\n",
       "\n",
       "    .dataframe thead th {\n",
       "        text-align: right;\n",
       "    }\n",
       "</style>\n",
       "<table border=\"1\" class=\"dataframe\">\n",
       "  <thead>\n",
       "    <tr style=\"text-align: right;\">\n",
       "      <th></th>\n",
       "      <th>url</th>\n",
       "      <th>address</th>\n",
       "      <th>name</th>\n",
       "      <th>online_order</th>\n",
       "      <th>book_table</th>\n",
       "      <th>rate</th>\n",
       "      <th>votes</th>\n",
       "      <th>phone</th>\n",
       "      <th>location</th>\n",
       "      <th>rest_type</th>\n",
       "      <th>dish_liked</th>\n",
       "      <th>cuisines</th>\n",
       "      <th>approx_cost(for two people)</th>\n",
       "      <th>reviews_list</th>\n",
       "      <th>menu_item</th>\n",
       "      <th>listed_in(type)</th>\n",
       "      <th>listed_in(city)</th>\n",
       "    </tr>\n",
       "  </thead>\n",
       "  <tbody>\n",
       "    <tr>\n",
       "      <th>0</th>\n",
       "      <td>https://www.zomato.com/bangalore/jalsa-banasha...</td>\n",
       "      <td>942, 21st Main Road, 2nd Stage, Banashankari, ...</td>\n",
       "      <td>Jalsa</td>\n",
       "      <td>Yes</td>\n",
       "      <td>Yes</td>\n",
       "      <td>4.1/5</td>\n",
       "      <td>775</td>\n",
       "      <td>080 42297555\\r\\n+91 9743772233</td>\n",
       "      <td>Banashankari</td>\n",
       "      <td>Casual Dining</td>\n",
       "      <td>Pasta, Lunch Buffet, Masala Papad, Paneer Laja...</td>\n",
       "      <td>North Indian, Mughlai, Chinese</td>\n",
       "      <td>800</td>\n",
       "      <td>[('Rated 4.0', 'RATED\\n  A beautiful place to ...</td>\n",
       "      <td>[]</td>\n",
       "      <td>Buffet</td>\n",
       "      <td>Banashankari</td>\n",
       "    </tr>\n",
       "    <tr>\n",
       "      <th>1</th>\n",
       "      <td>https://www.zomato.com/bangalore/spice-elephan...</td>\n",
       "      <td>2nd Floor, 80 Feet Road, Near Big Bazaar, 6th ...</td>\n",
       "      <td>Spice Elephant</td>\n",
       "      <td>Yes</td>\n",
       "      <td>No</td>\n",
       "      <td>4.1/5</td>\n",
       "      <td>787</td>\n",
       "      <td>080 41714161</td>\n",
       "      <td>Banashankari</td>\n",
       "      <td>Casual Dining</td>\n",
       "      <td>Momos, Lunch Buffet, Chocolate Nirvana, Thai G...</td>\n",
       "      <td>Chinese, North Indian, Thai</td>\n",
       "      <td>800</td>\n",
       "      <td>[('Rated 4.0', 'RATED\\n  Had been here for din...</td>\n",
       "      <td>[]</td>\n",
       "      <td>Buffet</td>\n",
       "      <td>Banashankari</td>\n",
       "    </tr>\n",
       "    <tr>\n",
       "      <th>2</th>\n",
       "      <td>https://www.zomato.com/SanchurroBangalore?cont...</td>\n",
       "      <td>1112, Next to KIMS Medical College, 17th Cross...</td>\n",
       "      <td>San Churro Cafe</td>\n",
       "      <td>Yes</td>\n",
       "      <td>No</td>\n",
       "      <td>3.8/5</td>\n",
       "      <td>918</td>\n",
       "      <td>+91 9663487993</td>\n",
       "      <td>Banashankari</td>\n",
       "      <td>Cafe, Casual Dining</td>\n",
       "      <td>Churros, Cannelloni, Minestrone Soup, Hot Choc...</td>\n",
       "      <td>Cafe, Mexican, Italian</td>\n",
       "      <td>800</td>\n",
       "      <td>[('Rated 3.0', \"RATED\\n  Ambience is not that ...</td>\n",
       "      <td>[]</td>\n",
       "      <td>Buffet</td>\n",
       "      <td>Banashankari</td>\n",
       "    </tr>\n",
       "    <tr>\n",
       "      <th>3</th>\n",
       "      <td>https://www.zomato.com/bangalore/addhuri-udupi...</td>\n",
       "      <td>1st Floor, Annakuteera, 3rd Stage, Banashankar...</td>\n",
       "      <td>Addhuri Udupi Bhojana</td>\n",
       "      <td>No</td>\n",
       "      <td>No</td>\n",
       "      <td>3.7/5</td>\n",
       "      <td>88</td>\n",
       "      <td>+91 9620009302</td>\n",
       "      <td>Banashankari</td>\n",
       "      <td>Quick Bites</td>\n",
       "      <td>Masala Dosa</td>\n",
       "      <td>South Indian, North Indian</td>\n",
       "      <td>300</td>\n",
       "      <td>[('Rated 4.0', \"RATED\\n  Great food and proper...</td>\n",
       "      <td>[]</td>\n",
       "      <td>Buffet</td>\n",
       "      <td>Banashankari</td>\n",
       "    </tr>\n",
       "    <tr>\n",
       "      <th>4</th>\n",
       "      <td>https://www.zomato.com/bangalore/grand-village...</td>\n",
       "      <td>10, 3rd Floor, Lakshmi Associates, Gandhi Baza...</td>\n",
       "      <td>Grand Village</td>\n",
       "      <td>No</td>\n",
       "      <td>No</td>\n",
       "      <td>3.8/5</td>\n",
       "      <td>166</td>\n",
       "      <td>+91 8026612447\\r\\n+91 9901210005</td>\n",
       "      <td>Basavanagudi</td>\n",
       "      <td>Casual Dining</td>\n",
       "      <td>Panipuri, Gol Gappe</td>\n",
       "      <td>North Indian, Rajasthani</td>\n",
       "      <td>600</td>\n",
       "      <td>[('Rated 4.0', 'RATED\\n  Very good restaurant ...</td>\n",
       "      <td>[]</td>\n",
       "      <td>Buffet</td>\n",
       "      <td>Banashankari</td>\n",
       "    </tr>\n",
       "  </tbody>\n",
       "</table>\n",
       "</div>"
      ],
      "text/plain": [
       "                                                 url  \\\n",
       "0  https://www.zomato.com/bangalore/jalsa-banasha...   \n",
       "1  https://www.zomato.com/bangalore/spice-elephan...   \n",
       "2  https://www.zomato.com/SanchurroBangalore?cont...   \n",
       "3  https://www.zomato.com/bangalore/addhuri-udupi...   \n",
       "4  https://www.zomato.com/bangalore/grand-village...   \n",
       "\n",
       "                                             address                   name  \\\n",
       "0  942, 21st Main Road, 2nd Stage, Banashankari, ...                  Jalsa   \n",
       "1  2nd Floor, 80 Feet Road, Near Big Bazaar, 6th ...         Spice Elephant   \n",
       "2  1112, Next to KIMS Medical College, 17th Cross...        San Churro Cafe   \n",
       "3  1st Floor, Annakuteera, 3rd Stage, Banashankar...  Addhuri Udupi Bhojana   \n",
       "4  10, 3rd Floor, Lakshmi Associates, Gandhi Baza...          Grand Village   \n",
       "\n",
       "  online_order book_table   rate  votes                             phone  \\\n",
       "0          Yes        Yes  4.1/5    775    080 42297555\\r\\n+91 9743772233   \n",
       "1          Yes         No  4.1/5    787                      080 41714161   \n",
       "2          Yes         No  3.8/5    918                    +91 9663487993   \n",
       "3           No         No  3.7/5     88                    +91 9620009302   \n",
       "4           No         No  3.8/5    166  +91 8026612447\\r\\n+91 9901210005   \n",
       "\n",
       "       location            rest_type  \\\n",
       "0  Banashankari        Casual Dining   \n",
       "1  Banashankari        Casual Dining   \n",
       "2  Banashankari  Cafe, Casual Dining   \n",
       "3  Banashankari          Quick Bites   \n",
       "4  Basavanagudi        Casual Dining   \n",
       "\n",
       "                                          dish_liked  \\\n",
       "0  Pasta, Lunch Buffet, Masala Papad, Paneer Laja...   \n",
       "1  Momos, Lunch Buffet, Chocolate Nirvana, Thai G...   \n",
       "2  Churros, Cannelloni, Minestrone Soup, Hot Choc...   \n",
       "3                                        Masala Dosa   \n",
       "4                                Panipuri, Gol Gappe   \n",
       "\n",
       "                         cuisines approx_cost(for two people)  \\\n",
       "0  North Indian, Mughlai, Chinese                         800   \n",
       "1     Chinese, North Indian, Thai                         800   \n",
       "2          Cafe, Mexican, Italian                         800   \n",
       "3      South Indian, North Indian                         300   \n",
       "4        North Indian, Rajasthani                         600   \n",
       "\n",
       "                                        reviews_list menu_item  \\\n",
       "0  [('Rated 4.0', 'RATED\\n  A beautiful place to ...        []   \n",
       "1  [('Rated 4.0', 'RATED\\n  Had been here for din...        []   \n",
       "2  [('Rated 3.0', \"RATED\\n  Ambience is not that ...        []   \n",
       "3  [('Rated 4.0', \"RATED\\n  Great food and proper...        []   \n",
       "4  [('Rated 4.0', 'RATED\\n  Very good restaurant ...        []   \n",
       "\n",
       "  listed_in(type) listed_in(city)  \n",
       "0          Buffet    Banashankari  \n",
       "1          Buffet    Banashankari  \n",
       "2          Buffet    Banashankari  \n",
       "3          Buffet    Banashankari  \n",
       "4          Buffet    Banashankari  "
      ]
     },
     "execution_count": 5,
     "metadata": {},
     "output_type": "execute_result"
    }
   ],
   "source": [
    "df.head()"
   ]
  },
  {
   "cell_type": "code",
   "execution_count": 6,
   "metadata": {},
   "outputs": [
    {
     "data": {
      "text/plain": [
       "url                                0\n",
       "address                            0\n",
       "name                               0\n",
       "online_order                       0\n",
       "book_table                         0\n",
       "rate                            7775\n",
       "votes                              0\n",
       "phone                           1208\n",
       "location                          21\n",
       "rest_type                        227\n",
       "dish_liked                     28078\n",
       "cuisines                          45\n",
       "approx_cost(for two people)      346\n",
       "reviews_list                       0\n",
       "menu_item                          0\n",
       "listed_in(type)                    0\n",
       "listed_in(city)                    0\n",
       "dtype: int64"
      ]
     },
     "execution_count": 6,
     "metadata": {},
     "output_type": "execute_result"
    }
   ],
   "source": [
    "df.isna().sum()"
   ]
  },
  {
   "cell_type": "code",
   "execution_count": 7,
   "metadata": {},
   "outputs": [],
   "source": [
    "# dropping empty location rows because i a m going to do spatial analysis and for that location must not be empty\n",
    "df.dropna(axis=0, subset=['location'], inplace=True)"
   ]
  },
  {
   "cell_type": "code",
   "execution_count": 8,
   "metadata": {},
   "outputs": [
    {
     "data": {
      "text/plain": [
       "url                                0\n",
       "address                            0\n",
       "name                               0\n",
       "online_order                       0\n",
       "book_table                         0\n",
       "rate                            7754\n",
       "votes                              0\n",
       "phone                           1187\n",
       "location                           0\n",
       "rest_type                        206\n",
       "dish_liked                     28057\n",
       "cuisines                          24\n",
       "approx_cost(for two people)      325\n",
       "reviews_list                       0\n",
       "menu_item                          0\n",
       "listed_in(type)                    0\n",
       "listed_in(city)                    0\n",
       "dtype: int64"
      ]
     },
     "execution_count": 8,
     "metadata": {},
     "output_type": "execute_result"
    }
   ],
   "source": [
    "df.isna().sum()"
   ]
  },
  {
   "cell_type": "code",
   "execution_count": 10,
   "metadata": {},
   "outputs": [
    {
     "data": {
      "text/plain": [
       "93"
      ]
     },
     "execution_count": 10,
     "metadata": {},
     "output_type": "execute_result"
    }
   ],
   "source": [
    "len(df['location'].unique())"
   ]
  },
  {
   "cell_type": "code",
   "execution_count": 11,
   "metadata": {},
   "outputs": [
    {
     "name": "stdout",
     "output_type": "stream",
     "text": [
      "['Banashankari' 'Basavanagudi' 'Mysore Road' 'Jayanagar'\n",
      " 'Kumaraswamy Layout' 'Rajarajeshwari Nagar' 'Vijay Nagar' 'Uttarahalli'\n",
      " 'JP Nagar' 'South Bangalore' 'City Market' 'Nagarbhavi'\n",
      " 'Bannerghatta Road' 'BTM' 'Kanakapura Road' 'Bommanahalli'\n",
      " 'CV Raman Nagar' 'Electronic City' 'HSR' 'Marathahalli' 'Sarjapur Road'\n",
      " 'Wilson Garden' 'Shanti Nagar' 'Koramangala 5th Block'\n",
      " 'Koramangala 8th Block' 'Richmond Road' 'Koramangala 7th Block'\n",
      " 'Jalahalli' 'Koramangala 4th Block' 'Bellandur' 'Whitefield'\n",
      " 'East Bangalore' 'Old Airport Road' 'Indiranagar' 'Koramangala 1st Block'\n",
      " 'Frazer Town' 'RT Nagar' 'MG Road' 'Brigade Road' 'Lavelle Road'\n",
      " 'Church Street' 'Ulsoor' 'Residency Road' 'Shivajinagar' 'Infantry Road'\n",
      " 'St. Marks Road' 'Cunningham Road' 'Race Course Road' 'Commercial Street'\n",
      " 'Vasanth Nagar' 'HBR Layout' 'Domlur' 'Ejipura' 'Jeevan Bhima Nagar'\n",
      " 'Old Madras Road' 'Malleshwaram' 'Seshadripuram' 'Kammanahalli'\n",
      " 'Koramangala 6th Block' 'Majestic' 'Langford Town' 'Central Bangalore'\n",
      " 'Sanjay Nagar' 'Brookefield' 'ITPL Main Road, Whitefield'\n",
      " 'Varthur Main Road, Whitefield' 'KR Puram' 'Koramangala 2nd Block'\n",
      " 'Koramangala 3rd Block' 'Koramangala' 'Hosur Road' 'Rajajinagar'\n",
      " 'Banaswadi' 'North Bangalore' 'Nagawara' 'Hennur' 'Kalyan Nagar'\n",
      " 'New BEL Road' 'Jakkur' 'Rammurthy Nagar' 'Thippasandra' 'Kaggadasapura'\n",
      " 'Hebbal' 'Kengeri' 'Sankey Road' 'Sadashiv Nagar' 'Basaveshwara Nagar'\n",
      " 'Yeshwantpur' 'West Bangalore' 'Magadi Road' 'Yelahanka' 'Sahakara Nagar'\n",
      " 'Peenya']\n"
     ]
    }
   ],
   "source": [
    "print(df['location'].unique())"
   ]
  },
  {
   "cell_type": "code",
   "execution_count": 12,
   "metadata": {},
   "outputs": [],
   "source": [
    "# creating blank dataframe\n",
    "locations = pd.DataFrame()"
   ]
  },
  {
   "cell_type": "code",
   "execution_count": 13,
   "metadata": {},
   "outputs": [
    {
     "data": {
      "text/html": [
       "<div>\n",
       "<style scoped>\n",
       "    .dataframe tbody tr th:only-of-type {\n",
       "        vertical-align: middle;\n",
       "    }\n",
       "\n",
       "    .dataframe tbody tr th {\n",
       "        vertical-align: top;\n",
       "    }\n",
       "\n",
       "    .dataframe thead th {\n",
       "        text-align: right;\n",
       "    }\n",
       "</style>\n",
       "<table border=\"1\" class=\"dataframe\">\n",
       "  <thead>\n",
       "    <tr style=\"text-align: right;\">\n",
       "      <th></th>\n",
       "      <th>Name</th>\n",
       "    </tr>\n",
       "  </thead>\n",
       "  <tbody>\n",
       "    <tr>\n",
       "      <th>0</th>\n",
       "      <td>Banashankari</td>\n",
       "    </tr>\n",
       "    <tr>\n",
       "      <th>1</th>\n",
       "      <td>Basavanagudi</td>\n",
       "    </tr>\n",
       "    <tr>\n",
       "      <th>2</th>\n",
       "      <td>Mysore Road</td>\n",
       "    </tr>\n",
       "    <tr>\n",
       "      <th>3</th>\n",
       "      <td>Jayanagar</td>\n",
       "    </tr>\n",
       "    <tr>\n",
       "      <th>4</th>\n",
       "      <td>Kumaraswamy Layout</td>\n",
       "    </tr>\n",
       "  </tbody>\n",
       "</table>\n",
       "</div>"
      ],
      "text/plain": [
       "                 Name\n",
       "0        Banashankari\n",
       "1        Basavanagudi\n",
       "2         Mysore Road\n",
       "3           Jayanagar\n",
       "4  Kumaraswamy Layout"
      ]
     },
     "execution_count": 13,
     "metadata": {},
     "output_type": "execute_result"
    }
   ],
   "source": [
    "# adding unique locations(cities) in my new dataframe\n",
    "locations['Name'] = df['location'].unique()\n",
    "locations.head()"
   ]
  },
  {
   "cell_type": "markdown",
   "metadata": {},
   "source": [
    "#### Extracting Latitudes and Longitudes of each unique locations"
   ]
  },
  {
   "cell_type": "code",
   "execution_count": 14,
   "metadata": {},
   "outputs": [
    {
     "name": "stdout",
     "output_type": "stream",
     "text": [
      "Collecting geopy\n",
      "  Downloading geopy-2.1.0-py3-none-any.whl (112 kB)\n",
      "Collecting geographiclib<2,>=1.49\n",
      "  Downloading geographiclib-1.50-py3-none-any.whl (38 kB)\n",
      "Installing collected packages: geographiclib, geopy\n",
      "Successfully installed geographiclib-1.50 geopy-2.1.0\n"
     ]
    }
   ],
   "source": [
    "# uncomment this line to install library\n",
    "#!pip install geopy"
   ]
  },
  {
   "cell_type": "code",
   "execution_count": 15,
   "metadata": {},
   "outputs": [],
   "source": [
    "from geopy.geocoders import Nominatim"
   ]
  },
  {
   "cell_type": "code",
   "execution_count": 16,
   "metadata": {},
   "outputs": [],
   "source": [
    "# establishing connection\n",
    "geolocator = Nominatim(user_agent='app')"
   ]
  },
  {
   "cell_type": "code",
   "execution_count": 17,
   "metadata": {},
   "outputs": [],
   "source": [
    "lat = []\n",
    "lon = []\n",
    "for location in locations['Name']:\n",
    "    \n",
    "    # converting string location into geo format\n",
    "    location = geolocator.geocode(location)\n",
    "    \n",
    "    if location is None:\n",
    "        lat.append(np.nan)\n",
    "        lon.append(np.nan)\n",
    "    \n",
    "    else:\n",
    "        lat.append(location.latitude)\n",
    "        lon.append(location.longitude)"
   ]
  },
  {
   "cell_type": "code",
   "execution_count": 18,
   "metadata": {},
   "outputs": [
    {
     "name": "stdout",
     "output_type": "stream",
     "text": [
      "[15.8876779, 12.9417261, 12.3872141, 27.64392675, 12.9081487, 12.9274413, 22.8359967, 12.9055682, 12.2655944, 13.0646907, 39.76880625, 12.9546741, 12.887979, 45.95485055, 12.5607431, 12.9089453, 17.2510682, -6.2659285, 18.1475, 12.9552572, 12.9242381, 12.9489339, 12.9575547, 13.00540865, 12.9417812, 50.7721586, 13.0078418, 11.9917786, 12.93433385, 12.93577245, 44.3730577, 13.0215466, 38.4876975, 12.9732913, 14.5395813, 12.996845, 13.0227204, 17.9895618, 40.28745, 40.7652844, 51.373656, 12.9778793, 38.7385916, 18.5322493, 34.977289, 51.5227651, 31.89376, 22.3146438, 51.5173375, 12.988721250000001, 13.0358698, 12.9624669, 12.945245, 12.9678074, 13.194416, 13.0027353, 12.9931876, 13.0093455, 12.9400321, 1.2847055, 12.957998, 13.0101286, 23.1485712, 33.5935063, 12.967576, 12.9414662, 13.007516, 12.9243509, 12.9271867, 13.2923988, 12.773175, 12.9882338, 13.0141618, 13.0217151, 13.2227, 13.0258087, 13.0221416, 13.0346384, 13.0784743, nan, 12.973936, 12.9846713, 13.0382184, 12.9176571, 38.7801076, 15.8782951, 12.9932739, 13.02383, 13.0011289, 12.945048, 13.1006982, 13.0621474, 13.0329419]\n"
     ]
    }
   ],
   "source": [
    "print(lat)"
   ]
  },
  {
   "cell_type": "code",
   "execution_count": 19,
   "metadata": {},
   "outputs": [
    {
     "name": "stdout",
     "output_type": "stream",
     "text": [
      "[75.7046777, 77.5755021, 76.6669626, 83.05280519687284, 77.5553179, 77.5155224, 69.3405962, 77.5455438, 76.6465404, 77.49626895712257, -86.15345077251979, 77.5121724, 77.5970812, -112.49659530324134, 77.4258375, 77.6239038, 80.1651978, 106.7842561, 41.538889, 77.6984163, 77.6289059, 77.5968273, 77.5979099, 74.79460685941484, 77.6160146, 0.09772783661369303, 74.7963208, 76.5066292, 77.63040639553275, 77.66676103753434, -71.6118577, 77.7640586, -109.4595323, 77.6404672, 121.070371, 77.6130165, 77.595715, 79.5967057, -76.964526, -76.373824, -0.1042366, 77.6246697, -77.5275749, 73.8499601124847, -78.974578, -0.7354457, -88.066644, 73.1597756, -0.073532, 77.58516877601824, 77.6323597, 77.6381958, 77.6269144, 77.6568367, 78.7011301, 77.5703253, 77.5753419, 77.6377094, 77.6203272, 103.84320655721689, 77.6037312, 77.5548006, 81.6048241, -79.0345627, 77.7150877, 77.7470942, 77.695935, 77.6255562, 77.6266252, 77.7519261, 77.7831871, 77.554883, 77.6518539, 77.7660547, 78.5541977, 77.6305067, 77.6403368, 77.5681733, 77.6068938, nan, 77.6509982, 77.6790908, 77.5919, 77.4837568, -121.5056438, 74.5084834, 77.5388099, 77.5529215, 77.6325617, 77.263004, 77.5963454, 77.58006135480495, 77.5273253]\n"
     ]
    }
   ],
   "source": [
    "print(lon)"
   ]
  },
  {
   "cell_type": "code",
   "execution_count": 20,
   "metadata": {},
   "outputs": [
    {
     "data": {
      "text/html": [
       "<div>\n",
       "<style scoped>\n",
       "    .dataframe tbody tr th:only-of-type {\n",
       "        vertical-align: middle;\n",
       "    }\n",
       "\n",
       "    .dataframe tbody tr th {\n",
       "        vertical-align: top;\n",
       "    }\n",
       "\n",
       "    .dataframe thead th {\n",
       "        text-align: right;\n",
       "    }\n",
       "</style>\n",
       "<table border=\"1\" class=\"dataframe\">\n",
       "  <thead>\n",
       "    <tr style=\"text-align: right;\">\n",
       "      <th></th>\n",
       "      <th>Name</th>\n",
       "      <th>Latitude</th>\n",
       "      <th>Longitude</th>\n",
       "    </tr>\n",
       "  </thead>\n",
       "  <tbody>\n",
       "    <tr>\n",
       "      <th>0</th>\n",
       "      <td>Banashankari</td>\n",
       "      <td>15.887678</td>\n",
       "      <td>75.704678</td>\n",
       "    </tr>\n",
       "    <tr>\n",
       "      <th>1</th>\n",
       "      <td>Basavanagudi</td>\n",
       "      <td>12.941726</td>\n",
       "      <td>77.575502</td>\n",
       "    </tr>\n",
       "    <tr>\n",
       "      <th>2</th>\n",
       "      <td>Mysore Road</td>\n",
       "      <td>12.387214</td>\n",
       "      <td>76.666963</td>\n",
       "    </tr>\n",
       "    <tr>\n",
       "      <th>3</th>\n",
       "      <td>Jayanagar</td>\n",
       "      <td>27.643927</td>\n",
       "      <td>83.052805</td>\n",
       "    </tr>\n",
       "    <tr>\n",
       "      <th>4</th>\n",
       "      <td>Kumaraswamy Layout</td>\n",
       "      <td>12.908149</td>\n",
       "      <td>77.555318</td>\n",
       "    </tr>\n",
       "  </tbody>\n",
       "</table>\n",
       "</div>"
      ],
      "text/plain": [
       "                 Name   Latitude  Longitude\n",
       "0        Banashankari  15.887678  75.704678\n",
       "1        Basavanagudi  12.941726  77.575502\n",
       "2         Mysore Road  12.387214  76.666963\n",
       "3           Jayanagar  27.643927  83.052805\n",
       "4  Kumaraswamy Layout  12.908149  77.555318"
      ]
     },
     "execution_count": 20,
     "metadata": {},
     "output_type": "execute_result"
    }
   ],
   "source": [
    "locations['Latitude'] = lat\n",
    "locations['Longitude'] = lon\n",
    "locations.head()"
   ]
  },
  {
   "cell_type": "code",
   "execution_count": 22,
   "metadata": {},
   "outputs": [],
   "source": [
    "# converting dataframe in csv\n",
    "locations.to_csv('Dataset/location.csv', index=False)"
   ]
  },
  {
   "cell_type": "code",
   "execution_count": 25,
   "metadata": {},
   "outputs": [
    {
     "data": {
      "text/html": [
       "<div>\n",
       "<style scoped>\n",
       "    .dataframe tbody tr th:only-of-type {\n",
       "        vertical-align: middle;\n",
       "    }\n",
       "\n",
       "    .dataframe tbody tr th {\n",
       "        vertical-align: top;\n",
       "    }\n",
       "\n",
       "    .dataframe thead th {\n",
       "        text-align: right;\n",
       "    }\n",
       "</style>\n",
       "<table border=\"1\" class=\"dataframe\">\n",
       "  <thead>\n",
       "    <tr style=\"text-align: right;\">\n",
       "      <th></th>\n",
       "      <th>index</th>\n",
       "      <th>location</th>\n",
       "    </tr>\n",
       "  </thead>\n",
       "  <tbody>\n",
       "    <tr>\n",
       "      <th>0</th>\n",
       "      <td>BTM</td>\n",
       "      <td>5124</td>\n",
       "    </tr>\n",
       "    <tr>\n",
       "      <th>1</th>\n",
       "      <td>HSR</td>\n",
       "      <td>2523</td>\n",
       "    </tr>\n",
       "    <tr>\n",
       "      <th>2</th>\n",
       "      <td>Koramangala 5th Block</td>\n",
       "      <td>2504</td>\n",
       "    </tr>\n",
       "    <tr>\n",
       "      <th>3</th>\n",
       "      <td>JP Nagar</td>\n",
       "      <td>2235</td>\n",
       "    </tr>\n",
       "    <tr>\n",
       "      <th>4</th>\n",
       "      <td>Whitefield</td>\n",
       "      <td>2144</td>\n",
       "    </tr>\n",
       "  </tbody>\n",
       "</table>\n",
       "</div>"
      ],
      "text/plain": [
       "                   index  location\n",
       "0                    BTM      5124\n",
       "1                    HSR      2523\n",
       "2  Koramangala 5th Block      2504\n",
       "3               JP Nagar      2235\n",
       "4             Whitefield      2144"
      ]
     },
     "execution_count": 25,
     "metadata": {},
     "output_type": "execute_result"
    }
   ],
   "source": [
    "Rest_Location = df['location'].value_counts().reset_index()\n",
    "Rest_Location.head()"
   ]
  },
  {
   "cell_type": "code",
   "execution_count": 26,
   "metadata": {},
   "outputs": [
    {
     "data": {
      "text/html": [
       "<div>\n",
       "<style scoped>\n",
       "    .dataframe tbody tr th:only-of-type {\n",
       "        vertical-align: middle;\n",
       "    }\n",
       "\n",
       "    .dataframe tbody tr th {\n",
       "        vertical-align: top;\n",
       "    }\n",
       "\n",
       "    .dataframe thead th {\n",
       "        text-align: right;\n",
       "    }\n",
       "</style>\n",
       "<table border=\"1\" class=\"dataframe\">\n",
       "  <thead>\n",
       "    <tr style=\"text-align: right;\">\n",
       "      <th></th>\n",
       "      <th>Name</th>\n",
       "      <th>Count</th>\n",
       "    </tr>\n",
       "  </thead>\n",
       "  <tbody>\n",
       "    <tr>\n",
       "      <th>0</th>\n",
       "      <td>BTM</td>\n",
       "      <td>5124</td>\n",
       "    </tr>\n",
       "    <tr>\n",
       "      <th>1</th>\n",
       "      <td>HSR</td>\n",
       "      <td>2523</td>\n",
       "    </tr>\n",
       "    <tr>\n",
       "      <th>2</th>\n",
       "      <td>Koramangala 5th Block</td>\n",
       "      <td>2504</td>\n",
       "    </tr>\n",
       "    <tr>\n",
       "      <th>3</th>\n",
       "      <td>JP Nagar</td>\n",
       "      <td>2235</td>\n",
       "    </tr>\n",
       "    <tr>\n",
       "      <th>4</th>\n",
       "      <td>Whitefield</td>\n",
       "      <td>2144</td>\n",
       "    </tr>\n",
       "  </tbody>\n",
       "</table>\n",
       "</div>"
      ],
      "text/plain": [
       "                    Name  Count\n",
       "0                    BTM   5124\n",
       "1                    HSR   2523\n",
       "2  Koramangala 5th Block   2504\n",
       "3               JP Nagar   2235\n",
       "4             Whitefield   2144"
      ]
     },
     "execution_count": 26,
     "metadata": {},
     "output_type": "execute_result"
    }
   ],
   "source": [
    "# Name column is basically location and count column shows us amount of Restaurants in that location\n",
    "Rest_Location.columns=['Name', 'Count']\n",
    "Rest_Location.head()"
   ]
  },
  {
   "cell_type": "code",
   "execution_count": 27,
   "metadata": {},
   "outputs": [],
   "source": [
    "# mearning locations and Res_Locations Dataframe and dropping na values\n",
    "Restaurants_Locations = Rest_Location.merge(locations, on='Name', how='left').dropna()"
   ]
  },
  {
   "cell_type": "code",
   "execution_count": 28,
   "metadata": {},
   "outputs": [
    {
     "data": {
      "text/html": [
       "<div>\n",
       "<style scoped>\n",
       "    .dataframe tbody tr th:only-of-type {\n",
       "        vertical-align: middle;\n",
       "    }\n",
       "\n",
       "    .dataframe tbody tr th {\n",
       "        vertical-align: top;\n",
       "    }\n",
       "\n",
       "    .dataframe thead th {\n",
       "        text-align: right;\n",
       "    }\n",
       "</style>\n",
       "<table border=\"1\" class=\"dataframe\">\n",
       "  <thead>\n",
       "    <tr style=\"text-align: right;\">\n",
       "      <th></th>\n",
       "      <th>Name</th>\n",
       "      <th>Count</th>\n",
       "      <th>Latitude</th>\n",
       "      <th>Longitude</th>\n",
       "    </tr>\n",
       "  </thead>\n",
       "  <tbody>\n",
       "    <tr>\n",
       "      <th>0</th>\n",
       "      <td>BTM</td>\n",
       "      <td>5124</td>\n",
       "      <td>45.954851</td>\n",
       "      <td>-112.496595</td>\n",
       "    </tr>\n",
       "    <tr>\n",
       "      <th>1</th>\n",
       "      <td>HSR</td>\n",
       "      <td>2523</td>\n",
       "      <td>18.147500</td>\n",
       "      <td>41.538889</td>\n",
       "    </tr>\n",
       "    <tr>\n",
       "      <th>2</th>\n",
       "      <td>Koramangala 5th Block</td>\n",
       "      <td>2504</td>\n",
       "      <td>13.005409</td>\n",
       "      <td>74.794607</td>\n",
       "    </tr>\n",
       "    <tr>\n",
       "      <th>3</th>\n",
       "      <td>JP Nagar</td>\n",
       "      <td>2235</td>\n",
       "      <td>12.265594</td>\n",
       "      <td>76.646540</td>\n",
       "    </tr>\n",
       "    <tr>\n",
       "      <th>4</th>\n",
       "      <td>Whitefield</td>\n",
       "      <td>2144</td>\n",
       "      <td>44.373058</td>\n",
       "      <td>-71.611858</td>\n",
       "    </tr>\n",
       "  </tbody>\n",
       "</table>\n",
       "</div>"
      ],
      "text/plain": [
       "                    Name  Count   Latitude   Longitude\n",
       "0                    BTM   5124  45.954851 -112.496595\n",
       "1                    HSR   2523  18.147500   41.538889\n",
       "2  Koramangala 5th Block   2504  13.005409   74.794607\n",
       "3               JP Nagar   2235  12.265594   76.646540\n",
       "4             Whitefield   2144  44.373058  -71.611858"
      ]
     },
     "execution_count": 28,
     "metadata": {},
     "output_type": "execute_result"
    }
   ],
   "source": [
    "Restaurants_Locations.head()"
   ]
  },
  {
   "cell_type": "markdown",
   "metadata": {},
   "source": [
    "## Spatial Analysis on Restaurants_Locations DF"
   ]
  },
  {
   "cell_type": "code",
   "execution_count": 31,
   "metadata": {},
   "outputs": [],
   "source": [
    "import folium"
   ]
  },
  {
   "cell_type": "code",
   "execution_count": 42,
   "metadata": {},
   "outputs": [],
   "source": [
    "def generateBaseMap(defaul_location=[12.9716, 77.5946], default_zoom_start=12):\n",
    "    baseMap = folium.Map(location=defaul_location, zoom_start=default_zoom_start)\n",
    "    return baseMap"
   ]
  },
  {
   "cell_type": "code",
   "execution_count": 43,
   "metadata": {},
   "outputs": [
    {
     "data": {
      "text/html": [
       "<div style=\"width:100%;\"><div style=\"position:relative;width:100%;height:0;padding-bottom:60%;\"><span style=\"color:#565656\">Make this Notebook Trusted to load map: File -> Trust Notebook</span><iframe src=\"about:blank\" style=\"position:absolute;width:100%;height:100%;left:0;top:0;border:none !important;\" data-html=%3C%21DOCTYPE%20html%3E%0A%3Chead%3E%20%20%20%20%0A%20%20%20%20%3Cmeta%20http-equiv%3D%22content-type%22%20content%3D%22text/html%3B%20charset%3DUTF-8%22%20/%3E%0A%20%20%20%20%0A%20%20%20%20%20%20%20%20%3Cscript%3E%0A%20%20%20%20%20%20%20%20%20%20%20%20L_NO_TOUCH%20%3D%20false%3B%0A%20%20%20%20%20%20%20%20%20%20%20%20L_DISABLE_3D%20%3D%20false%3B%0A%20%20%20%20%20%20%20%20%3C/script%3E%0A%20%20%20%20%0A%20%20%20%20%3Cstyle%3Ehtml%2C%20body%20%7Bwidth%3A%20100%25%3Bheight%3A%20100%25%3Bmargin%3A%200%3Bpadding%3A%200%3B%7D%3C/style%3E%0A%20%20%20%20%3Cstyle%3E%23map%20%7Bposition%3Aabsolute%3Btop%3A0%3Bbottom%3A0%3Bright%3A0%3Bleft%3A0%3B%7D%3C/style%3E%0A%20%20%20%20%3Cscript%20src%3D%22https%3A//cdn.jsdelivr.net/npm/leaflet%401.6.0/dist/leaflet.js%22%3E%3C/script%3E%0A%20%20%20%20%3Cscript%20src%3D%22https%3A//code.jquery.com/jquery-1.12.4.min.js%22%3E%3C/script%3E%0A%20%20%20%20%3Cscript%20src%3D%22https%3A//maxcdn.bootstrapcdn.com/bootstrap/3.2.0/js/bootstrap.min.js%22%3E%3C/script%3E%0A%20%20%20%20%3Cscript%20src%3D%22https%3A//cdnjs.cloudflare.com/ajax/libs/Leaflet.awesome-markers/2.0.2/leaflet.awesome-markers.js%22%3E%3C/script%3E%0A%20%20%20%20%3Clink%20rel%3D%22stylesheet%22%20href%3D%22https%3A//cdn.jsdelivr.net/npm/leaflet%401.6.0/dist/leaflet.css%22/%3E%0A%20%20%20%20%3Clink%20rel%3D%22stylesheet%22%20href%3D%22https%3A//maxcdn.bootstrapcdn.com/bootstrap/3.2.0/css/bootstrap.min.css%22/%3E%0A%20%20%20%20%3Clink%20rel%3D%22stylesheet%22%20href%3D%22https%3A//maxcdn.bootstrapcdn.com/bootstrap/3.2.0/css/bootstrap-theme.min.css%22/%3E%0A%20%20%20%20%3Clink%20rel%3D%22stylesheet%22%20href%3D%22https%3A//maxcdn.bootstrapcdn.com/font-awesome/4.6.3/css/font-awesome.min.css%22/%3E%0A%20%20%20%20%3Clink%20rel%3D%22stylesheet%22%20href%3D%22https%3A//cdnjs.cloudflare.com/ajax/libs/Leaflet.awesome-markers/2.0.2/leaflet.awesome-markers.css%22/%3E%0A%20%20%20%20%3Clink%20rel%3D%22stylesheet%22%20href%3D%22https%3A//cdn.jsdelivr.net/gh/python-visualization/folium/folium/templates/leaflet.awesome.rotate.min.css%22/%3E%0A%20%20%20%20%0A%20%20%20%20%20%20%20%20%20%20%20%20%3Cmeta%20name%3D%22viewport%22%20content%3D%22width%3Ddevice-width%2C%0A%20%20%20%20%20%20%20%20%20%20%20%20%20%20%20%20initial-scale%3D1.0%2C%20maximum-scale%3D1.0%2C%20user-scalable%3Dno%22%20/%3E%0A%20%20%20%20%20%20%20%20%20%20%20%20%3Cstyle%3E%0A%20%20%20%20%20%20%20%20%20%20%20%20%20%20%20%20%23map_39dda0a1c5d64842af78e22cedad88f9%20%7B%0A%20%20%20%20%20%20%20%20%20%20%20%20%20%20%20%20%20%20%20%20position%3A%20relative%3B%0A%20%20%20%20%20%20%20%20%20%20%20%20%20%20%20%20%20%20%20%20width%3A%20100.0%25%3B%0A%20%20%20%20%20%20%20%20%20%20%20%20%20%20%20%20%20%20%20%20height%3A%20100.0%25%3B%0A%20%20%20%20%20%20%20%20%20%20%20%20%20%20%20%20%20%20%20%20left%3A%200.0%25%3B%0A%20%20%20%20%20%20%20%20%20%20%20%20%20%20%20%20%20%20%20%20top%3A%200.0%25%3B%0A%20%20%20%20%20%20%20%20%20%20%20%20%20%20%20%20%7D%0A%20%20%20%20%20%20%20%20%20%20%20%20%3C/style%3E%0A%20%20%20%20%20%20%20%20%0A%3C/head%3E%0A%3Cbody%3E%20%20%20%20%0A%20%20%20%20%0A%20%20%20%20%20%20%20%20%20%20%20%20%3Cdiv%20class%3D%22folium-map%22%20id%3D%22map_39dda0a1c5d64842af78e22cedad88f9%22%20%3E%3C/div%3E%0A%20%20%20%20%20%20%20%20%0A%3C/body%3E%0A%3Cscript%3E%20%20%20%20%0A%20%20%20%20%0A%20%20%20%20%20%20%20%20%20%20%20%20var%20map_39dda0a1c5d64842af78e22cedad88f9%20%3D%20L.map%28%0A%20%20%20%20%20%20%20%20%20%20%20%20%20%20%20%20%22map_39dda0a1c5d64842af78e22cedad88f9%22%2C%0A%20%20%20%20%20%20%20%20%20%20%20%20%20%20%20%20%7B%0A%20%20%20%20%20%20%20%20%20%20%20%20%20%20%20%20%20%20%20%20center%3A%20%5B12.9716%2C%2077.5946%5D%2C%0A%20%20%20%20%20%20%20%20%20%20%20%20%20%20%20%20%20%20%20%20crs%3A%20L.CRS.EPSG3857%2C%0A%20%20%20%20%20%20%20%20%20%20%20%20%20%20%20%20%20%20%20%20zoom%3A%2012%2C%0A%20%20%20%20%20%20%20%20%20%20%20%20%20%20%20%20%20%20%20%20zoomControl%3A%20true%2C%0A%20%20%20%20%20%20%20%20%20%20%20%20%20%20%20%20%20%20%20%20preferCanvas%3A%20false%2C%0A%20%20%20%20%20%20%20%20%20%20%20%20%20%20%20%20%7D%0A%20%20%20%20%20%20%20%20%20%20%20%20%29%3B%0A%0A%20%20%20%20%20%20%20%20%20%20%20%20%0A%0A%20%20%20%20%20%20%20%20%0A%20%20%20%20%0A%20%20%20%20%20%20%20%20%20%20%20%20var%20tile_layer_9f72edd3385b4d748dfbdf8c68d94fd4%20%3D%20L.tileLayer%28%0A%20%20%20%20%20%20%20%20%20%20%20%20%20%20%20%20%22https%3A//%7Bs%7D.tile.openstreetmap.org/%7Bz%7D/%7Bx%7D/%7By%7D.png%22%2C%0A%20%20%20%20%20%20%20%20%20%20%20%20%20%20%20%20%7B%22attribution%22%3A%20%22Data%20by%20%5Cu0026copy%3B%20%5Cu003ca%20href%3D%5C%22http%3A//openstreetmap.org%5C%22%5Cu003eOpenStreetMap%5Cu003c/a%5Cu003e%2C%20under%20%5Cu003ca%20href%3D%5C%22http%3A//www.openstreetmap.org/copyright%5C%22%5Cu003eODbL%5Cu003c/a%5Cu003e.%22%2C%20%22detectRetina%22%3A%20false%2C%20%22maxNativeZoom%22%3A%2018%2C%20%22maxZoom%22%3A%2018%2C%20%22minZoom%22%3A%200%2C%20%22noWrap%22%3A%20false%2C%20%22opacity%22%3A%201%2C%20%22subdomains%22%3A%20%22abc%22%2C%20%22tms%22%3A%20false%7D%0A%20%20%20%20%20%20%20%20%20%20%20%20%29.addTo%28map_39dda0a1c5d64842af78e22cedad88f9%29%3B%0A%20%20%20%20%20%20%20%20%0A%3C/script%3E onload=\"this.contentDocument.open();this.contentDocument.write(    decodeURIComponent(this.getAttribute('data-html')));this.contentDocument.close();\" allowfullscreen webkitallowfullscreen mozallowfullscreen></iframe></div></div>"
      ],
      "text/plain": [
       "<folium.folium.Map at 0x213c41bc910>"
      ]
     },
     "execution_count": 43,
     "metadata": {},
     "output_type": "execute_result"
    }
   ],
   "source": [
    "baseMap = generateBaseMap()\n",
    "baseMap"
   ]
  },
  {
   "cell_type": "markdown",
   "metadata": {},
   "source": [
    "#### Creating heatmap of all the restaurants in Restaurants_Locations DF"
   ]
  },
  {
   "cell_type": "code",
   "execution_count": 37,
   "metadata": {},
   "outputs": [],
   "source": [
    "from folium.plugins import HeatMap"
   ]
  },
  {
   "cell_type": "code",
   "execution_count": 44,
   "metadata": {},
   "outputs": [
    {
     "data": {
      "text/plain": [
       "<folium.plugins.heat_map.HeatMap at 0x213c41bc370>"
      ]
     },
     "execution_count": 44,
     "metadata": {},
     "output_type": "execute_result"
    }
   ],
   "source": [
    "HeatMap(Restaurants_Locations[['Latitude', 'Longitude', 'Count']], zoom=20).add_to(baseMap)"
   ]
  },
  {
   "cell_type": "code",
   "execution_count": 45,
   "metadata": {},
   "outputs": [
    {
     "data": {
      "text/html": [
       "<div style=\"width:100%;\"><div style=\"position:relative;width:100%;height:0;padding-bottom:60%;\"><span style=\"color:#565656\">Make this Notebook Trusted to load map: File -> Trust Notebook</span><iframe src=\"about:blank\" style=\"position:absolute;width:100%;height:100%;left:0;top:0;border:none !important;\" data-html=%3C%21DOCTYPE%20html%3E%0A%3Chead%3E%20%20%20%20%0A%20%20%20%20%3Cmeta%20http-equiv%3D%22content-type%22%20content%3D%22text/html%3B%20charset%3DUTF-8%22%20/%3E%0A%20%20%20%20%0A%20%20%20%20%20%20%20%20%3Cscript%3E%0A%20%20%20%20%20%20%20%20%20%20%20%20L_NO_TOUCH%20%3D%20false%3B%0A%20%20%20%20%20%20%20%20%20%20%20%20L_DISABLE_3D%20%3D%20false%3B%0A%20%20%20%20%20%20%20%20%3C/script%3E%0A%20%20%20%20%0A%20%20%20%20%3Cstyle%3Ehtml%2C%20body%20%7Bwidth%3A%20100%25%3Bheight%3A%20100%25%3Bmargin%3A%200%3Bpadding%3A%200%3B%7D%3C/style%3E%0A%20%20%20%20%3Cstyle%3E%23map%20%7Bposition%3Aabsolute%3Btop%3A0%3Bbottom%3A0%3Bright%3A0%3Bleft%3A0%3B%7D%3C/style%3E%0A%20%20%20%20%3Cscript%20src%3D%22https%3A//cdn.jsdelivr.net/npm/leaflet%401.6.0/dist/leaflet.js%22%3E%3C/script%3E%0A%20%20%20%20%3Cscript%20src%3D%22https%3A//code.jquery.com/jquery-1.12.4.min.js%22%3E%3C/script%3E%0A%20%20%20%20%3Cscript%20src%3D%22https%3A//maxcdn.bootstrapcdn.com/bootstrap/3.2.0/js/bootstrap.min.js%22%3E%3C/script%3E%0A%20%20%20%20%3Cscript%20src%3D%22https%3A//cdnjs.cloudflare.com/ajax/libs/Leaflet.awesome-markers/2.0.2/leaflet.awesome-markers.js%22%3E%3C/script%3E%0A%20%20%20%20%3Clink%20rel%3D%22stylesheet%22%20href%3D%22https%3A//cdn.jsdelivr.net/npm/leaflet%401.6.0/dist/leaflet.css%22/%3E%0A%20%20%20%20%3Clink%20rel%3D%22stylesheet%22%20href%3D%22https%3A//maxcdn.bootstrapcdn.com/bootstrap/3.2.0/css/bootstrap.min.css%22/%3E%0A%20%20%20%20%3Clink%20rel%3D%22stylesheet%22%20href%3D%22https%3A//maxcdn.bootstrapcdn.com/bootstrap/3.2.0/css/bootstrap-theme.min.css%22/%3E%0A%20%20%20%20%3Clink%20rel%3D%22stylesheet%22%20href%3D%22https%3A//maxcdn.bootstrapcdn.com/font-awesome/4.6.3/css/font-awesome.min.css%22/%3E%0A%20%20%20%20%3Clink%20rel%3D%22stylesheet%22%20href%3D%22https%3A//cdnjs.cloudflare.com/ajax/libs/Leaflet.awesome-markers/2.0.2/leaflet.awesome-markers.css%22/%3E%0A%20%20%20%20%3Clink%20rel%3D%22stylesheet%22%20href%3D%22https%3A//cdn.jsdelivr.net/gh/python-visualization/folium/folium/templates/leaflet.awesome.rotate.min.css%22/%3E%0A%20%20%20%20%0A%20%20%20%20%20%20%20%20%20%20%20%20%3Cmeta%20name%3D%22viewport%22%20content%3D%22width%3Ddevice-width%2C%0A%20%20%20%20%20%20%20%20%20%20%20%20%20%20%20%20initial-scale%3D1.0%2C%20maximum-scale%3D1.0%2C%20user-scalable%3Dno%22%20/%3E%0A%20%20%20%20%20%20%20%20%20%20%20%20%3Cstyle%3E%0A%20%20%20%20%20%20%20%20%20%20%20%20%20%20%20%20%23map_39dda0a1c5d64842af78e22cedad88f9%20%7B%0A%20%20%20%20%20%20%20%20%20%20%20%20%20%20%20%20%20%20%20%20position%3A%20relative%3B%0A%20%20%20%20%20%20%20%20%20%20%20%20%20%20%20%20%20%20%20%20width%3A%20100.0%25%3B%0A%20%20%20%20%20%20%20%20%20%20%20%20%20%20%20%20%20%20%20%20height%3A%20100.0%25%3B%0A%20%20%20%20%20%20%20%20%20%20%20%20%20%20%20%20%20%20%20%20left%3A%200.0%25%3B%0A%20%20%20%20%20%20%20%20%20%20%20%20%20%20%20%20%20%20%20%20top%3A%200.0%25%3B%0A%20%20%20%20%20%20%20%20%20%20%20%20%20%20%20%20%7D%0A%20%20%20%20%20%20%20%20%20%20%20%20%3C/style%3E%0A%20%20%20%20%20%20%20%20%0A%20%20%20%20%3Cscript%20src%3D%22https%3A//cdn.jsdelivr.net/gh/python-visualization/folium%40master/folium/templates/leaflet_heat.min.js%22%3E%3C/script%3E%0A%3C/head%3E%0A%3Cbody%3E%20%20%20%20%0A%20%20%20%20%0A%20%20%20%20%20%20%20%20%20%20%20%20%3Cdiv%20class%3D%22folium-map%22%20id%3D%22map_39dda0a1c5d64842af78e22cedad88f9%22%20%3E%3C/div%3E%0A%20%20%20%20%20%20%20%20%0A%3C/body%3E%0A%3Cscript%3E%20%20%20%20%0A%20%20%20%20%0A%20%20%20%20%20%20%20%20%20%20%20%20var%20map_39dda0a1c5d64842af78e22cedad88f9%20%3D%20L.map%28%0A%20%20%20%20%20%20%20%20%20%20%20%20%20%20%20%20%22map_39dda0a1c5d64842af78e22cedad88f9%22%2C%0A%20%20%20%20%20%20%20%20%20%20%20%20%20%20%20%20%7B%0A%20%20%20%20%20%20%20%20%20%20%20%20%20%20%20%20%20%20%20%20center%3A%20%5B12.9716%2C%2077.5946%5D%2C%0A%20%20%20%20%20%20%20%20%20%20%20%20%20%20%20%20%20%20%20%20crs%3A%20L.CRS.EPSG3857%2C%0A%20%20%20%20%20%20%20%20%20%20%20%20%20%20%20%20%20%20%20%20zoom%3A%2012%2C%0A%20%20%20%20%20%20%20%20%20%20%20%20%20%20%20%20%20%20%20%20zoomControl%3A%20true%2C%0A%20%20%20%20%20%20%20%20%20%20%20%20%20%20%20%20%20%20%20%20preferCanvas%3A%20false%2C%0A%20%20%20%20%20%20%20%20%20%20%20%20%20%20%20%20%7D%0A%20%20%20%20%20%20%20%20%20%20%20%20%29%3B%0A%0A%20%20%20%20%20%20%20%20%20%20%20%20%0A%0A%20%20%20%20%20%20%20%20%0A%20%20%20%20%0A%20%20%20%20%20%20%20%20%20%20%20%20var%20tile_layer_9f72edd3385b4d748dfbdf8c68d94fd4%20%3D%20L.tileLayer%28%0A%20%20%20%20%20%20%20%20%20%20%20%20%20%20%20%20%22https%3A//%7Bs%7D.tile.openstreetmap.org/%7Bz%7D/%7Bx%7D/%7By%7D.png%22%2C%0A%20%20%20%20%20%20%20%20%20%20%20%20%20%20%20%20%7B%22attribution%22%3A%20%22Data%20by%20%5Cu0026copy%3B%20%5Cu003ca%20href%3D%5C%22http%3A//openstreetmap.org%5C%22%5Cu003eOpenStreetMap%5Cu003c/a%5Cu003e%2C%20under%20%5Cu003ca%20href%3D%5C%22http%3A//www.openstreetmap.org/copyright%5C%22%5Cu003eODbL%5Cu003c/a%5Cu003e.%22%2C%20%22detectRetina%22%3A%20false%2C%20%22maxNativeZoom%22%3A%2018%2C%20%22maxZoom%22%3A%2018%2C%20%22minZoom%22%3A%200%2C%20%22noWrap%22%3A%20false%2C%20%22opacity%22%3A%201%2C%20%22subdomains%22%3A%20%22abc%22%2C%20%22tms%22%3A%20false%7D%0A%20%20%20%20%20%20%20%20%20%20%20%20%29.addTo%28map_39dda0a1c5d64842af78e22cedad88f9%29%3B%0A%20%20%20%20%20%20%20%20%0A%20%20%20%20%0A%20%20%20%20%20%20%20%20%20%20%20%20var%20heat_map_b6d05ecceadc4507a197fb71111bb8c0%20%3D%20L.heatLayer%28%0A%20%20%20%20%20%20%20%20%20%20%20%20%20%20%20%20%5B%5B45.95485055%2C%20-112.49659530324134%2C%205124.0%5D%2C%20%5B18.1475%2C%2041.538889%2C%202523.0%5D%2C%20%5B13.00540865%2C%2074.79460685941484%2C%202504.0%5D%2C%20%5B12.2655944%2C%2076.6465404%2C%202235.0%5D%2C%20%5B44.3730577%2C%20-71.6118577%2C%202144.0%5D%2C%20%5B12.9732913%2C%2077.6404672%2C%202083.0%5D%2C%20%5B27.64392675%2C%2083.05280519687284%2C%201926.0%5D%2C%20%5B12.9552572%2C%2077.6984163%2C%201846.0%5D%2C%20%5B12.887979%2C%2077.5970812%2C%201630.0%5D%2C%20%5B12.93577245%2C%2077.66676103753434%2C%201286.0%5D%2C%20%5B-6.2659285%2C%20106.7842561%2C%201258.0%5D%2C%20%5B14.5395813%2C%20121.070371%2C%201238.0%5D%2C%20%5B40.28745%2C%20-76.964526%2C%201218.0%5D%2C%20%5B13.0078418%2C%2074.7963208%2C%201181.0%5D%2C%20%5B12.9400321%2C%2077.6203272%2C%201156.0%5D%2C%20%5B12.9242381%2C%2077.6289059%2C%201065.0%5D%2C%20%5B12.9778793%2C%2077.6246697%2C%201023.0%5D%2C%20%5B12.93433385%2C%2077.63040639553275%2C%201017.0%5D%2C%20%5B17.9895618%2C%2079.5967057%2C%20918.0%5D%2C%20%5B15.8876779%2C%2075.7046777%2C%20906.0%5D%2C%20%5B13.0221416%2C%2077.6403368%2C%20853.0%5D%2C%20%5B50.7721586%2C%200.09772783661369303%2C%20812.0%5D%2C%20%5B12.996845%2C%2077.6130165%2C%20727.0%5D%2C%20%5B13.0027353%2C%2077.5703253%2C%20725.0%5D%2C%20%5B12.9417261%2C%2077.5755021%2C%20684.0%5D%2C%20%5B38.7385916%2C%20-77.5275749%2C%20675.0%5D%2C%20%5B13.0141618%2C%2077.6518539%2C%20664.0%5D%2C%20%5B33.5935063%2C%20-79.0345627%2C%20658.0%5D%2C%20%5B13.0346384%2C%2077.5681733%2C%20649.0%5D%2C%20%5B13.0093455%2C%2077.6377094%2C%20648.0%5D%2C%20%5B12.9882338%2C%2077.554883%2C%20591.0%5D%2C%20%5B51.373656%2C%20-0.1042366%2C%20569.0%5D%2C%20%5B40.7652844%2C%20-76.373824%2C%20529.0%5D%2C%20%5B12.9575547%2C%2077.5979099%2C%20511.0%5D%2C%20%5B18.5322493%2C%2073.8499601124847%2C%20499.0%5D%2C%20%5B12.9624669%2C%2077.6381958%2C%20496.0%5D%2C%20%5B31.89376%2C%20-88.066644%2C%20491.0%5D%2C%20%5B38.4876975%2C%20-109.4595323%2C%20446.0%5D%2C%20%5B12.945245%2C%2077.6269144%2C%20439.0%5D%2C%20%5B51.5173375%2C%20-0.073532%2C%20370.0%5D%2C%20%5B51.5227651%2C%20-0.7354457%2C%20352.0%5D%2C%20%5B12.9417812%2C%2077.6160146%2C%20320.0%5D%2C%20%5B12.988721250000001%2C%2077.58516877601824%2C%20295.0%5D%2C%20%5B12.9678074%2C%2077.6568367%2C%20272.0%5D%2C%20%5B12.9489339%2C%2077.5968273%2C%20246.0%5D%2C%20%5B12.9089453%2C%2077.6239038%2C%20238.0%5D%2C%20%5B12.9271867%2C%2077.6266252%2C%20216.0%5D%2C%20%5B12.9081487%2C%2077.5553179%2C%20195.0%5D%2C%20%5B12.973936%2C%2077.6509982%2C%20194.0%5D%2C%20%5B12.9932739%2C%2077.5388099%2C%20191.0%5D%2C%20%5B13.2227%2C%2078.5541977%2C%20187.0%5D%2C%20%5B12.9931876%2C%2077.5753419%2C%20165.0%5D%2C%20%5B13.0258087%2C%2077.6305067%2C%20161.0%5D%2C%20%5B1.2847055%2C%20103.84320655721689%2C%20155.0%5D%2C%20%5B13.0358698%2C%2077.6323597%2C%20153.0%5D%2C%20%5B34.977289%2C%20-78.974578%2C%20151.0%5D%2C%20%5B22.3146438%2C%2073.1597756%2C%20139.0%5D%2C%20%5B39.76880625%2C%20-86.15345077251979%2C%20126.0%5D%2C%20%5B13.02383%2C%2077.5529215%2C%20119.0%5D%2C%20%5B12.9414662%2C%2077.7470942%2C%20117.0%5D%2C%20%5B12.967576%2C%2077.7150877%2C%20113.0%5D%2C%20%5B13.0646907%2C%2077.49626895712257%2C%20107.0%5D%2C%20%5B12.9243509%2C%2077.6255562%2C%20102.0%5D%2C%20%5B12.773175%2C%2077.7831871%2C%20102.0%5D%2C%20%5B12.9846713%2C%2077.6790908%2C%20101.0%5D%2C%20%5B17.2510682%2C%2080.1651978%2C%2090.0%5D%2C%20%5B13.0227204%2C%2077.595715%2C%2080.0%5D%2C%20%5B22.8359967%2C%2069.3405962%2C%2080.0%5D%2C%20%5B23.1485712%2C%2081.6048241%2C%2076.0%5D%2C%20%5B15.8782951%2C%2074.5084834%2C%2063.0%5D%2C%20%5B13.0621474%2C%2077.58006135480495%2C%2053.0%5D%2C%20%5B13.2923988%2C%2077.7519261%2C%2048.0%5D%2C%20%5B13.0215466%2C%2077.7640586%2C%2044.0%5D%2C%20%5B11.9917786%2C%2076.5066292%2C%2038.0%5D%2C%20%5B12.945048%2C%2077.263004%2C%2034.0%5D%2C%20%5B12.957998%2C%2077.6037312%2C%2027.0%5D%2C%20%5B38.7801076%2C%20-121.5056438%2C%2027.0%5D%2C%20%5B12.3872141%2C%2076.6669626%2C%2022.0%5D%2C%20%5B13.194416%2C%2078.7011301%2C%2022.0%5D%2C%20%5B12.5607431%2C%2077.4258375%2C%2019.0%5D%2C%20%5B13.007516%2C%2077.695935%2C%2018.0%5D%2C%20%5B12.9055682%2C%2077.5455438%2C%2017.0%5D%2C%20%5B13.0217151%2C%2077.7660547%2C%2014.0%5D%2C%20%5B13.0382184%2C%2077.5919%2C%2014.0%5D%2C%20%5B12.9546741%2C%2077.5121724%2C%209.0%5D%2C%20%5B12.9176571%2C%2077.4837568%2C%209.0%5D%2C%20%5B13.0101286%2C%2077.5548006%2C%208.0%5D%2C%20%5B13.0011289%2C%2077.6325617%2C%206.0%5D%2C%20%5B13.1006982%2C%2077.5963454%2C%206.0%5D%2C%20%5B13.0784743%2C%2077.6068938%2C%203.0%5D%2C%20%5B12.9274413%2C%2077.5155224%2C%202.0%5D%2C%20%5B13.0329419%2C%2077.5273253%2C%201.0%5D%5D%2C%0A%20%20%20%20%20%20%20%20%20%20%20%20%20%20%20%20%7B%22blur%22%3A%2015%2C%20%22maxZoom%22%3A%2018%2C%20%22minOpacity%22%3A%200.5%2C%20%22radius%22%3A%2025%2C%20%22zoom%22%3A%2020%7D%0A%20%20%20%20%20%20%20%20%20%20%20%20%29.addTo%28map_39dda0a1c5d64842af78e22cedad88f9%29%3B%0A%20%20%20%20%20%20%20%20%0A%3C/script%3E onload=\"this.contentDocument.open();this.contentDocument.write(    decodeURIComponent(this.getAttribute('data-html')));this.contentDocument.close();\" allowfullscreen webkitallowfullscreen mozallowfullscreen></iframe></div></div>"
      ],
      "text/plain": [
       "<folium.folium.Map at 0x213c41bc910>"
      ]
     },
     "execution_count": 45,
     "metadata": {},
     "output_type": "execute_result"
    }
   ],
   "source": [
    "baseMap"
   ]
  },
  {
   "cell_type": "markdown",
   "metadata": {},
   "source": [
    "#### Marker Cluster"
   ]
  },
  {
   "cell_type": "code",
   "execution_count": 46,
   "metadata": {},
   "outputs": [],
   "source": [
    "from folium.plugins import FastMarkerCluster "
   ]
  },
  {
   "cell_type": "code",
   "execution_count": 47,
   "metadata": {},
   "outputs": [
    {
     "data": {
      "text/plain": [
       "<folium.plugins.fast_marker_cluster.FastMarkerCluster at 0x213c421b820>"
      ]
     },
     "execution_count": 47,
     "metadata": {},
     "output_type": "execute_result"
    }
   ],
   "source": [
    "FastMarkerCluster(Restaurants_Locations[['Latitude', 'Longitude', 'Count']], zoom=20).add_to(baseMap)"
   ]
  },
  {
   "cell_type": "code",
   "execution_count": 48,
   "metadata": {},
   "outputs": [
    {
     "data": {
      "text/html": [
       "<div style=\"width:100%;\"><div style=\"position:relative;width:100%;height:0;padding-bottom:60%;\"><span style=\"color:#565656\">Make this Notebook Trusted to load map: File -> Trust Notebook</span><iframe src=\"about:blank\" style=\"position:absolute;width:100%;height:100%;left:0;top:0;border:none !important;\" data-html=%3C%21DOCTYPE%20html%3E%0A%3Chead%3E%20%20%20%20%0A%20%20%20%20%3Cmeta%20http-equiv%3D%22content-type%22%20content%3D%22text/html%3B%20charset%3DUTF-8%22%20/%3E%0A%20%20%20%20%0A%20%20%20%20%20%20%20%20%3Cscript%3E%0A%20%20%20%20%20%20%20%20%20%20%20%20L_NO_TOUCH%20%3D%20false%3B%0A%20%20%20%20%20%20%20%20%20%20%20%20L_DISABLE_3D%20%3D%20false%3B%0A%20%20%20%20%20%20%20%20%3C/script%3E%0A%20%20%20%20%0A%20%20%20%20%3Cstyle%3Ehtml%2C%20body%20%7Bwidth%3A%20100%25%3Bheight%3A%20100%25%3Bmargin%3A%200%3Bpadding%3A%200%3B%7D%3C/style%3E%0A%20%20%20%20%3Cstyle%3E%23map%20%7Bposition%3Aabsolute%3Btop%3A0%3Bbottom%3A0%3Bright%3A0%3Bleft%3A0%3B%7D%3C/style%3E%0A%20%20%20%20%3Cscript%20src%3D%22https%3A//cdn.jsdelivr.net/npm/leaflet%401.6.0/dist/leaflet.js%22%3E%3C/script%3E%0A%20%20%20%20%3Cscript%20src%3D%22https%3A//code.jquery.com/jquery-1.12.4.min.js%22%3E%3C/script%3E%0A%20%20%20%20%3Cscript%20src%3D%22https%3A//maxcdn.bootstrapcdn.com/bootstrap/3.2.0/js/bootstrap.min.js%22%3E%3C/script%3E%0A%20%20%20%20%3Cscript%20src%3D%22https%3A//cdnjs.cloudflare.com/ajax/libs/Leaflet.awesome-markers/2.0.2/leaflet.awesome-markers.js%22%3E%3C/script%3E%0A%20%20%20%20%3Clink%20rel%3D%22stylesheet%22%20href%3D%22https%3A//cdn.jsdelivr.net/npm/leaflet%401.6.0/dist/leaflet.css%22/%3E%0A%20%20%20%20%3Clink%20rel%3D%22stylesheet%22%20href%3D%22https%3A//maxcdn.bootstrapcdn.com/bootstrap/3.2.0/css/bootstrap.min.css%22/%3E%0A%20%20%20%20%3Clink%20rel%3D%22stylesheet%22%20href%3D%22https%3A//maxcdn.bootstrapcdn.com/bootstrap/3.2.0/css/bootstrap-theme.min.css%22/%3E%0A%20%20%20%20%3Clink%20rel%3D%22stylesheet%22%20href%3D%22https%3A//maxcdn.bootstrapcdn.com/font-awesome/4.6.3/css/font-awesome.min.css%22/%3E%0A%20%20%20%20%3Clink%20rel%3D%22stylesheet%22%20href%3D%22https%3A//cdnjs.cloudflare.com/ajax/libs/Leaflet.awesome-markers/2.0.2/leaflet.awesome-markers.css%22/%3E%0A%20%20%20%20%3Clink%20rel%3D%22stylesheet%22%20href%3D%22https%3A//cdn.jsdelivr.net/gh/python-visualization/folium/folium/templates/leaflet.awesome.rotate.min.css%22/%3E%0A%20%20%20%20%0A%20%20%20%20%20%20%20%20%20%20%20%20%3Cmeta%20name%3D%22viewport%22%20content%3D%22width%3Ddevice-width%2C%0A%20%20%20%20%20%20%20%20%20%20%20%20%20%20%20%20initial-scale%3D1.0%2C%20maximum-scale%3D1.0%2C%20user-scalable%3Dno%22%20/%3E%0A%20%20%20%20%20%20%20%20%20%20%20%20%3Cstyle%3E%0A%20%20%20%20%20%20%20%20%20%20%20%20%20%20%20%20%23map_39dda0a1c5d64842af78e22cedad88f9%20%7B%0A%20%20%20%20%20%20%20%20%20%20%20%20%20%20%20%20%20%20%20%20position%3A%20relative%3B%0A%20%20%20%20%20%20%20%20%20%20%20%20%20%20%20%20%20%20%20%20width%3A%20100.0%25%3B%0A%20%20%20%20%20%20%20%20%20%20%20%20%20%20%20%20%20%20%20%20height%3A%20100.0%25%3B%0A%20%20%20%20%20%20%20%20%20%20%20%20%20%20%20%20%20%20%20%20left%3A%200.0%25%3B%0A%20%20%20%20%20%20%20%20%20%20%20%20%20%20%20%20%20%20%20%20top%3A%200.0%25%3B%0A%20%20%20%20%20%20%20%20%20%20%20%20%20%20%20%20%7D%0A%20%20%20%20%20%20%20%20%20%20%20%20%3C/style%3E%0A%20%20%20%20%20%20%20%20%0A%20%20%20%20%3Cscript%20src%3D%22https%3A//cdn.jsdelivr.net/gh/python-visualization/folium%40master/folium/templates/leaflet_heat.min.js%22%3E%3C/script%3E%0A%20%20%20%20%3Cscript%20src%3D%22https%3A//cdnjs.cloudflare.com/ajax/libs/leaflet.markercluster/1.1.0/leaflet.markercluster.js%22%3E%3C/script%3E%0A%20%20%20%20%3Clink%20rel%3D%22stylesheet%22%20href%3D%22https%3A//cdnjs.cloudflare.com/ajax/libs/leaflet.markercluster/1.1.0/MarkerCluster.css%22/%3E%0A%20%20%20%20%3Clink%20rel%3D%22stylesheet%22%20href%3D%22https%3A//cdnjs.cloudflare.com/ajax/libs/leaflet.markercluster/1.1.0/MarkerCluster.Default.css%22/%3E%0A%3C/head%3E%0A%3Cbody%3E%20%20%20%20%0A%20%20%20%20%0A%20%20%20%20%20%20%20%20%20%20%20%20%3Cdiv%20class%3D%22folium-map%22%20id%3D%22map_39dda0a1c5d64842af78e22cedad88f9%22%20%3E%3C/div%3E%0A%20%20%20%20%20%20%20%20%0A%3C/body%3E%0A%3Cscript%3E%20%20%20%20%0A%20%20%20%20%0A%20%20%20%20%20%20%20%20%20%20%20%20var%20map_39dda0a1c5d64842af78e22cedad88f9%20%3D%20L.map%28%0A%20%20%20%20%20%20%20%20%20%20%20%20%20%20%20%20%22map_39dda0a1c5d64842af78e22cedad88f9%22%2C%0A%20%20%20%20%20%20%20%20%20%20%20%20%20%20%20%20%7B%0A%20%20%20%20%20%20%20%20%20%20%20%20%20%20%20%20%20%20%20%20center%3A%20%5B12.9716%2C%2077.5946%5D%2C%0A%20%20%20%20%20%20%20%20%20%20%20%20%20%20%20%20%20%20%20%20crs%3A%20L.CRS.EPSG3857%2C%0A%20%20%20%20%20%20%20%20%20%20%20%20%20%20%20%20%20%20%20%20zoom%3A%2012%2C%0A%20%20%20%20%20%20%20%20%20%20%20%20%20%20%20%20%20%20%20%20zoomControl%3A%20true%2C%0A%20%20%20%20%20%20%20%20%20%20%20%20%20%20%20%20%20%20%20%20preferCanvas%3A%20false%2C%0A%20%20%20%20%20%20%20%20%20%20%20%20%20%20%20%20%7D%0A%20%20%20%20%20%20%20%20%20%20%20%20%29%3B%0A%0A%20%20%20%20%20%20%20%20%20%20%20%20%0A%0A%20%20%20%20%20%20%20%20%0A%20%20%20%20%0A%20%20%20%20%20%20%20%20%20%20%20%20var%20tile_layer_9f72edd3385b4d748dfbdf8c68d94fd4%20%3D%20L.tileLayer%28%0A%20%20%20%20%20%20%20%20%20%20%20%20%20%20%20%20%22https%3A//%7Bs%7D.tile.openstreetmap.org/%7Bz%7D/%7Bx%7D/%7By%7D.png%22%2C%0A%20%20%20%20%20%20%20%20%20%20%20%20%20%20%20%20%7B%22attribution%22%3A%20%22Data%20by%20%5Cu0026copy%3B%20%5Cu003ca%20href%3D%5C%22http%3A//openstreetmap.org%5C%22%5Cu003eOpenStreetMap%5Cu003c/a%5Cu003e%2C%20under%20%5Cu003ca%20href%3D%5C%22http%3A//www.openstreetmap.org/copyright%5C%22%5Cu003eODbL%5Cu003c/a%5Cu003e.%22%2C%20%22detectRetina%22%3A%20false%2C%20%22maxNativeZoom%22%3A%2018%2C%20%22maxZoom%22%3A%2018%2C%20%22minZoom%22%3A%200%2C%20%22noWrap%22%3A%20false%2C%20%22opacity%22%3A%201%2C%20%22subdomains%22%3A%20%22abc%22%2C%20%22tms%22%3A%20false%7D%0A%20%20%20%20%20%20%20%20%20%20%20%20%29.addTo%28map_39dda0a1c5d64842af78e22cedad88f9%29%3B%0A%20%20%20%20%20%20%20%20%0A%20%20%20%20%0A%20%20%20%20%20%20%20%20%20%20%20%20var%20heat_map_b6d05ecceadc4507a197fb71111bb8c0%20%3D%20L.heatLayer%28%0A%20%20%20%20%20%20%20%20%20%20%20%20%20%20%20%20%5B%5B45.95485055%2C%20-112.49659530324134%2C%205124.0%5D%2C%20%5B18.1475%2C%2041.538889%2C%202523.0%5D%2C%20%5B13.00540865%2C%2074.79460685941484%2C%202504.0%5D%2C%20%5B12.2655944%2C%2076.6465404%2C%202235.0%5D%2C%20%5B44.3730577%2C%20-71.6118577%2C%202144.0%5D%2C%20%5B12.9732913%2C%2077.6404672%2C%202083.0%5D%2C%20%5B27.64392675%2C%2083.05280519687284%2C%201926.0%5D%2C%20%5B12.9552572%2C%2077.6984163%2C%201846.0%5D%2C%20%5B12.887979%2C%2077.5970812%2C%201630.0%5D%2C%20%5B12.93577245%2C%2077.66676103753434%2C%201286.0%5D%2C%20%5B-6.2659285%2C%20106.7842561%2C%201258.0%5D%2C%20%5B14.5395813%2C%20121.070371%2C%201238.0%5D%2C%20%5B40.28745%2C%20-76.964526%2C%201218.0%5D%2C%20%5B13.0078418%2C%2074.7963208%2C%201181.0%5D%2C%20%5B12.9400321%2C%2077.6203272%2C%201156.0%5D%2C%20%5B12.9242381%2C%2077.6289059%2C%201065.0%5D%2C%20%5B12.9778793%2C%2077.6246697%2C%201023.0%5D%2C%20%5B12.93433385%2C%2077.63040639553275%2C%201017.0%5D%2C%20%5B17.9895618%2C%2079.5967057%2C%20918.0%5D%2C%20%5B15.8876779%2C%2075.7046777%2C%20906.0%5D%2C%20%5B13.0221416%2C%2077.6403368%2C%20853.0%5D%2C%20%5B50.7721586%2C%200.09772783661369303%2C%20812.0%5D%2C%20%5B12.996845%2C%2077.6130165%2C%20727.0%5D%2C%20%5B13.0027353%2C%2077.5703253%2C%20725.0%5D%2C%20%5B12.9417261%2C%2077.5755021%2C%20684.0%5D%2C%20%5B38.7385916%2C%20-77.5275749%2C%20675.0%5D%2C%20%5B13.0141618%2C%2077.6518539%2C%20664.0%5D%2C%20%5B33.5935063%2C%20-79.0345627%2C%20658.0%5D%2C%20%5B13.0346384%2C%2077.5681733%2C%20649.0%5D%2C%20%5B13.0093455%2C%2077.6377094%2C%20648.0%5D%2C%20%5B12.9882338%2C%2077.554883%2C%20591.0%5D%2C%20%5B51.373656%2C%20-0.1042366%2C%20569.0%5D%2C%20%5B40.7652844%2C%20-76.373824%2C%20529.0%5D%2C%20%5B12.9575547%2C%2077.5979099%2C%20511.0%5D%2C%20%5B18.5322493%2C%2073.8499601124847%2C%20499.0%5D%2C%20%5B12.9624669%2C%2077.6381958%2C%20496.0%5D%2C%20%5B31.89376%2C%20-88.066644%2C%20491.0%5D%2C%20%5B38.4876975%2C%20-109.4595323%2C%20446.0%5D%2C%20%5B12.945245%2C%2077.6269144%2C%20439.0%5D%2C%20%5B51.5173375%2C%20-0.073532%2C%20370.0%5D%2C%20%5B51.5227651%2C%20-0.7354457%2C%20352.0%5D%2C%20%5B12.9417812%2C%2077.6160146%2C%20320.0%5D%2C%20%5B12.988721250000001%2C%2077.58516877601824%2C%20295.0%5D%2C%20%5B12.9678074%2C%2077.6568367%2C%20272.0%5D%2C%20%5B12.9489339%2C%2077.5968273%2C%20246.0%5D%2C%20%5B12.9089453%2C%2077.6239038%2C%20238.0%5D%2C%20%5B12.9271867%2C%2077.6266252%2C%20216.0%5D%2C%20%5B12.9081487%2C%2077.5553179%2C%20195.0%5D%2C%20%5B12.973936%2C%2077.6509982%2C%20194.0%5D%2C%20%5B12.9932739%2C%2077.5388099%2C%20191.0%5D%2C%20%5B13.2227%2C%2078.5541977%2C%20187.0%5D%2C%20%5B12.9931876%2C%2077.5753419%2C%20165.0%5D%2C%20%5B13.0258087%2C%2077.6305067%2C%20161.0%5D%2C%20%5B1.2847055%2C%20103.84320655721689%2C%20155.0%5D%2C%20%5B13.0358698%2C%2077.6323597%2C%20153.0%5D%2C%20%5B34.977289%2C%20-78.974578%2C%20151.0%5D%2C%20%5B22.3146438%2C%2073.1597756%2C%20139.0%5D%2C%20%5B39.76880625%2C%20-86.15345077251979%2C%20126.0%5D%2C%20%5B13.02383%2C%2077.5529215%2C%20119.0%5D%2C%20%5B12.9414662%2C%2077.7470942%2C%20117.0%5D%2C%20%5B12.967576%2C%2077.7150877%2C%20113.0%5D%2C%20%5B13.0646907%2C%2077.49626895712257%2C%20107.0%5D%2C%20%5B12.9243509%2C%2077.6255562%2C%20102.0%5D%2C%20%5B12.773175%2C%2077.7831871%2C%20102.0%5D%2C%20%5B12.9846713%2C%2077.6790908%2C%20101.0%5D%2C%20%5B17.2510682%2C%2080.1651978%2C%2090.0%5D%2C%20%5B13.0227204%2C%2077.595715%2C%2080.0%5D%2C%20%5B22.8359967%2C%2069.3405962%2C%2080.0%5D%2C%20%5B23.1485712%2C%2081.6048241%2C%2076.0%5D%2C%20%5B15.8782951%2C%2074.5084834%2C%2063.0%5D%2C%20%5B13.0621474%2C%2077.58006135480495%2C%2053.0%5D%2C%20%5B13.2923988%2C%2077.7519261%2C%2048.0%5D%2C%20%5B13.0215466%2C%2077.7640586%2C%2044.0%5D%2C%20%5B11.9917786%2C%2076.5066292%2C%2038.0%5D%2C%20%5B12.945048%2C%2077.263004%2C%2034.0%5D%2C%20%5B12.957998%2C%2077.6037312%2C%2027.0%5D%2C%20%5B38.7801076%2C%20-121.5056438%2C%2027.0%5D%2C%20%5B12.3872141%2C%2076.6669626%2C%2022.0%5D%2C%20%5B13.194416%2C%2078.7011301%2C%2022.0%5D%2C%20%5B12.5607431%2C%2077.4258375%2C%2019.0%5D%2C%20%5B13.007516%2C%2077.695935%2C%2018.0%5D%2C%20%5B12.9055682%2C%2077.5455438%2C%2017.0%5D%2C%20%5B13.0217151%2C%2077.7660547%2C%2014.0%5D%2C%20%5B13.0382184%2C%2077.5919%2C%2014.0%5D%2C%20%5B12.9546741%2C%2077.5121724%2C%209.0%5D%2C%20%5B12.9176571%2C%2077.4837568%2C%209.0%5D%2C%20%5B13.0101286%2C%2077.5548006%2C%208.0%5D%2C%20%5B13.0011289%2C%2077.6325617%2C%206.0%5D%2C%20%5B13.1006982%2C%2077.5963454%2C%206.0%5D%2C%20%5B13.0784743%2C%2077.6068938%2C%203.0%5D%2C%20%5B12.9274413%2C%2077.5155224%2C%202.0%5D%2C%20%5B13.0329419%2C%2077.5273253%2C%201.0%5D%5D%2C%0A%20%20%20%20%20%20%20%20%20%20%20%20%20%20%20%20%7B%22blur%22%3A%2015%2C%20%22maxZoom%22%3A%2018%2C%20%22minOpacity%22%3A%200.5%2C%20%22radius%22%3A%2025%2C%20%22zoom%22%3A%2020%7D%0A%20%20%20%20%20%20%20%20%20%20%20%20%29.addTo%28map_39dda0a1c5d64842af78e22cedad88f9%29%3B%0A%20%20%20%20%20%20%20%20%0A%20%20%20%20%0A%20%20%20%20%20%20%20%20%20%20%20%20var%20fast_marker_cluster_26333ebe5fe245ddb744b0a0b693d8f6%20%3D%20%28function%28%29%7B%0A%20%20%20%20%20%20%20%20%20%20%20%20%20%20%20%20%0A%20%20%20%20%20%20%20%20%20%20%20%20%20%20%20%20var%20callback%20%3D%20function%20%28row%29%20%7B%0A%20%20%20%20%20%20%20%20%20%20%20%20%20%20%20%20%20%20%20%20var%20icon%20%3D%20L.AwesomeMarkers.icon%28%29%3B%0A%20%20%20%20%20%20%20%20%20%20%20%20%20%20%20%20%20%20%20%20var%20marker%20%3D%20L.marker%28new%20L.LatLng%28row%5B0%5D%2C%20row%5B1%5D%29%29%3B%0A%20%20%20%20%20%20%20%20%20%20%20%20%20%20%20%20%20%20%20%20marker.setIcon%28icon%29%3B%0A%20%20%20%20%20%20%20%20%20%20%20%20%20%20%20%20%20%20%20%20return%20marker%3B%0A%20%20%20%20%20%20%20%20%20%20%20%20%20%20%20%20%7D%3B%0A%0A%20%20%20%20%20%20%20%20%20%20%20%20%20%20%20%20var%20data%20%3D%20%5B%5B45.95485055%2C%20-112.49659530324134%2C%205124.0%5D%2C%20%5B18.1475%2C%2041.538889%2C%202523.0%5D%2C%20%5B13.00540865%2C%2074.79460685941484%2C%202504.0%5D%2C%20%5B12.2655944%2C%2076.6465404%2C%202235.0%5D%2C%20%5B44.3730577%2C%20-71.6118577%2C%202144.0%5D%2C%20%5B12.9732913%2C%2077.6404672%2C%202083.0%5D%2C%20%5B27.64392675%2C%2083.05280519687284%2C%201926.0%5D%2C%20%5B12.9552572%2C%2077.6984163%2C%201846.0%5D%2C%20%5B12.887979%2C%2077.5970812%2C%201630.0%5D%2C%20%5B12.93577245%2C%2077.66676103753434%2C%201286.0%5D%2C%20%5B-6.2659285%2C%20106.7842561%2C%201258.0%5D%2C%20%5B14.5395813%2C%20121.070371%2C%201238.0%5D%2C%20%5B40.28745%2C%20-76.964526%2C%201218.0%5D%2C%20%5B13.0078418%2C%2074.7963208%2C%201181.0%5D%2C%20%5B12.9400321%2C%2077.6203272%2C%201156.0%5D%2C%20%5B12.9242381%2C%2077.6289059%2C%201065.0%5D%2C%20%5B12.9778793%2C%2077.6246697%2C%201023.0%5D%2C%20%5B12.93433385%2C%2077.63040639553275%2C%201017.0%5D%2C%20%5B17.9895618%2C%2079.5967057%2C%20918.0%5D%2C%20%5B15.8876779%2C%2075.7046777%2C%20906.0%5D%2C%20%5B13.0221416%2C%2077.6403368%2C%20853.0%5D%2C%20%5B50.7721586%2C%200.09772783661369303%2C%20812.0%5D%2C%20%5B12.996845%2C%2077.6130165%2C%20727.0%5D%2C%20%5B13.0027353%2C%2077.5703253%2C%20725.0%5D%2C%20%5B12.9417261%2C%2077.5755021%2C%20684.0%5D%2C%20%5B38.7385916%2C%20-77.5275749%2C%20675.0%5D%2C%20%5B13.0141618%2C%2077.6518539%2C%20664.0%5D%2C%20%5B33.5935063%2C%20-79.0345627%2C%20658.0%5D%2C%20%5B13.0346384%2C%2077.5681733%2C%20649.0%5D%2C%20%5B13.0093455%2C%2077.6377094%2C%20648.0%5D%2C%20%5B12.9882338%2C%2077.554883%2C%20591.0%5D%2C%20%5B51.373656%2C%20-0.1042366%2C%20569.0%5D%2C%20%5B40.7652844%2C%20-76.373824%2C%20529.0%5D%2C%20%5B12.9575547%2C%2077.5979099%2C%20511.0%5D%2C%20%5B18.5322493%2C%2073.8499601124847%2C%20499.0%5D%2C%20%5B12.9624669%2C%2077.6381958%2C%20496.0%5D%2C%20%5B31.89376%2C%20-88.066644%2C%20491.0%5D%2C%20%5B38.4876975%2C%20-109.4595323%2C%20446.0%5D%2C%20%5B12.945245%2C%2077.6269144%2C%20439.0%5D%2C%20%5B51.5173375%2C%20-0.073532%2C%20370.0%5D%2C%20%5B51.5227651%2C%20-0.7354457%2C%20352.0%5D%2C%20%5B12.9417812%2C%2077.6160146%2C%20320.0%5D%2C%20%5B12.988721250000001%2C%2077.58516877601824%2C%20295.0%5D%2C%20%5B12.9678074%2C%2077.6568367%2C%20272.0%5D%2C%20%5B12.9489339%2C%2077.5968273%2C%20246.0%5D%2C%20%5B12.9089453%2C%2077.6239038%2C%20238.0%5D%2C%20%5B12.9271867%2C%2077.6266252%2C%20216.0%5D%2C%20%5B12.9081487%2C%2077.5553179%2C%20195.0%5D%2C%20%5B12.973936%2C%2077.6509982%2C%20194.0%5D%2C%20%5B12.9932739%2C%2077.5388099%2C%20191.0%5D%2C%20%5B13.2227%2C%2078.5541977%2C%20187.0%5D%2C%20%5B12.9931876%2C%2077.5753419%2C%20165.0%5D%2C%20%5B13.0258087%2C%2077.6305067%2C%20161.0%5D%2C%20%5B1.2847055%2C%20103.84320655721689%2C%20155.0%5D%2C%20%5B13.0358698%2C%2077.6323597%2C%20153.0%5D%2C%20%5B34.977289%2C%20-78.974578%2C%20151.0%5D%2C%20%5B22.3146438%2C%2073.1597756%2C%20139.0%5D%2C%20%5B39.76880625%2C%20-86.15345077251979%2C%20126.0%5D%2C%20%5B13.02383%2C%2077.5529215%2C%20119.0%5D%2C%20%5B12.9414662%2C%2077.7470942%2C%20117.0%5D%2C%20%5B12.967576%2C%2077.7150877%2C%20113.0%5D%2C%20%5B13.0646907%2C%2077.49626895712257%2C%20107.0%5D%2C%20%5B12.9243509%2C%2077.6255562%2C%20102.0%5D%2C%20%5B12.773175%2C%2077.7831871%2C%20102.0%5D%2C%20%5B12.9846713%2C%2077.6790908%2C%20101.0%5D%2C%20%5B17.2510682%2C%2080.1651978%2C%2090.0%5D%2C%20%5B13.0227204%2C%2077.595715%2C%2080.0%5D%2C%20%5B22.8359967%2C%2069.3405962%2C%2080.0%5D%2C%20%5B23.1485712%2C%2081.6048241%2C%2076.0%5D%2C%20%5B15.8782951%2C%2074.5084834%2C%2063.0%5D%2C%20%5B13.0621474%2C%2077.58006135480495%2C%2053.0%5D%2C%20%5B13.2923988%2C%2077.7519261%2C%2048.0%5D%2C%20%5B13.0215466%2C%2077.7640586%2C%2044.0%5D%2C%20%5B11.9917786%2C%2076.5066292%2C%2038.0%5D%2C%20%5B12.945048%2C%2077.263004%2C%2034.0%5D%2C%20%5B12.957998%2C%2077.6037312%2C%2027.0%5D%2C%20%5B38.7801076%2C%20-121.5056438%2C%2027.0%5D%2C%20%5B12.3872141%2C%2076.6669626%2C%2022.0%5D%2C%20%5B13.194416%2C%2078.7011301%2C%2022.0%5D%2C%20%5B12.5607431%2C%2077.4258375%2C%2019.0%5D%2C%20%5B13.007516%2C%2077.695935%2C%2018.0%5D%2C%20%5B12.9055682%2C%2077.5455438%2C%2017.0%5D%2C%20%5B13.0217151%2C%2077.7660547%2C%2014.0%5D%2C%20%5B13.0382184%2C%2077.5919%2C%2014.0%5D%2C%20%5B12.9546741%2C%2077.5121724%2C%209.0%5D%2C%20%5B12.9176571%2C%2077.4837568%2C%209.0%5D%2C%20%5B13.0101286%2C%2077.5548006%2C%208.0%5D%2C%20%5B13.0011289%2C%2077.6325617%2C%206.0%5D%2C%20%5B13.1006982%2C%2077.5963454%2C%206.0%5D%2C%20%5B13.0784743%2C%2077.6068938%2C%203.0%5D%2C%20%5B12.9274413%2C%2077.5155224%2C%202.0%5D%2C%20%5B13.0329419%2C%2077.5273253%2C%201.0%5D%5D%3B%0A%20%20%20%20%20%20%20%20%20%20%20%20%20%20%20%20var%20cluster%20%3D%20L.markerClusterGroup%28%7B%22zoom%22%3A%2020%7D%29%3B%0A%0A%20%20%20%20%20%20%20%20%20%20%20%20%20%20%20%20for%20%28var%20i%20%3D%200%3B%20i%20%3C%20data.length%3B%20i%2B%2B%29%20%7B%0A%20%20%20%20%20%20%20%20%20%20%20%20%20%20%20%20%20%20%20%20var%20row%20%3D%20data%5Bi%5D%3B%0A%20%20%20%20%20%20%20%20%20%20%20%20%20%20%20%20%20%20%20%20var%20marker%20%3D%20callback%28row%29%3B%0A%20%20%20%20%20%20%20%20%20%20%20%20%20%20%20%20%20%20%20%20marker.addTo%28cluster%29%3B%0A%20%20%20%20%20%20%20%20%20%20%20%20%20%20%20%20%7D%0A%0A%20%20%20%20%20%20%20%20%20%20%20%20%20%20%20%20cluster.addTo%28map_39dda0a1c5d64842af78e22cedad88f9%29%3B%0A%20%20%20%20%20%20%20%20%20%20%20%20%20%20%20%20return%20cluster%3B%0A%20%20%20%20%20%20%20%20%20%20%20%20%7D%29%28%29%3B%0A%20%20%20%20%20%20%20%20%0A%3C/script%3E onload=\"this.contentDocument.open();this.contentDocument.write(    decodeURIComponent(this.getAttribute('data-html')));this.contentDocument.close();\" allowfullscreen webkitallowfullscreen mozallowfullscreen></iframe></div></div>"
      ],
      "text/plain": [
       "<folium.folium.Map at 0x213c41bc910>"
      ]
     },
     "execution_count": 48,
     "metadata": {},
     "output_type": "execute_result"
    }
   ],
   "source": [
    "baseMap"
   ]
  },
  {
   "cell_type": "code",
   "execution_count": 49,
   "metadata": {},
   "outputs": [
    {
     "data": {
      "text/html": [
       "<div>\n",
       "<style scoped>\n",
       "    .dataframe tbody tr th:only-of-type {\n",
       "        vertical-align: middle;\n",
       "    }\n",
       "\n",
       "    .dataframe tbody tr th {\n",
       "        vertical-align: top;\n",
       "    }\n",
       "\n",
       "    .dataframe thead th {\n",
       "        text-align: right;\n",
       "    }\n",
       "</style>\n",
       "<table border=\"1\" class=\"dataframe\">\n",
       "  <thead>\n",
       "    <tr style=\"text-align: right;\">\n",
       "      <th></th>\n",
       "      <th>url</th>\n",
       "      <th>address</th>\n",
       "      <th>name</th>\n",
       "      <th>online_order</th>\n",
       "      <th>book_table</th>\n",
       "      <th>rate</th>\n",
       "      <th>votes</th>\n",
       "      <th>phone</th>\n",
       "      <th>location</th>\n",
       "      <th>rest_type</th>\n",
       "      <th>dish_liked</th>\n",
       "      <th>cuisines</th>\n",
       "      <th>approx_cost(for two people)</th>\n",
       "      <th>reviews_list</th>\n",
       "      <th>menu_item</th>\n",
       "      <th>listed_in(type)</th>\n",
       "      <th>listed_in(city)</th>\n",
       "    </tr>\n",
       "  </thead>\n",
       "  <tbody>\n",
       "    <tr>\n",
       "      <th>0</th>\n",
       "      <td>https://www.zomato.com/bangalore/jalsa-banasha...</td>\n",
       "      <td>942, 21st Main Road, 2nd Stage, Banashankari, ...</td>\n",
       "      <td>Jalsa</td>\n",
       "      <td>Yes</td>\n",
       "      <td>Yes</td>\n",
       "      <td>4.1/5</td>\n",
       "      <td>775</td>\n",
       "      <td>080 42297555\\r\\n+91 9743772233</td>\n",
       "      <td>Banashankari</td>\n",
       "      <td>Casual Dining</td>\n",
       "      <td>Pasta, Lunch Buffet, Masala Papad, Paneer Laja...</td>\n",
       "      <td>North Indian, Mughlai, Chinese</td>\n",
       "      <td>800</td>\n",
       "      <td>[('Rated 4.0', 'RATED\\n  A beautiful place to ...</td>\n",
       "      <td>[]</td>\n",
       "      <td>Buffet</td>\n",
       "      <td>Banashankari</td>\n",
       "    </tr>\n",
       "    <tr>\n",
       "      <th>1</th>\n",
       "      <td>https://www.zomato.com/bangalore/spice-elephan...</td>\n",
       "      <td>2nd Floor, 80 Feet Road, Near Big Bazaar, 6th ...</td>\n",
       "      <td>Spice Elephant</td>\n",
       "      <td>Yes</td>\n",
       "      <td>No</td>\n",
       "      <td>4.1/5</td>\n",
       "      <td>787</td>\n",
       "      <td>080 41714161</td>\n",
       "      <td>Banashankari</td>\n",
       "      <td>Casual Dining</td>\n",
       "      <td>Momos, Lunch Buffet, Chocolate Nirvana, Thai G...</td>\n",
       "      <td>Chinese, North Indian, Thai</td>\n",
       "      <td>800</td>\n",
       "      <td>[('Rated 4.0', 'RATED\\n  Had been here for din...</td>\n",
       "      <td>[]</td>\n",
       "      <td>Buffet</td>\n",
       "      <td>Banashankari</td>\n",
       "    </tr>\n",
       "    <tr>\n",
       "      <th>2</th>\n",
       "      <td>https://www.zomato.com/SanchurroBangalore?cont...</td>\n",
       "      <td>1112, Next to KIMS Medical College, 17th Cross...</td>\n",
       "      <td>San Churro Cafe</td>\n",
       "      <td>Yes</td>\n",
       "      <td>No</td>\n",
       "      <td>3.8/5</td>\n",
       "      <td>918</td>\n",
       "      <td>+91 9663487993</td>\n",
       "      <td>Banashankari</td>\n",
       "      <td>Cafe, Casual Dining</td>\n",
       "      <td>Churros, Cannelloni, Minestrone Soup, Hot Choc...</td>\n",
       "      <td>Cafe, Mexican, Italian</td>\n",
       "      <td>800</td>\n",
       "      <td>[('Rated 3.0', \"RATED\\n  Ambience is not that ...</td>\n",
       "      <td>[]</td>\n",
       "      <td>Buffet</td>\n",
       "      <td>Banashankari</td>\n",
       "    </tr>\n",
       "    <tr>\n",
       "      <th>3</th>\n",
       "      <td>https://www.zomato.com/bangalore/addhuri-udupi...</td>\n",
       "      <td>1st Floor, Annakuteera, 3rd Stage, Banashankar...</td>\n",
       "      <td>Addhuri Udupi Bhojana</td>\n",
       "      <td>No</td>\n",
       "      <td>No</td>\n",
       "      <td>3.7/5</td>\n",
       "      <td>88</td>\n",
       "      <td>+91 9620009302</td>\n",
       "      <td>Banashankari</td>\n",
       "      <td>Quick Bites</td>\n",
       "      <td>Masala Dosa</td>\n",
       "      <td>South Indian, North Indian</td>\n",
       "      <td>300</td>\n",
       "      <td>[('Rated 4.0', \"RATED\\n  Great food and proper...</td>\n",
       "      <td>[]</td>\n",
       "      <td>Buffet</td>\n",
       "      <td>Banashankari</td>\n",
       "    </tr>\n",
       "    <tr>\n",
       "      <th>4</th>\n",
       "      <td>https://www.zomato.com/bangalore/grand-village...</td>\n",
       "      <td>10, 3rd Floor, Lakshmi Associates, Gandhi Baza...</td>\n",
       "      <td>Grand Village</td>\n",
       "      <td>No</td>\n",
       "      <td>No</td>\n",
       "      <td>3.8/5</td>\n",
       "      <td>166</td>\n",
       "      <td>+91 8026612447\\r\\n+91 9901210005</td>\n",
       "      <td>Basavanagudi</td>\n",
       "      <td>Casual Dining</td>\n",
       "      <td>Panipuri, Gol Gappe</td>\n",
       "      <td>North Indian, Rajasthani</td>\n",
       "      <td>600</td>\n",
       "      <td>[('Rated 4.0', 'RATED\\n  Very good restaurant ...</td>\n",
       "      <td>[]</td>\n",
       "      <td>Buffet</td>\n",
       "      <td>Banashankari</td>\n",
       "    </tr>\n",
       "  </tbody>\n",
       "</table>\n",
       "</div>"
      ],
      "text/plain": [
       "                                                 url  \\\n",
       "0  https://www.zomato.com/bangalore/jalsa-banasha...   \n",
       "1  https://www.zomato.com/bangalore/spice-elephan...   \n",
       "2  https://www.zomato.com/SanchurroBangalore?cont...   \n",
       "3  https://www.zomato.com/bangalore/addhuri-udupi...   \n",
       "4  https://www.zomato.com/bangalore/grand-village...   \n",
       "\n",
       "                                             address                   name  \\\n",
       "0  942, 21st Main Road, 2nd Stage, Banashankari, ...                  Jalsa   \n",
       "1  2nd Floor, 80 Feet Road, Near Big Bazaar, 6th ...         Spice Elephant   \n",
       "2  1112, Next to KIMS Medical College, 17th Cross...        San Churro Cafe   \n",
       "3  1st Floor, Annakuteera, 3rd Stage, Banashankar...  Addhuri Udupi Bhojana   \n",
       "4  10, 3rd Floor, Lakshmi Associates, Gandhi Baza...          Grand Village   \n",
       "\n",
       "  online_order book_table   rate  votes                             phone  \\\n",
       "0          Yes        Yes  4.1/5    775    080 42297555\\r\\n+91 9743772233   \n",
       "1          Yes         No  4.1/5    787                      080 41714161   \n",
       "2          Yes         No  3.8/5    918                    +91 9663487993   \n",
       "3           No         No  3.7/5     88                    +91 9620009302   \n",
       "4           No         No  3.8/5    166  +91 8026612447\\r\\n+91 9901210005   \n",
       "\n",
       "       location            rest_type  \\\n",
       "0  Banashankari        Casual Dining   \n",
       "1  Banashankari        Casual Dining   \n",
       "2  Banashankari  Cafe, Casual Dining   \n",
       "3  Banashankari          Quick Bites   \n",
       "4  Basavanagudi        Casual Dining   \n",
       "\n",
       "                                          dish_liked  \\\n",
       "0  Pasta, Lunch Buffet, Masala Papad, Paneer Laja...   \n",
       "1  Momos, Lunch Buffet, Chocolate Nirvana, Thai G...   \n",
       "2  Churros, Cannelloni, Minestrone Soup, Hot Choc...   \n",
       "3                                        Masala Dosa   \n",
       "4                                Panipuri, Gol Gappe   \n",
       "\n",
       "                         cuisines approx_cost(for two people)  \\\n",
       "0  North Indian, Mughlai, Chinese                         800   \n",
       "1     Chinese, North Indian, Thai                         800   \n",
       "2          Cafe, Mexican, Italian                         800   \n",
       "3      South Indian, North Indian                         300   \n",
       "4        North Indian, Rajasthani                         600   \n",
       "\n",
       "                                        reviews_list menu_item  \\\n",
       "0  [('Rated 4.0', 'RATED\\n  A beautiful place to ...        []   \n",
       "1  [('Rated 4.0', 'RATED\\n  Had been here for din...        []   \n",
       "2  [('Rated 3.0', \"RATED\\n  Ambience is not that ...        []   \n",
       "3  [('Rated 4.0', \"RATED\\n  Great food and proper...        []   \n",
       "4  [('Rated 4.0', 'RATED\\n  Very good restaurant ...        []   \n",
       "\n",
       "  listed_in(type) listed_in(city)  \n",
       "0          Buffet    Banashankari  \n",
       "1          Buffet    Banashankari  \n",
       "2          Buffet    Banashankari  \n",
       "3          Buffet    Banashankari  \n",
       "4          Buffet    Banashankari  "
      ]
     },
     "execution_count": 49,
     "metadata": {},
     "output_type": "execute_result"
    }
   ],
   "source": [
    "df.head()"
   ]
  },
  {
   "cell_type": "code",
   "execution_count": 51,
   "metadata": {},
   "outputs": [
    {
     "data": {
      "text/plain": [
       "array(['4.1/5', '3.8/5', '3.7/5', '3.6/5', '4.6/5', '4.0/5', '4.2/5',\n",
       "       '3.9/5', '3.1/5', '3.0/5', '3.2/5', '3.3/5', '2.8/5', '4.4/5',\n",
       "       '4.3/5', 'NEW', '2.9/5', '3.5/5', nan, '2.6/5', '3.8 /5', '3.4/5',\n",
       "       '4.5/5', '2.5/5', '2.7/5', '4.7/5', '2.4/5', '2.2/5', '2.3/5',\n",
       "       '3.4 /5', '-', '3.6 /5', '4.8/5', '3.9 /5', '4.2 /5', '4.0 /5',\n",
       "       '4.1 /5', '3.7 /5', '3.1 /5', '2.9 /5', '3.3 /5', '2.8 /5',\n",
       "       '3.5 /5', '2.7 /5', '2.5 /5', '3.2 /5', '2.6 /5', '4.5 /5',\n",
       "       '4.3 /5', '4.4 /5', '4.9/5', '2.1/5', '2.0/5', '1.8/5', '4.6 /5',\n",
       "       '4.9 /5', '3.0 /5', '4.8 /5', '2.3 /5', '4.7 /5', '2.4 /5',\n",
       "       '2.1 /5', '2.2 /5', '2.0 /5', '1.8 /5'], dtype=object)"
      ]
     },
     "execution_count": 51,
     "metadata": {},
     "output_type": "execute_result"
    }
   ],
   "source": [
    "df['rate'].unique()"
   ]
  },
  {
   "cell_type": "code",
   "execution_count": 52,
   "metadata": {},
   "outputs": [],
   "source": [
    "df.dropna(axis=0, subset=['rate'], inplace=True)"
   ]
  },
  {
   "cell_type": "code",
   "execution_count": 53,
   "metadata": {},
   "outputs": [],
   "source": [
    "# Removing \"/5\" from data\n",
    "def split(x):\n",
    "    return x.split('/')[0]"
   ]
  },
  {
   "cell_type": "code",
   "execution_count": 54,
   "metadata": {},
   "outputs": [],
   "source": [
    "df['rating'] = df['rate'].apply(split)"
   ]
  },
  {
   "cell_type": "code",
   "execution_count": 55,
   "metadata": {},
   "outputs": [
    {
     "data": {
      "text/html": [
       "<div>\n",
       "<style scoped>\n",
       "    .dataframe tbody tr th:only-of-type {\n",
       "        vertical-align: middle;\n",
       "    }\n",
       "\n",
       "    .dataframe tbody tr th {\n",
       "        vertical-align: top;\n",
       "    }\n",
       "\n",
       "    .dataframe thead th {\n",
       "        text-align: right;\n",
       "    }\n",
       "</style>\n",
       "<table border=\"1\" class=\"dataframe\">\n",
       "  <thead>\n",
       "    <tr style=\"text-align: right;\">\n",
       "      <th></th>\n",
       "      <th>url</th>\n",
       "      <th>address</th>\n",
       "      <th>name</th>\n",
       "      <th>online_order</th>\n",
       "      <th>book_table</th>\n",
       "      <th>rate</th>\n",
       "      <th>votes</th>\n",
       "      <th>phone</th>\n",
       "      <th>location</th>\n",
       "      <th>rest_type</th>\n",
       "      <th>dish_liked</th>\n",
       "      <th>cuisines</th>\n",
       "      <th>approx_cost(for two people)</th>\n",
       "      <th>reviews_list</th>\n",
       "      <th>menu_item</th>\n",
       "      <th>listed_in(type)</th>\n",
       "      <th>listed_in(city)</th>\n",
       "      <th>rating</th>\n",
       "    </tr>\n",
       "  </thead>\n",
       "  <tbody>\n",
       "    <tr>\n",
       "      <th>0</th>\n",
       "      <td>https://www.zomato.com/bangalore/jalsa-banasha...</td>\n",
       "      <td>942, 21st Main Road, 2nd Stage, Banashankari, ...</td>\n",
       "      <td>Jalsa</td>\n",
       "      <td>Yes</td>\n",
       "      <td>Yes</td>\n",
       "      <td>4.1/5</td>\n",
       "      <td>775</td>\n",
       "      <td>080 42297555\\r\\n+91 9743772233</td>\n",
       "      <td>Banashankari</td>\n",
       "      <td>Casual Dining</td>\n",
       "      <td>Pasta, Lunch Buffet, Masala Papad, Paneer Laja...</td>\n",
       "      <td>North Indian, Mughlai, Chinese</td>\n",
       "      <td>800</td>\n",
       "      <td>[('Rated 4.0', 'RATED\\n  A beautiful place to ...</td>\n",
       "      <td>[]</td>\n",
       "      <td>Buffet</td>\n",
       "      <td>Banashankari</td>\n",
       "      <td>4.1</td>\n",
       "    </tr>\n",
       "    <tr>\n",
       "      <th>1</th>\n",
       "      <td>https://www.zomato.com/bangalore/spice-elephan...</td>\n",
       "      <td>2nd Floor, 80 Feet Road, Near Big Bazaar, 6th ...</td>\n",
       "      <td>Spice Elephant</td>\n",
       "      <td>Yes</td>\n",
       "      <td>No</td>\n",
       "      <td>4.1/5</td>\n",
       "      <td>787</td>\n",
       "      <td>080 41714161</td>\n",
       "      <td>Banashankari</td>\n",
       "      <td>Casual Dining</td>\n",
       "      <td>Momos, Lunch Buffet, Chocolate Nirvana, Thai G...</td>\n",
       "      <td>Chinese, North Indian, Thai</td>\n",
       "      <td>800</td>\n",
       "      <td>[('Rated 4.0', 'RATED\\n  Had been here for din...</td>\n",
       "      <td>[]</td>\n",
       "      <td>Buffet</td>\n",
       "      <td>Banashankari</td>\n",
       "      <td>4.1</td>\n",
       "    </tr>\n",
       "    <tr>\n",
       "      <th>2</th>\n",
       "      <td>https://www.zomato.com/SanchurroBangalore?cont...</td>\n",
       "      <td>1112, Next to KIMS Medical College, 17th Cross...</td>\n",
       "      <td>San Churro Cafe</td>\n",
       "      <td>Yes</td>\n",
       "      <td>No</td>\n",
       "      <td>3.8/5</td>\n",
       "      <td>918</td>\n",
       "      <td>+91 9663487993</td>\n",
       "      <td>Banashankari</td>\n",
       "      <td>Cafe, Casual Dining</td>\n",
       "      <td>Churros, Cannelloni, Minestrone Soup, Hot Choc...</td>\n",
       "      <td>Cafe, Mexican, Italian</td>\n",
       "      <td>800</td>\n",
       "      <td>[('Rated 3.0', \"RATED\\n  Ambience is not that ...</td>\n",
       "      <td>[]</td>\n",
       "      <td>Buffet</td>\n",
       "      <td>Banashankari</td>\n",
       "      <td>3.8</td>\n",
       "    </tr>\n",
       "    <tr>\n",
       "      <th>3</th>\n",
       "      <td>https://www.zomato.com/bangalore/addhuri-udupi...</td>\n",
       "      <td>1st Floor, Annakuteera, 3rd Stage, Banashankar...</td>\n",
       "      <td>Addhuri Udupi Bhojana</td>\n",
       "      <td>No</td>\n",
       "      <td>No</td>\n",
       "      <td>3.7/5</td>\n",
       "      <td>88</td>\n",
       "      <td>+91 9620009302</td>\n",
       "      <td>Banashankari</td>\n",
       "      <td>Quick Bites</td>\n",
       "      <td>Masala Dosa</td>\n",
       "      <td>South Indian, North Indian</td>\n",
       "      <td>300</td>\n",
       "      <td>[('Rated 4.0', \"RATED\\n  Great food and proper...</td>\n",
       "      <td>[]</td>\n",
       "      <td>Buffet</td>\n",
       "      <td>Banashankari</td>\n",
       "      <td>3.7</td>\n",
       "    </tr>\n",
       "    <tr>\n",
       "      <th>4</th>\n",
       "      <td>https://www.zomato.com/bangalore/grand-village...</td>\n",
       "      <td>10, 3rd Floor, Lakshmi Associates, Gandhi Baza...</td>\n",
       "      <td>Grand Village</td>\n",
       "      <td>No</td>\n",
       "      <td>No</td>\n",
       "      <td>3.8/5</td>\n",
       "      <td>166</td>\n",
       "      <td>+91 8026612447\\r\\n+91 9901210005</td>\n",
       "      <td>Basavanagudi</td>\n",
       "      <td>Casual Dining</td>\n",
       "      <td>Panipuri, Gol Gappe</td>\n",
       "      <td>North Indian, Rajasthani</td>\n",
       "      <td>600</td>\n",
       "      <td>[('Rated 4.0', 'RATED\\n  Very good restaurant ...</td>\n",
       "      <td>[]</td>\n",
       "      <td>Buffet</td>\n",
       "      <td>Banashankari</td>\n",
       "      <td>3.8</td>\n",
       "    </tr>\n",
       "  </tbody>\n",
       "</table>\n",
       "</div>"
      ],
      "text/plain": [
       "                                                 url  \\\n",
       "0  https://www.zomato.com/bangalore/jalsa-banasha...   \n",
       "1  https://www.zomato.com/bangalore/spice-elephan...   \n",
       "2  https://www.zomato.com/SanchurroBangalore?cont...   \n",
       "3  https://www.zomato.com/bangalore/addhuri-udupi...   \n",
       "4  https://www.zomato.com/bangalore/grand-village...   \n",
       "\n",
       "                                             address                   name  \\\n",
       "0  942, 21st Main Road, 2nd Stage, Banashankari, ...                  Jalsa   \n",
       "1  2nd Floor, 80 Feet Road, Near Big Bazaar, 6th ...         Spice Elephant   \n",
       "2  1112, Next to KIMS Medical College, 17th Cross...        San Churro Cafe   \n",
       "3  1st Floor, Annakuteera, 3rd Stage, Banashankar...  Addhuri Udupi Bhojana   \n",
       "4  10, 3rd Floor, Lakshmi Associates, Gandhi Baza...          Grand Village   \n",
       "\n",
       "  online_order book_table   rate  votes                             phone  \\\n",
       "0          Yes        Yes  4.1/5    775    080 42297555\\r\\n+91 9743772233   \n",
       "1          Yes         No  4.1/5    787                      080 41714161   \n",
       "2          Yes         No  3.8/5    918                    +91 9663487993   \n",
       "3           No         No  3.7/5     88                    +91 9620009302   \n",
       "4           No         No  3.8/5    166  +91 8026612447\\r\\n+91 9901210005   \n",
       "\n",
       "       location            rest_type  \\\n",
       "0  Banashankari        Casual Dining   \n",
       "1  Banashankari        Casual Dining   \n",
       "2  Banashankari  Cafe, Casual Dining   \n",
       "3  Banashankari          Quick Bites   \n",
       "4  Basavanagudi        Casual Dining   \n",
       "\n",
       "                                          dish_liked  \\\n",
       "0  Pasta, Lunch Buffet, Masala Papad, Paneer Laja...   \n",
       "1  Momos, Lunch Buffet, Chocolate Nirvana, Thai G...   \n",
       "2  Churros, Cannelloni, Minestrone Soup, Hot Choc...   \n",
       "3                                        Masala Dosa   \n",
       "4                                Panipuri, Gol Gappe   \n",
       "\n",
       "                         cuisines approx_cost(for two people)  \\\n",
       "0  North Indian, Mughlai, Chinese                         800   \n",
       "1     Chinese, North Indian, Thai                         800   \n",
       "2          Cafe, Mexican, Italian                         800   \n",
       "3      South Indian, North Indian                         300   \n",
       "4        North Indian, Rajasthani                         600   \n",
       "\n",
       "                                        reviews_list menu_item  \\\n",
       "0  [('Rated 4.0', 'RATED\\n  A beautiful place to ...        []   \n",
       "1  [('Rated 4.0', 'RATED\\n  Had been here for din...        []   \n",
       "2  [('Rated 3.0', \"RATED\\n  Ambience is not that ...        []   \n",
       "3  [('Rated 4.0', \"RATED\\n  Great food and proper...        []   \n",
       "4  [('Rated 4.0', 'RATED\\n  Very good restaurant ...        []   \n",
       "\n",
       "  listed_in(type) listed_in(city) rating  \n",
       "0          Buffet    Banashankari    4.1  \n",
       "1          Buffet    Banashankari    4.1  \n",
       "2          Buffet    Banashankari    3.8  \n",
       "3          Buffet    Banashankari    3.7  \n",
       "4          Buffet    Banashankari    3.8  "
      ]
     },
     "execution_count": 55,
     "metadata": {},
     "output_type": "execute_result"
    }
   ],
   "source": [
    "df.head()"
   ]
  },
  {
   "cell_type": "code",
   "execution_count": 56,
   "metadata": {},
   "outputs": [
    {
     "data": {
      "text/plain": [
       "array(['4.1', '3.8', '3.7', '3.6', '4.6', '4.0', '4.2', '3.9', '3.1',\n",
       "       '3.0', '3.2', '3.3', '2.8', '4.4', '4.3', 'NEW', '2.9', '3.5',\n",
       "       '2.6', '3.8 ', '3.4', '4.5', '2.5', '2.7', '4.7', '2.4', '2.2',\n",
       "       '2.3', '3.4 ', '-', '3.6 ', '4.8', '3.9 ', '4.2 ', '4.0 ', '4.1 ',\n",
       "       '3.7 ', '3.1 ', '2.9 ', '3.3 ', '2.8 ', '3.5 ', '2.7 ', '2.5 ',\n",
       "       '3.2 ', '2.6 ', '4.5 ', '4.3 ', '4.4 ', '4.9', '2.1', '2.0', '1.8',\n",
       "       '4.6 ', '4.9 ', '3.0 ', '4.8 ', '2.3 ', '4.7 ', '2.4 ', '2.1 ',\n",
       "       '2.2 ', '2.0 ', '1.8 '], dtype=object)"
      ]
     },
     "execution_count": 56,
     "metadata": {},
     "output_type": "execute_result"
    }
   ],
   "source": [
    "df['rating'].unique()"
   ]
  },
  {
   "cell_type": "code",
   "execution_count": 60,
   "metadata": {},
   "outputs": [],
   "source": [
    "df.replace('NEW', 1, inplace=True)"
   ]
  },
  {
   "cell_type": "code",
   "execution_count": 61,
   "metadata": {},
   "outputs": [],
   "source": [
    "df.replace('-', 1, inplace=True)"
   ]
  },
  {
   "cell_type": "code",
   "execution_count": 62,
   "metadata": {},
   "outputs": [
    {
     "data": {
      "text/plain": [
       "array(['4.1', '3.8', '3.7', '3.6', '4.6', '4.0', '4.2', '3.9', '3.1',\n",
       "       '3.0', '3.2', '3.3', '2.8', '4.4', '4.3', 1, '2.9', '3.5', '2.6',\n",
       "       '3.8 ', '3.4', '4.5', '2.5', '2.7', '4.7', '2.4', '2.2', '2.3',\n",
       "       '3.4 ', '3.6 ', '4.8', '3.9 ', '4.2 ', '4.0 ', '4.1 ', '3.7 ',\n",
       "       '3.1 ', '2.9 ', '3.3 ', '2.8 ', '3.5 ', '2.7 ', '2.5 ', '3.2 ',\n",
       "       '2.6 ', '4.5 ', '4.3 ', '4.4 ', '4.9', '2.1', '2.0', '1.8', '4.6 ',\n",
       "       '4.9 ', '3.0 ', '4.8 ', '2.3 ', '4.7 ', '2.4 ', '2.1 ', '2.2 ',\n",
       "       '2.0 ', '1.8 '], dtype=object)"
      ]
     },
     "execution_count": 62,
     "metadata": {},
     "output_type": "execute_result"
    }
   ],
   "source": [
    "df['rating'].unique()"
   ]
  },
  {
   "cell_type": "code",
   "execution_count": 64,
   "metadata": {},
   "outputs": [
    {
     "data": {
      "text/plain": [
       "url                            object\n",
       "address                        object\n",
       "name                           object\n",
       "online_order                   object\n",
       "book_table                     object\n",
       "rate                           object\n",
       "votes                           int64\n",
       "phone                          object\n",
       "location                       object\n",
       "rest_type                      object\n",
       "dish_liked                     object\n",
       "cuisines                       object\n",
       "approx_cost(for two people)    object\n",
       "reviews_list                   object\n",
       "menu_item                      object\n",
       "listed_in(type)                object\n",
       "listed_in(city)                object\n",
       "rating                         object\n",
       "dtype: object"
      ]
     },
     "execution_count": 64,
     "metadata": {},
     "output_type": "execute_result"
    }
   ],
   "source": [
    "df.dtypes"
   ]
  },
  {
   "cell_type": "code",
   "execution_count": 65,
   "metadata": {},
   "outputs": [],
   "source": [
    "# converting rating column in numerical format\n",
    "df['rating'] = pd.to_numeric(df['rating'])"
   ]
  },
  {
   "cell_type": "code",
   "execution_count": 68,
   "metadata": {},
   "outputs": [
    {
     "data": {
      "text/plain": [
       "location\n",
       "Lavelle Road             4.066934\n",
       "St. Marks Road           4.017201\n",
       "Koramangala 3rd Block    3.989119\n",
       "Church Street            3.970364\n",
       "Sankey Road              3.965385\n",
       "                           ...   \n",
       "Electronic City          3.170539\n",
       "Hebbal                   3.080000\n",
       "Bommanahalli             3.009554\n",
       "North Bangalore          2.671429\n",
       "West Bangalore           2.420000\n",
       "Name: rating, Length: 92, dtype: float64"
      ]
     },
     "execution_count": 68,
     "metadata": {},
     "output_type": "execute_result"
    }
   ],
   "source": [
    "df.groupby('location')['rating'].mean().sort_values(ascending=False)"
   ]
  },
  {
   "cell_type": "code",
   "execution_count": 70,
   "metadata": {},
   "outputs": [],
   "source": [
    "avg_rating = df.groupby('location')['rating'].mean().sort_values(ascending=False).values"
   ]
  },
  {
   "cell_type": "code",
   "execution_count": 72,
   "metadata": {},
   "outputs": [
    {
     "data": {
      "text/plain": [
       "array([4.06693387, 4.01720117, 3.98911917, 3.97036364, 3.96538462,\n",
       "       3.92755145, 3.90105263, 3.85      , 3.84950658, 3.84097222,\n",
       "       3.83965517, 3.80740741, 3.79642857, 3.77447199, 3.77045455,\n",
       "       3.74160584, 3.72271293, 3.72222222, 3.71486486, 3.70492958,\n",
       "       3.6981405 , 3.69306931, 3.69255319, 3.6589057 , 3.64083333,\n",
       "       3.64      , 3.63870968, 3.625369  , 3.625     , 3.61185468,\n",
       "       3.60873016, 3.6       , 3.5991121 , 3.5959893 , 3.57871972,\n",
       "       3.54552381, 3.53529135, 3.5312296 , 3.53073248, 3.5212766 ,\n",
       "       3.51111111, 3.51111111, 3.50267857, 3.50068966, 3.49891697,\n",
       "       3.48695652, 3.48461538, 3.48431585, 3.47894737, 3.47577002,\n",
       "       3.47179487, 3.47175573, 3.46165803, 3.4497342 , 3.44906832,\n",
       "       3.44175824, 3.44045243, 3.4375    , 3.43666093, 3.43216783,\n",
       "       3.401002  , 3.4       , 3.4       , 3.39166667, 3.38738739,\n",
       "       3.38181818, 3.38103627, 3.38      , 3.37419355, 3.37380897,\n",
       "       3.37105751, 3.36190476, 3.35338983, 3.34788732, 3.33889728,\n",
       "       3.3364532 , 3.325     , 3.31      , 3.30909091, 3.29090909,\n",
       "       3.23592233, 3.22039474, 3.20839695, 3.2       , 3.18181818,\n",
       "       3.17857143, 3.17635135, 3.17053942, 3.08      , 3.00955414,\n",
       "       2.67142857, 2.42      ])"
      ]
     },
     "execution_count": 72,
     "metadata": {},
     "output_type": "execute_result"
    }
   ],
   "source": [
    "avg_rating"
   ]
  },
  {
   "cell_type": "code",
   "execution_count": 73,
   "metadata": {},
   "outputs": [],
   "source": [
    "location = df.groupby('location')['rating'].mean().sort_values(ascending=False).index"
   ]
  },
  {
   "cell_type": "code",
   "execution_count": 74,
   "metadata": {},
   "outputs": [
    {
     "data": {
      "text/plain": [
       "Index(['Lavelle Road', 'St. Marks Road', 'Koramangala 3rd Block',\n",
       "       'Church Street', 'Sankey Road', 'Koramangala 5th Block',\n",
       "       'Cunningham Road', 'Rajarajeshwari Nagar', 'Residency Road',\n",
       "       'Koramangala 4th Block', 'Sadashiv Nagar', 'Langford Town',\n",
       "       'Infantry Road', 'Koramangala 7th Block', 'MG Road', 'Race Course Road',\n",
       "       'Richmond Road', 'Kengeri', 'Hosur Road', 'Seshadripuram',\n",
       "       'Indiranagar', 'Koramangala 6th Block', 'Malleshwaram', 'Jayanagar',\n",
       "       'Koramangala 8th Block', 'Yelahanka', 'Koramangala', 'Brigade Road',\n",
       "       'Central Bangalore', 'New BEL Road', 'Vasanth Nagar',\n",
       "       'Koramangala 2nd Block', 'Ulsoor', 'Kalyan Nagar', 'Frazer Town',\n",
       "       'Kammanahalli', 'HSR', 'Sarjapur Road', 'Basavanagudi',\n",
       "       'Sahakara Nagar', 'Mysore Road', 'Uttarahalli', 'Yeshwantpur',\n",
       "       'Basaveshwara Nagar', 'Shivajinagar', 'Jalahalli', 'Kaggadasapura',\n",
       "       'JP Nagar', 'Kanakapura Road', 'Rajajinagar', 'City Market',\n",
       "       'Jeevan Bhima Nagar', 'Old Airport Road', 'Whitefield', 'Banashankari',\n",
       "       'South Bangalore', 'Marathahalli', 'Magadi Road', 'Brookefield',\n",
       "       'Domlur', 'Banaswadi', 'Sanjay Nagar', 'Nagarbhavi',\n",
       "       'ITPL Main Road, Whitefield', 'HBR Layout', 'Nagawara',\n",
       "       'Koramangala 1st Block', 'Shanti Nagar',\n",
       "       'Varthur Main Road, Whitefield', 'BTM', 'Bellandur',\n",
       "       'Kumaraswamy Layout', 'Majestic', 'Vijay Nagar', 'Bannerghatta Road',\n",
       "       'Wilson Garden', 'RT Nagar', 'East Bangalore', 'KR Puram',\n",
       "       'CV Raman Nagar', 'Commercial Street', 'Thippasandra', 'Hennur',\n",
       "       'Peenya', 'Old Madras Road', 'Rammurthy Nagar', 'Ejipura',\n",
       "       'Electronic City', 'Hebbal', 'Bommanahalli', 'North Bangalore',\n",
       "       'West Bangalore'],\n",
       "      dtype='object', name='location')"
      ]
     },
     "execution_count": 74,
     "metadata": {},
     "output_type": "execute_result"
    }
   ],
   "source": [
    "location"
   ]
  },
  {
   "cell_type": "code",
   "execution_count": 75,
   "metadata": {},
   "outputs": [],
   "source": [
    "rating = pd.DataFrame()"
   ]
  },
  {
   "cell_type": "code",
   "execution_count": 76,
   "metadata": {},
   "outputs": [],
   "source": [
    "lat = []\n",
    "lon = []\n",
    "for loc in location:\n",
    "    \n",
    "    # converting string location into geo format\n",
    "    loc = geolocator.geocode(loc)\n",
    "    \n",
    "    if loc is None:\n",
    "        lat.append(np.nan)\n",
    "        lon.append(np.nan)\n",
    "    \n",
    "    else:\n",
    "        lat.append(loc.latitude)\n",
    "        lon.append(loc.longitude)"
   ]
  },
  {
   "cell_type": "code",
   "execution_count": 77,
   "metadata": {},
   "outputs": [],
   "source": [
    "rating['location'] = location\n",
    "rating['Latitude'] = lat\n",
    "rating['Longitude'] = lon\n",
    "rating['Average Rating'] = avg_rating"
   ]
  },
  {
   "cell_type": "code",
   "execution_count": 78,
   "metadata": {},
   "outputs": [
    {
     "data": {
      "text/html": [
       "<div>\n",
       "<style scoped>\n",
       "    .dataframe tbody tr th:only-of-type {\n",
       "        vertical-align: middle;\n",
       "    }\n",
       "\n",
       "    .dataframe tbody tr th {\n",
       "        vertical-align: top;\n",
       "    }\n",
       "\n",
       "    .dataframe thead th {\n",
       "        text-align: right;\n",
       "    }\n",
       "</style>\n",
       "<table border=\"1\" class=\"dataframe\">\n",
       "  <thead>\n",
       "    <tr style=\"text-align: right;\">\n",
       "      <th></th>\n",
       "      <th>location</th>\n",
       "      <th>Latitude</th>\n",
       "      <th>Longitude</th>\n",
       "      <th>Average Rating</th>\n",
       "    </tr>\n",
       "  </thead>\n",
       "  <tbody>\n",
       "    <tr>\n",
       "      <th>0</th>\n",
       "      <td>Lavelle Road</td>\n",
       "      <td>40.765284</td>\n",
       "      <td>-76.373824</td>\n",
       "      <td>4.066934</td>\n",
       "    </tr>\n",
       "    <tr>\n",
       "      <th>1</th>\n",
       "      <td>St. Marks Road</td>\n",
       "      <td>51.522765</td>\n",
       "      <td>-0.735446</td>\n",
       "      <td>4.017201</td>\n",
       "    </tr>\n",
       "    <tr>\n",
       "      <th>2</th>\n",
       "      <td>Koramangala 3rd Block</td>\n",
       "      <td>12.927187</td>\n",
       "      <td>77.626625</td>\n",
       "      <td>3.989119</td>\n",
       "    </tr>\n",
       "    <tr>\n",
       "      <th>3</th>\n",
       "      <td>Church Street</td>\n",
       "      <td>51.373656</td>\n",
       "      <td>-0.104237</td>\n",
       "      <td>3.970364</td>\n",
       "    </tr>\n",
       "    <tr>\n",
       "      <th>4</th>\n",
       "      <td>Sankey Road</td>\n",
       "      <td>38.780108</td>\n",
       "      <td>-121.505644</td>\n",
       "      <td>3.965385</td>\n",
       "    </tr>\n",
       "  </tbody>\n",
       "</table>\n",
       "</div>"
      ],
      "text/plain": [
       "                location   Latitude   Longitude  Average Rating\n",
       "0           Lavelle Road  40.765284  -76.373824        4.066934\n",
       "1         St. Marks Road  51.522765   -0.735446        4.017201\n",
       "2  Koramangala 3rd Block  12.927187   77.626625        3.989119\n",
       "3          Church Street  51.373656   -0.104237        3.970364\n",
       "4            Sankey Road  38.780108 -121.505644        3.965385"
      ]
     },
     "execution_count": 78,
     "metadata": {},
     "output_type": "execute_result"
    }
   ],
   "source": [
    "rating.head()"
   ]
  },
  {
   "cell_type": "code",
   "execution_count": 79,
   "metadata": {},
   "outputs": [
    {
     "data": {
      "text/plain": [
       "location          0\n",
       "Latitude          1\n",
       "Longitude         1\n",
       "Average Rating    0\n",
       "dtype: int64"
      ]
     },
     "execution_count": 79,
     "metadata": {},
     "output_type": "execute_result"
    }
   ],
   "source": [
    "rating.isna().sum()"
   ]
  },
  {
   "cell_type": "code",
   "execution_count": 80,
   "metadata": {},
   "outputs": [],
   "source": [
    "rating.dropna(inplace=True)"
   ]
  },
  {
   "cell_type": "code",
   "execution_count": 81,
   "metadata": {},
   "outputs": [
    {
     "data": {
      "text/plain": [
       "location          0\n",
       "Latitude          0\n",
       "Longitude         0\n",
       "Average Rating    0\n",
       "dtype: int64"
      ]
     },
     "execution_count": 81,
     "metadata": {},
     "output_type": "execute_result"
    }
   ],
   "source": [
    "rating.isna().sum()"
   ]
  },
  {
   "cell_type": "code",
   "execution_count": 82,
   "metadata": {},
   "outputs": [
    {
     "data": {
      "text/plain": [
       "<folium.plugins.heat_map.HeatMap at 0x213c421fcd0>"
      ]
     },
     "execution_count": 82,
     "metadata": {},
     "output_type": "execute_result"
    }
   ],
   "source": [
    "HeatMap(rating[['Latitude', 'Longitude', 'Average Rating']]).add_to(baseMap)"
   ]
  },
  {
   "cell_type": "code",
   "execution_count": 83,
   "metadata": {},
   "outputs": [
    {
     "data": {
      "text/html": [
       "<div style=\"width:100%;\"><div style=\"position:relative;width:100%;height:0;padding-bottom:60%;\"><span style=\"color:#565656\">Make this Notebook Trusted to load map: File -> Trust Notebook</span><iframe src=\"about:blank\" style=\"position:absolute;width:100%;height:100%;left:0;top:0;border:none !important;\" data-html=%3C%21DOCTYPE%20html%3E%0A%3Chead%3E%20%20%20%20%0A%20%20%20%20%3Cmeta%20http-equiv%3D%22content-type%22%20content%3D%22text/html%3B%20charset%3DUTF-8%22%20/%3E%0A%20%20%20%20%0A%20%20%20%20%20%20%20%20%3Cscript%3E%0A%20%20%20%20%20%20%20%20%20%20%20%20L_NO_TOUCH%20%3D%20false%3B%0A%20%20%20%20%20%20%20%20%20%20%20%20L_DISABLE_3D%20%3D%20false%3B%0A%20%20%20%20%20%20%20%20%3C/script%3E%0A%20%20%20%20%0A%20%20%20%20%3Cstyle%3Ehtml%2C%20body%20%7Bwidth%3A%20100%25%3Bheight%3A%20100%25%3Bmargin%3A%200%3Bpadding%3A%200%3B%7D%3C/style%3E%0A%20%20%20%20%3Cstyle%3E%23map%20%7Bposition%3Aabsolute%3Btop%3A0%3Bbottom%3A0%3Bright%3A0%3Bleft%3A0%3B%7D%3C/style%3E%0A%20%20%20%20%3Cscript%20src%3D%22https%3A//cdn.jsdelivr.net/npm/leaflet%401.6.0/dist/leaflet.js%22%3E%3C/script%3E%0A%20%20%20%20%3Cscript%20src%3D%22https%3A//code.jquery.com/jquery-1.12.4.min.js%22%3E%3C/script%3E%0A%20%20%20%20%3Cscript%20src%3D%22https%3A//maxcdn.bootstrapcdn.com/bootstrap/3.2.0/js/bootstrap.min.js%22%3E%3C/script%3E%0A%20%20%20%20%3Cscript%20src%3D%22https%3A//cdnjs.cloudflare.com/ajax/libs/Leaflet.awesome-markers/2.0.2/leaflet.awesome-markers.js%22%3E%3C/script%3E%0A%20%20%20%20%3Clink%20rel%3D%22stylesheet%22%20href%3D%22https%3A//cdn.jsdelivr.net/npm/leaflet%401.6.0/dist/leaflet.css%22/%3E%0A%20%20%20%20%3Clink%20rel%3D%22stylesheet%22%20href%3D%22https%3A//maxcdn.bootstrapcdn.com/bootstrap/3.2.0/css/bootstrap.min.css%22/%3E%0A%20%20%20%20%3Clink%20rel%3D%22stylesheet%22%20href%3D%22https%3A//maxcdn.bootstrapcdn.com/bootstrap/3.2.0/css/bootstrap-theme.min.css%22/%3E%0A%20%20%20%20%3Clink%20rel%3D%22stylesheet%22%20href%3D%22https%3A//maxcdn.bootstrapcdn.com/font-awesome/4.6.3/css/font-awesome.min.css%22/%3E%0A%20%20%20%20%3Clink%20rel%3D%22stylesheet%22%20href%3D%22https%3A//cdnjs.cloudflare.com/ajax/libs/Leaflet.awesome-markers/2.0.2/leaflet.awesome-markers.css%22/%3E%0A%20%20%20%20%3Clink%20rel%3D%22stylesheet%22%20href%3D%22https%3A//cdn.jsdelivr.net/gh/python-visualization/folium/folium/templates/leaflet.awesome.rotate.min.css%22/%3E%0A%20%20%20%20%0A%20%20%20%20%20%20%20%20%20%20%20%20%3Cmeta%20name%3D%22viewport%22%20content%3D%22width%3Ddevice-width%2C%0A%20%20%20%20%20%20%20%20%20%20%20%20%20%20%20%20initial-scale%3D1.0%2C%20maximum-scale%3D1.0%2C%20user-scalable%3Dno%22%20/%3E%0A%20%20%20%20%20%20%20%20%20%20%20%20%3Cstyle%3E%0A%20%20%20%20%20%20%20%20%20%20%20%20%20%20%20%20%23map_39dda0a1c5d64842af78e22cedad88f9%20%7B%0A%20%20%20%20%20%20%20%20%20%20%20%20%20%20%20%20%20%20%20%20position%3A%20relative%3B%0A%20%20%20%20%20%20%20%20%20%20%20%20%20%20%20%20%20%20%20%20width%3A%20100.0%25%3B%0A%20%20%20%20%20%20%20%20%20%20%20%20%20%20%20%20%20%20%20%20height%3A%20100.0%25%3B%0A%20%20%20%20%20%20%20%20%20%20%20%20%20%20%20%20%20%20%20%20left%3A%200.0%25%3B%0A%20%20%20%20%20%20%20%20%20%20%20%20%20%20%20%20%20%20%20%20top%3A%200.0%25%3B%0A%20%20%20%20%20%20%20%20%20%20%20%20%20%20%20%20%7D%0A%20%20%20%20%20%20%20%20%20%20%20%20%3C/style%3E%0A%20%20%20%20%20%20%20%20%0A%20%20%20%20%3Cscript%20src%3D%22https%3A//cdn.jsdelivr.net/gh/python-visualization/folium%40master/folium/templates/leaflet_heat.min.js%22%3E%3C/script%3E%0A%20%20%20%20%3Cscript%20src%3D%22https%3A//cdnjs.cloudflare.com/ajax/libs/leaflet.markercluster/1.1.0/leaflet.markercluster.js%22%3E%3C/script%3E%0A%20%20%20%20%3Clink%20rel%3D%22stylesheet%22%20href%3D%22https%3A//cdnjs.cloudflare.com/ajax/libs/leaflet.markercluster/1.1.0/MarkerCluster.css%22/%3E%0A%20%20%20%20%3Clink%20rel%3D%22stylesheet%22%20href%3D%22https%3A//cdnjs.cloudflare.com/ajax/libs/leaflet.markercluster/1.1.0/MarkerCluster.Default.css%22/%3E%0A%3C/head%3E%0A%3Cbody%3E%20%20%20%20%0A%20%20%20%20%0A%20%20%20%20%20%20%20%20%20%20%20%20%3Cdiv%20class%3D%22folium-map%22%20id%3D%22map_39dda0a1c5d64842af78e22cedad88f9%22%20%3E%3C/div%3E%0A%20%20%20%20%20%20%20%20%0A%3C/body%3E%0A%3Cscript%3E%20%20%20%20%0A%20%20%20%20%0A%20%20%20%20%20%20%20%20%20%20%20%20var%20map_39dda0a1c5d64842af78e22cedad88f9%20%3D%20L.map%28%0A%20%20%20%20%20%20%20%20%20%20%20%20%20%20%20%20%22map_39dda0a1c5d64842af78e22cedad88f9%22%2C%0A%20%20%20%20%20%20%20%20%20%20%20%20%20%20%20%20%7B%0A%20%20%20%20%20%20%20%20%20%20%20%20%20%20%20%20%20%20%20%20center%3A%20%5B12.9716%2C%2077.5946%5D%2C%0A%20%20%20%20%20%20%20%20%20%20%20%20%20%20%20%20%20%20%20%20crs%3A%20L.CRS.EPSG3857%2C%0A%20%20%20%20%20%20%20%20%20%20%20%20%20%20%20%20%20%20%20%20zoom%3A%2012%2C%0A%20%20%20%20%20%20%20%20%20%20%20%20%20%20%20%20%20%20%20%20zoomControl%3A%20true%2C%0A%20%20%20%20%20%20%20%20%20%20%20%20%20%20%20%20%20%20%20%20preferCanvas%3A%20false%2C%0A%20%20%20%20%20%20%20%20%20%20%20%20%20%20%20%20%7D%0A%20%20%20%20%20%20%20%20%20%20%20%20%29%3B%0A%0A%20%20%20%20%20%20%20%20%20%20%20%20%0A%0A%20%20%20%20%20%20%20%20%0A%20%20%20%20%0A%20%20%20%20%20%20%20%20%20%20%20%20var%20tile_layer_9f72edd3385b4d748dfbdf8c68d94fd4%20%3D%20L.tileLayer%28%0A%20%20%20%20%20%20%20%20%20%20%20%20%20%20%20%20%22https%3A//%7Bs%7D.tile.openstreetmap.org/%7Bz%7D/%7Bx%7D/%7By%7D.png%22%2C%0A%20%20%20%20%20%20%20%20%20%20%20%20%20%20%20%20%7B%22attribution%22%3A%20%22Data%20by%20%5Cu0026copy%3B%20%5Cu003ca%20href%3D%5C%22http%3A//openstreetmap.org%5C%22%5Cu003eOpenStreetMap%5Cu003c/a%5Cu003e%2C%20under%20%5Cu003ca%20href%3D%5C%22http%3A//www.openstreetmap.org/copyright%5C%22%5Cu003eODbL%5Cu003c/a%5Cu003e.%22%2C%20%22detectRetina%22%3A%20false%2C%20%22maxNativeZoom%22%3A%2018%2C%20%22maxZoom%22%3A%2018%2C%20%22minZoom%22%3A%200%2C%20%22noWrap%22%3A%20false%2C%20%22opacity%22%3A%201%2C%20%22subdomains%22%3A%20%22abc%22%2C%20%22tms%22%3A%20false%7D%0A%20%20%20%20%20%20%20%20%20%20%20%20%29.addTo%28map_39dda0a1c5d64842af78e22cedad88f9%29%3B%0A%20%20%20%20%20%20%20%20%0A%20%20%20%20%0A%20%20%20%20%20%20%20%20%20%20%20%20var%20heat_map_b6d05ecceadc4507a197fb71111bb8c0%20%3D%20L.heatLayer%28%0A%20%20%20%20%20%20%20%20%20%20%20%20%20%20%20%20%5B%5B45.95485055%2C%20-112.49659530324134%2C%205124.0%5D%2C%20%5B18.1475%2C%2041.538889%2C%202523.0%5D%2C%20%5B13.00540865%2C%2074.79460685941484%2C%202504.0%5D%2C%20%5B12.2655944%2C%2076.6465404%2C%202235.0%5D%2C%20%5B44.3730577%2C%20-71.6118577%2C%202144.0%5D%2C%20%5B12.9732913%2C%2077.6404672%2C%202083.0%5D%2C%20%5B27.64392675%2C%2083.05280519687284%2C%201926.0%5D%2C%20%5B12.9552572%2C%2077.6984163%2C%201846.0%5D%2C%20%5B12.887979%2C%2077.5970812%2C%201630.0%5D%2C%20%5B12.93577245%2C%2077.66676103753434%2C%201286.0%5D%2C%20%5B-6.2659285%2C%20106.7842561%2C%201258.0%5D%2C%20%5B14.5395813%2C%20121.070371%2C%201238.0%5D%2C%20%5B40.28745%2C%20-76.964526%2C%201218.0%5D%2C%20%5B13.0078418%2C%2074.7963208%2C%201181.0%5D%2C%20%5B12.9400321%2C%2077.6203272%2C%201156.0%5D%2C%20%5B12.9242381%2C%2077.6289059%2C%201065.0%5D%2C%20%5B12.9778793%2C%2077.6246697%2C%201023.0%5D%2C%20%5B12.93433385%2C%2077.63040639553275%2C%201017.0%5D%2C%20%5B17.9895618%2C%2079.5967057%2C%20918.0%5D%2C%20%5B15.8876779%2C%2075.7046777%2C%20906.0%5D%2C%20%5B13.0221416%2C%2077.6403368%2C%20853.0%5D%2C%20%5B50.7721586%2C%200.09772783661369303%2C%20812.0%5D%2C%20%5B12.996845%2C%2077.6130165%2C%20727.0%5D%2C%20%5B13.0027353%2C%2077.5703253%2C%20725.0%5D%2C%20%5B12.9417261%2C%2077.5755021%2C%20684.0%5D%2C%20%5B38.7385916%2C%20-77.5275749%2C%20675.0%5D%2C%20%5B13.0141618%2C%2077.6518539%2C%20664.0%5D%2C%20%5B33.5935063%2C%20-79.0345627%2C%20658.0%5D%2C%20%5B13.0346384%2C%2077.5681733%2C%20649.0%5D%2C%20%5B13.0093455%2C%2077.6377094%2C%20648.0%5D%2C%20%5B12.9882338%2C%2077.554883%2C%20591.0%5D%2C%20%5B51.373656%2C%20-0.1042366%2C%20569.0%5D%2C%20%5B40.7652844%2C%20-76.373824%2C%20529.0%5D%2C%20%5B12.9575547%2C%2077.5979099%2C%20511.0%5D%2C%20%5B18.5322493%2C%2073.8499601124847%2C%20499.0%5D%2C%20%5B12.9624669%2C%2077.6381958%2C%20496.0%5D%2C%20%5B31.89376%2C%20-88.066644%2C%20491.0%5D%2C%20%5B38.4876975%2C%20-109.4595323%2C%20446.0%5D%2C%20%5B12.945245%2C%2077.6269144%2C%20439.0%5D%2C%20%5B51.5173375%2C%20-0.073532%2C%20370.0%5D%2C%20%5B51.5227651%2C%20-0.7354457%2C%20352.0%5D%2C%20%5B12.9417812%2C%2077.6160146%2C%20320.0%5D%2C%20%5B12.988721250000001%2C%2077.58516877601824%2C%20295.0%5D%2C%20%5B12.9678074%2C%2077.6568367%2C%20272.0%5D%2C%20%5B12.9489339%2C%2077.5968273%2C%20246.0%5D%2C%20%5B12.9089453%2C%2077.6239038%2C%20238.0%5D%2C%20%5B12.9271867%2C%2077.6266252%2C%20216.0%5D%2C%20%5B12.9081487%2C%2077.5553179%2C%20195.0%5D%2C%20%5B12.973936%2C%2077.6509982%2C%20194.0%5D%2C%20%5B12.9932739%2C%2077.5388099%2C%20191.0%5D%2C%20%5B13.2227%2C%2078.5541977%2C%20187.0%5D%2C%20%5B12.9931876%2C%2077.5753419%2C%20165.0%5D%2C%20%5B13.0258087%2C%2077.6305067%2C%20161.0%5D%2C%20%5B1.2847055%2C%20103.84320655721689%2C%20155.0%5D%2C%20%5B13.0358698%2C%2077.6323597%2C%20153.0%5D%2C%20%5B34.977289%2C%20-78.974578%2C%20151.0%5D%2C%20%5B22.3146438%2C%2073.1597756%2C%20139.0%5D%2C%20%5B39.76880625%2C%20-86.15345077251979%2C%20126.0%5D%2C%20%5B13.02383%2C%2077.5529215%2C%20119.0%5D%2C%20%5B12.9414662%2C%2077.7470942%2C%20117.0%5D%2C%20%5B12.967576%2C%2077.7150877%2C%20113.0%5D%2C%20%5B13.0646907%2C%2077.49626895712257%2C%20107.0%5D%2C%20%5B12.9243509%2C%2077.6255562%2C%20102.0%5D%2C%20%5B12.773175%2C%2077.7831871%2C%20102.0%5D%2C%20%5B12.9846713%2C%2077.6790908%2C%20101.0%5D%2C%20%5B17.2510682%2C%2080.1651978%2C%2090.0%5D%2C%20%5B13.0227204%2C%2077.595715%2C%2080.0%5D%2C%20%5B22.8359967%2C%2069.3405962%2C%2080.0%5D%2C%20%5B23.1485712%2C%2081.6048241%2C%2076.0%5D%2C%20%5B15.8782951%2C%2074.5084834%2C%2063.0%5D%2C%20%5B13.0621474%2C%2077.58006135480495%2C%2053.0%5D%2C%20%5B13.2923988%2C%2077.7519261%2C%2048.0%5D%2C%20%5B13.0215466%2C%2077.7640586%2C%2044.0%5D%2C%20%5B11.9917786%2C%2076.5066292%2C%2038.0%5D%2C%20%5B12.945048%2C%2077.263004%2C%2034.0%5D%2C%20%5B12.957998%2C%2077.6037312%2C%2027.0%5D%2C%20%5B38.7801076%2C%20-121.5056438%2C%2027.0%5D%2C%20%5B12.3872141%2C%2076.6669626%2C%2022.0%5D%2C%20%5B13.194416%2C%2078.7011301%2C%2022.0%5D%2C%20%5B12.5607431%2C%2077.4258375%2C%2019.0%5D%2C%20%5B13.007516%2C%2077.695935%2C%2018.0%5D%2C%20%5B12.9055682%2C%2077.5455438%2C%2017.0%5D%2C%20%5B13.0217151%2C%2077.7660547%2C%2014.0%5D%2C%20%5B13.0382184%2C%2077.5919%2C%2014.0%5D%2C%20%5B12.9546741%2C%2077.5121724%2C%209.0%5D%2C%20%5B12.9176571%2C%2077.4837568%2C%209.0%5D%2C%20%5B13.0101286%2C%2077.5548006%2C%208.0%5D%2C%20%5B13.0011289%2C%2077.6325617%2C%206.0%5D%2C%20%5B13.1006982%2C%2077.5963454%2C%206.0%5D%2C%20%5B13.0784743%2C%2077.6068938%2C%203.0%5D%2C%20%5B12.9274413%2C%2077.5155224%2C%202.0%5D%2C%20%5B13.0329419%2C%2077.5273253%2C%201.0%5D%5D%2C%0A%20%20%20%20%20%20%20%20%20%20%20%20%20%20%20%20%7B%22blur%22%3A%2015%2C%20%22maxZoom%22%3A%2018%2C%20%22minOpacity%22%3A%200.5%2C%20%22radius%22%3A%2025%2C%20%22zoom%22%3A%2020%7D%0A%20%20%20%20%20%20%20%20%20%20%20%20%29.addTo%28map_39dda0a1c5d64842af78e22cedad88f9%29%3B%0A%20%20%20%20%20%20%20%20%0A%20%20%20%20%0A%20%20%20%20%20%20%20%20%20%20%20%20var%20fast_marker_cluster_26333ebe5fe245ddb744b0a0b693d8f6%20%3D%20%28function%28%29%7B%0A%20%20%20%20%20%20%20%20%20%20%20%20%20%20%20%20%0A%20%20%20%20%20%20%20%20%20%20%20%20%20%20%20%20var%20callback%20%3D%20function%20%28row%29%20%7B%0A%20%20%20%20%20%20%20%20%20%20%20%20%20%20%20%20%20%20%20%20var%20icon%20%3D%20L.AwesomeMarkers.icon%28%29%3B%0A%20%20%20%20%20%20%20%20%20%20%20%20%20%20%20%20%20%20%20%20var%20marker%20%3D%20L.marker%28new%20L.LatLng%28row%5B0%5D%2C%20row%5B1%5D%29%29%3B%0A%20%20%20%20%20%20%20%20%20%20%20%20%20%20%20%20%20%20%20%20marker.setIcon%28icon%29%3B%0A%20%20%20%20%20%20%20%20%20%20%20%20%20%20%20%20%20%20%20%20return%20marker%3B%0A%20%20%20%20%20%20%20%20%20%20%20%20%20%20%20%20%7D%3B%0A%0A%20%20%20%20%20%20%20%20%20%20%20%20%20%20%20%20var%20data%20%3D%20%5B%5B45.95485055%2C%20-112.49659530324134%2C%205124.0%5D%2C%20%5B18.1475%2C%2041.538889%2C%202523.0%5D%2C%20%5B13.00540865%2C%2074.79460685941484%2C%202504.0%5D%2C%20%5B12.2655944%2C%2076.6465404%2C%202235.0%5D%2C%20%5B44.3730577%2C%20-71.6118577%2C%202144.0%5D%2C%20%5B12.9732913%2C%2077.6404672%2C%202083.0%5D%2C%20%5B27.64392675%2C%2083.05280519687284%2C%201926.0%5D%2C%20%5B12.9552572%2C%2077.6984163%2C%201846.0%5D%2C%20%5B12.887979%2C%2077.5970812%2C%201630.0%5D%2C%20%5B12.93577245%2C%2077.66676103753434%2C%201286.0%5D%2C%20%5B-6.2659285%2C%20106.7842561%2C%201258.0%5D%2C%20%5B14.5395813%2C%20121.070371%2C%201238.0%5D%2C%20%5B40.28745%2C%20-76.964526%2C%201218.0%5D%2C%20%5B13.0078418%2C%2074.7963208%2C%201181.0%5D%2C%20%5B12.9400321%2C%2077.6203272%2C%201156.0%5D%2C%20%5B12.9242381%2C%2077.6289059%2C%201065.0%5D%2C%20%5B12.9778793%2C%2077.6246697%2C%201023.0%5D%2C%20%5B12.93433385%2C%2077.63040639553275%2C%201017.0%5D%2C%20%5B17.9895618%2C%2079.5967057%2C%20918.0%5D%2C%20%5B15.8876779%2C%2075.7046777%2C%20906.0%5D%2C%20%5B13.0221416%2C%2077.6403368%2C%20853.0%5D%2C%20%5B50.7721586%2C%200.09772783661369303%2C%20812.0%5D%2C%20%5B12.996845%2C%2077.6130165%2C%20727.0%5D%2C%20%5B13.0027353%2C%2077.5703253%2C%20725.0%5D%2C%20%5B12.9417261%2C%2077.5755021%2C%20684.0%5D%2C%20%5B38.7385916%2C%20-77.5275749%2C%20675.0%5D%2C%20%5B13.0141618%2C%2077.6518539%2C%20664.0%5D%2C%20%5B33.5935063%2C%20-79.0345627%2C%20658.0%5D%2C%20%5B13.0346384%2C%2077.5681733%2C%20649.0%5D%2C%20%5B13.0093455%2C%2077.6377094%2C%20648.0%5D%2C%20%5B12.9882338%2C%2077.554883%2C%20591.0%5D%2C%20%5B51.373656%2C%20-0.1042366%2C%20569.0%5D%2C%20%5B40.7652844%2C%20-76.373824%2C%20529.0%5D%2C%20%5B12.9575547%2C%2077.5979099%2C%20511.0%5D%2C%20%5B18.5322493%2C%2073.8499601124847%2C%20499.0%5D%2C%20%5B12.9624669%2C%2077.6381958%2C%20496.0%5D%2C%20%5B31.89376%2C%20-88.066644%2C%20491.0%5D%2C%20%5B38.4876975%2C%20-109.4595323%2C%20446.0%5D%2C%20%5B12.945245%2C%2077.6269144%2C%20439.0%5D%2C%20%5B51.5173375%2C%20-0.073532%2C%20370.0%5D%2C%20%5B51.5227651%2C%20-0.7354457%2C%20352.0%5D%2C%20%5B12.9417812%2C%2077.6160146%2C%20320.0%5D%2C%20%5B12.988721250000001%2C%2077.58516877601824%2C%20295.0%5D%2C%20%5B12.9678074%2C%2077.6568367%2C%20272.0%5D%2C%20%5B12.9489339%2C%2077.5968273%2C%20246.0%5D%2C%20%5B12.9089453%2C%2077.6239038%2C%20238.0%5D%2C%20%5B12.9271867%2C%2077.6266252%2C%20216.0%5D%2C%20%5B12.9081487%2C%2077.5553179%2C%20195.0%5D%2C%20%5B12.973936%2C%2077.6509982%2C%20194.0%5D%2C%20%5B12.9932739%2C%2077.5388099%2C%20191.0%5D%2C%20%5B13.2227%2C%2078.5541977%2C%20187.0%5D%2C%20%5B12.9931876%2C%2077.5753419%2C%20165.0%5D%2C%20%5B13.0258087%2C%2077.6305067%2C%20161.0%5D%2C%20%5B1.2847055%2C%20103.84320655721689%2C%20155.0%5D%2C%20%5B13.0358698%2C%2077.6323597%2C%20153.0%5D%2C%20%5B34.977289%2C%20-78.974578%2C%20151.0%5D%2C%20%5B22.3146438%2C%2073.1597756%2C%20139.0%5D%2C%20%5B39.76880625%2C%20-86.15345077251979%2C%20126.0%5D%2C%20%5B13.02383%2C%2077.5529215%2C%20119.0%5D%2C%20%5B12.9414662%2C%2077.7470942%2C%20117.0%5D%2C%20%5B12.967576%2C%2077.7150877%2C%20113.0%5D%2C%20%5B13.0646907%2C%2077.49626895712257%2C%20107.0%5D%2C%20%5B12.9243509%2C%2077.6255562%2C%20102.0%5D%2C%20%5B12.773175%2C%2077.7831871%2C%20102.0%5D%2C%20%5B12.9846713%2C%2077.6790908%2C%20101.0%5D%2C%20%5B17.2510682%2C%2080.1651978%2C%2090.0%5D%2C%20%5B13.0227204%2C%2077.595715%2C%2080.0%5D%2C%20%5B22.8359967%2C%2069.3405962%2C%2080.0%5D%2C%20%5B23.1485712%2C%2081.6048241%2C%2076.0%5D%2C%20%5B15.8782951%2C%2074.5084834%2C%2063.0%5D%2C%20%5B13.0621474%2C%2077.58006135480495%2C%2053.0%5D%2C%20%5B13.2923988%2C%2077.7519261%2C%2048.0%5D%2C%20%5B13.0215466%2C%2077.7640586%2C%2044.0%5D%2C%20%5B11.9917786%2C%2076.5066292%2C%2038.0%5D%2C%20%5B12.945048%2C%2077.263004%2C%2034.0%5D%2C%20%5B12.957998%2C%2077.6037312%2C%2027.0%5D%2C%20%5B38.7801076%2C%20-121.5056438%2C%2027.0%5D%2C%20%5B12.3872141%2C%2076.6669626%2C%2022.0%5D%2C%20%5B13.194416%2C%2078.7011301%2C%2022.0%5D%2C%20%5B12.5607431%2C%2077.4258375%2C%2019.0%5D%2C%20%5B13.007516%2C%2077.695935%2C%2018.0%5D%2C%20%5B12.9055682%2C%2077.5455438%2C%2017.0%5D%2C%20%5B13.0217151%2C%2077.7660547%2C%2014.0%5D%2C%20%5B13.0382184%2C%2077.5919%2C%2014.0%5D%2C%20%5B12.9546741%2C%2077.5121724%2C%209.0%5D%2C%20%5B12.9176571%2C%2077.4837568%2C%209.0%5D%2C%20%5B13.0101286%2C%2077.5548006%2C%208.0%5D%2C%20%5B13.0011289%2C%2077.6325617%2C%206.0%5D%2C%20%5B13.1006982%2C%2077.5963454%2C%206.0%5D%2C%20%5B13.0784743%2C%2077.6068938%2C%203.0%5D%2C%20%5B12.9274413%2C%2077.5155224%2C%202.0%5D%2C%20%5B13.0329419%2C%2077.5273253%2C%201.0%5D%5D%3B%0A%20%20%20%20%20%20%20%20%20%20%20%20%20%20%20%20var%20cluster%20%3D%20L.markerClusterGroup%28%7B%22zoom%22%3A%2020%7D%29%3B%0A%0A%20%20%20%20%20%20%20%20%20%20%20%20%20%20%20%20for%20%28var%20i%20%3D%200%3B%20i%20%3C%20data.length%3B%20i%2B%2B%29%20%7B%0A%20%20%20%20%20%20%20%20%20%20%20%20%20%20%20%20%20%20%20%20var%20row%20%3D%20data%5Bi%5D%3B%0A%20%20%20%20%20%20%20%20%20%20%20%20%20%20%20%20%20%20%20%20var%20marker%20%3D%20callback%28row%29%3B%0A%20%20%20%20%20%20%20%20%20%20%20%20%20%20%20%20%20%20%20%20marker.addTo%28cluster%29%3B%0A%20%20%20%20%20%20%20%20%20%20%20%20%20%20%20%20%7D%0A%0A%20%20%20%20%20%20%20%20%20%20%20%20%20%20%20%20cluster.addTo%28map_39dda0a1c5d64842af78e22cedad88f9%29%3B%0A%20%20%20%20%20%20%20%20%20%20%20%20%20%20%20%20return%20cluster%3B%0A%20%20%20%20%20%20%20%20%20%20%20%20%7D%29%28%29%3B%0A%20%20%20%20%20%20%20%20%0A%20%20%20%20%0A%20%20%20%20%20%20%20%20%20%20%20%20var%20heat_map_a909ecf7d6f845bc9d62773433a1e66c%20%3D%20L.heatLayer%28%0A%20%20%20%20%20%20%20%20%20%20%20%20%20%20%20%20%5B%5B40.7652844%2C%20-76.373824%2C%204.066933867735475%5D%2C%20%5B51.5227651%2C%20-0.7354457%2C%204.0172011661807625%5D%2C%20%5B12.9271867%2C%2077.6266252%2C%203.9891191709844587%5D%2C%20%5B51.373656%2C%20-0.1042366%2C%203.970363636363635%5D%2C%20%5B38.7801076%2C%20-121.5056438%2C%203.9653846153846155%5D%2C%20%5B13.00540865%2C%2074.79460685941484%2C%203.9275514489710175%5D%2C%20%5B31.89376%2C%20-88.066644%2C%203.901052631578944%5D%2C%20%5B12.9274413%2C%2077.5155224%2C%203.85%5D%2C%20%5B38.7385916%2C%20-77.5275749%2C%203.8495065789473677%5D%2C%20%5B12.93433385%2C%2077.63040639553275%2C%203.840972222222229%5D%2C%20%5B15.8782951%2C%2074.5084834%2C%203.839655172413795%5D%2C%20%5B12.957998%2C%2077.6037312%2C%203.8074074074074087%5D%2C%20%5B34.977289%2C%20-78.974578%2C%203.796428571428575%5D%2C%20%5B13.0078418%2C%2074.7963208%2C%203.774471992653818%5D%2C%20%5B17.9895618%2C%2079.5967057%2C%203.770454545454541%5D%2C%20%5B22.3146438%2C%2073.1597756%2C%203.741605839416058%5D%2C%20%5B50.7721586%2C%200.09772783661369303%2C%203.7227129337539377%5D%2C%20%5B12.9176571%2C%2077.4837568%2C%203.7222222222222223%5D%2C%20%5B12.773175%2C%2077.7831871%2C%203.7148648648648637%5D%2C%20%5B12.9931876%2C%2077.5753419%2C%203.7049295774647875%5D%2C%20%5B12.9732913%2C%2077.6404672%2C%203.698140495867767%5D%2C%20%5B12.9400321%2C%2077.6203272%2C%203.6930693069306937%5D%2C%20%5B13.0027353%2C%2077.5703253%2C%203.692553191489358%5D%2C%20%5B27.64392675%2C%2083.05280519687284%2C%203.6589057043073336%5D%2C%20%5B12.9417812%2C%2077.6160146%2C%203.6408333333333283%5D%2C%20%5B13.1006982%2C%2077.5963454%2C%203.6399999999999997%5D%2C%20%5B13.2923988%2C%2077.7519261%2C%203.6387096774193557%5D%2C%20%5B40.28745%2C%20-76.964526%2C%203.625369003690041%5D%2C%20%5B13.0101286%2C%2077.5548006%2C%203.6250000000000004%5D%2C%20%5B13.0346384%2C%2077.5681733%2C%203.611854684512431%5D%2C%20%5B12.988721250000001%2C%2077.58516877601824%2C%203.6087301587301583%5D%2C%20%5B12.9243509%2C%2077.6255562%2C%203.5999999999999988%5D%2C%20%5B12.9778793%2C%2077.6246697%2C%203.599112097669261%5D%2C%20%5B13.0221416%2C%2077.6403368%2C%203.595989304812834%5D%2C%20%5B12.996845%2C%2077.6130165%2C%203.578719723183388%5D%2C%20%5B13.0093455%2C%2077.6377094%2C%203.5455238095238104%5D%2C%20%5B18.1475%2C%2041.538889%2C%203.5352913533834602%5D%2C%20%5B12.9242381%2C%2077.6289059%2C%203.531229597388462%5D%2C%20%5B12.9417261%2C%2077.5755021%2C%203.5307324840764305%5D%2C%20%5B13.0621474%2C%2077.58006135480495%2C%203.521276595744681%5D%2C%20%5B12.3872141%2C%2076.6669626%2C%203.511111111111112%5D%2C%20%5B12.9055682%2C%2077.5455438%2C%203.511111111111111%5D%2C%20%5B13.02383%2C%2077.5529215%2C%203.5026785714285693%5D%2C%20%5B12.9932739%2C%2077.5388099%2C%203.5006896551724145%5D%2C%20%5B18.5322493%2C%2073.8499601124847%2C%203.498916967509032%5D%2C%20%5B11.9917786%2C%2076.5066292%2C%203.4869565217391307%5D%2C%20%5B12.9846713%2C%2077.6790908%2C%203.4846153846153847%5D%2C%20%5B12.2655944%2C%2076.6465404%2C%203.484315846403459%5D%2C%20%5B12.5607431%2C%2077.4258375%2C%203.478947368421052%5D%2C%20%5B12.9882338%2C%2077.554883%2C%203.475770020533879%5D%2C%20%5B39.76880625%2C%20-86.15345077251979%2C%203.471794871794872%5D%2C%20%5B12.9678074%2C%2077.6568367%2C%203.4717557251908406%5D%2C%20%5B38.4876975%2C%20-109.4595323%2C%203.461658031088085%5D%2C%20%5B44.3730577%2C%20-71.6118577%2C%203.449734199645598%5D%2C%20%5B15.8876779%2C%2075.7046777%2C%203.449068322981369%5D%2C%20%5B13.0646907%2C%2077.49626895712257%2C%203.441758241758243%5D%2C%20%5B12.9552572%2C%2077.6984163%2C%203.440452428476383%5D%2C%20%5B12.945048%2C%2077.263004%2C%203.4375000000000004%5D%2C%20%5B33.5935063%2C%20-79.0345627%2C%203.436660929432015%5D%2C%20%5B12.9624669%2C%2077.6381958%2C%203.4321678321678344%5D%2C%20%5B13.0141618%2C%2077.6518539%2C%203.401002004008019%5D%2C%20%5B23.1485712%2C%2081.6048241%2C%203.4000000000000012%5D%2C%20%5B12.9546741%2C%2077.5121724%2C%203.4%5D%2C%20%5B12.967576%2C%2077.7150877%2C%203.391666666666667%5D%2C%20%5B13.0358698%2C%2077.6323597%2C%203.3873873873873865%5D%2C%20%5B13.2227%2C%2078.5541977%2C%203.381818181818182%5D%2C%20%5B14.5395813%2C%20121.070371%2C%203.3810362694300498%5D%2C%20%5B12.9575547%2C%2077.5979099%2C%203.380000000000003%5D%2C%20%5B12.9414662%2C%2077.7470942%2C%203.3741935483870957%5D%2C%20%5B45.95485055%2C%20-112.49659530324134%2C%203.373808965031689%5D%2C%20%5B12.93577245%2C%2077.66676103753434%2C%203.3710575139146552%5D%2C%20%5B12.9081487%2C%2077.5553179%2C%203.3619047619047615%5D%2C%20%5B1.2847055%2C%20103.84320655721689%2C%203.353389830508472%5D%2C%20%5B22.8359967%2C%2069.3405962%2C%203.347887323943663%5D%2C%20%5B12.887979%2C%2077.5970812%2C%203.3388972809667714%5D%2C%20%5B12.9489339%2C%2077.5968273%2C%203.3364532019704396%5D%2C%20%5B13.0227204%2C%2077.595715%2C%203.3249999999999984%5D%2C%20%5B13.0215466%2C%2077.7640586%2C%203.3099999999999996%5D%2C%20%5B13.007516%2C%2077.695935%2C%203.3090909090909095%5D%2C%20%5B17.2510682%2C%2080.1651978%2C%203.290909090909091%5D%2C%20%5B51.5228207%2C%20-0.0776446%2C%203.235922330097086%5D%2C%20%5B12.973936%2C%2077.6509982%2C%203.2203947368421053%5D%2C%20%5B13.0258087%2C%2077.6305067%2C%203.2083969465648847%5D%2C%20%5B13.0329419%2C%2077.5273253%2C%203.2%5D%2C%20%5B13.194416%2C%2078.7011301%2C%203.1818181818181825%5D%2C%20%5B12.945245%2C%2077.6269144%2C%203.1763513513513515%5D%2C%20%5B-6.2659285%2C%20106.7842561%2C%203.1705394190871385%5D%2C%20%5B13.0382184%2C%2077.5919%2C%203.08%5D%2C%20%5B12.9089453%2C%2077.6239038%2C%203.00955414012739%5D%2C%20%5B13.0217151%2C%2077.7660547%2C%202.6714285714285713%5D%2C%20%5B13.0011289%2C%2077.6325617%2C%202.42%5D%5D%2C%0A%20%20%20%20%20%20%20%20%20%20%20%20%20%20%20%20%7B%22blur%22%3A%2015%2C%20%22maxZoom%22%3A%2018%2C%20%22minOpacity%22%3A%200.5%2C%20%22radius%22%3A%2025%7D%0A%20%20%20%20%20%20%20%20%20%20%20%20%29.addTo%28map_39dda0a1c5d64842af78e22cedad88f9%29%3B%0A%20%20%20%20%20%20%20%20%0A%3C/script%3E onload=\"this.contentDocument.open();this.contentDocument.write(    decodeURIComponent(this.getAttribute('data-html')));this.contentDocument.close();\" allowfullscreen webkitallowfullscreen mozallowfullscreen></iframe></div></div>"
      ],
      "text/plain": [
       "<folium.folium.Map at 0x213c41bc910>"
      ]
     },
     "execution_count": 83,
     "metadata": {},
     "output_type": "execute_result"
    }
   ],
   "source": [
    "baseMap"
   ]
  },
  {
   "cell_type": "code",
   "execution_count": 84,
   "metadata": {},
   "outputs": [
    {
     "data": {
      "text/html": [
       "<div>\n",
       "<style scoped>\n",
       "    .dataframe tbody tr th:only-of-type {\n",
       "        vertical-align: middle;\n",
       "    }\n",
       "\n",
       "    .dataframe tbody tr th {\n",
       "        vertical-align: top;\n",
       "    }\n",
       "\n",
       "    .dataframe thead th {\n",
       "        text-align: right;\n",
       "    }\n",
       "</style>\n",
       "<table border=\"1\" class=\"dataframe\">\n",
       "  <thead>\n",
       "    <tr style=\"text-align: right;\">\n",
       "      <th></th>\n",
       "      <th>url</th>\n",
       "      <th>address</th>\n",
       "      <th>name</th>\n",
       "      <th>online_order</th>\n",
       "      <th>book_table</th>\n",
       "      <th>rate</th>\n",
       "      <th>votes</th>\n",
       "      <th>phone</th>\n",
       "      <th>location</th>\n",
       "      <th>rest_type</th>\n",
       "      <th>dish_liked</th>\n",
       "      <th>cuisines</th>\n",
       "      <th>approx_cost(for two people)</th>\n",
       "      <th>reviews_list</th>\n",
       "      <th>menu_item</th>\n",
       "      <th>listed_in(type)</th>\n",
       "      <th>listed_in(city)</th>\n",
       "      <th>rating</th>\n",
       "    </tr>\n",
       "  </thead>\n",
       "  <tbody>\n",
       "    <tr>\n",
       "      <th>0</th>\n",
       "      <td>https://www.zomato.com/bangalore/jalsa-banasha...</td>\n",
       "      <td>942, 21st Main Road, 2nd Stage, Banashankari, ...</td>\n",
       "      <td>Jalsa</td>\n",
       "      <td>Yes</td>\n",
       "      <td>Yes</td>\n",
       "      <td>4.1/5</td>\n",
       "      <td>775</td>\n",
       "      <td>080 42297555\\r\\n+91 9743772233</td>\n",
       "      <td>Banashankari</td>\n",
       "      <td>Casual Dining</td>\n",
       "      <td>Pasta, Lunch Buffet, Masala Papad, Paneer Laja...</td>\n",
       "      <td>North Indian, Mughlai, Chinese</td>\n",
       "      <td>800</td>\n",
       "      <td>[('Rated 4.0', 'RATED\\n  A beautiful place to ...</td>\n",
       "      <td>[]</td>\n",
       "      <td>Buffet</td>\n",
       "      <td>Banashankari</td>\n",
       "      <td>4.1</td>\n",
       "    </tr>\n",
       "    <tr>\n",
       "      <th>1</th>\n",
       "      <td>https://www.zomato.com/bangalore/spice-elephan...</td>\n",
       "      <td>2nd Floor, 80 Feet Road, Near Big Bazaar, 6th ...</td>\n",
       "      <td>Spice Elephant</td>\n",
       "      <td>Yes</td>\n",
       "      <td>No</td>\n",
       "      <td>4.1/5</td>\n",
       "      <td>787</td>\n",
       "      <td>080 41714161</td>\n",
       "      <td>Banashankari</td>\n",
       "      <td>Casual Dining</td>\n",
       "      <td>Momos, Lunch Buffet, Chocolate Nirvana, Thai G...</td>\n",
       "      <td>Chinese, North Indian, Thai</td>\n",
       "      <td>800</td>\n",
       "      <td>[('Rated 4.0', 'RATED\\n  Had been here for din...</td>\n",
       "      <td>[]</td>\n",
       "      <td>Buffet</td>\n",
       "      <td>Banashankari</td>\n",
       "      <td>4.1</td>\n",
       "    </tr>\n",
       "    <tr>\n",
       "      <th>2</th>\n",
       "      <td>https://www.zomato.com/SanchurroBangalore?cont...</td>\n",
       "      <td>1112, Next to KIMS Medical College, 17th Cross...</td>\n",
       "      <td>San Churro Cafe</td>\n",
       "      <td>Yes</td>\n",
       "      <td>No</td>\n",
       "      <td>3.8/5</td>\n",
       "      <td>918</td>\n",
       "      <td>+91 9663487993</td>\n",
       "      <td>Banashankari</td>\n",
       "      <td>Cafe, Casual Dining</td>\n",
       "      <td>Churros, Cannelloni, Minestrone Soup, Hot Choc...</td>\n",
       "      <td>Cafe, Mexican, Italian</td>\n",
       "      <td>800</td>\n",
       "      <td>[('Rated 3.0', \"RATED\\n  Ambience is not that ...</td>\n",
       "      <td>[]</td>\n",
       "      <td>Buffet</td>\n",
       "      <td>Banashankari</td>\n",
       "      <td>3.8</td>\n",
       "    </tr>\n",
       "    <tr>\n",
       "      <th>3</th>\n",
       "      <td>https://www.zomato.com/bangalore/addhuri-udupi...</td>\n",
       "      <td>1st Floor, Annakuteera, 3rd Stage, Banashankar...</td>\n",
       "      <td>Addhuri Udupi Bhojana</td>\n",
       "      <td>No</td>\n",
       "      <td>No</td>\n",
       "      <td>3.7/5</td>\n",
       "      <td>88</td>\n",
       "      <td>+91 9620009302</td>\n",
       "      <td>Banashankari</td>\n",
       "      <td>Quick Bites</td>\n",
       "      <td>Masala Dosa</td>\n",
       "      <td>South Indian, North Indian</td>\n",
       "      <td>300</td>\n",
       "      <td>[('Rated 4.0', \"RATED\\n  Great food and proper...</td>\n",
       "      <td>[]</td>\n",
       "      <td>Buffet</td>\n",
       "      <td>Banashankari</td>\n",
       "      <td>3.7</td>\n",
       "    </tr>\n",
       "    <tr>\n",
       "      <th>4</th>\n",
       "      <td>https://www.zomato.com/bangalore/grand-village...</td>\n",
       "      <td>10, 3rd Floor, Lakshmi Associates, Gandhi Baza...</td>\n",
       "      <td>Grand Village</td>\n",
       "      <td>No</td>\n",
       "      <td>No</td>\n",
       "      <td>3.8/5</td>\n",
       "      <td>166</td>\n",
       "      <td>+91 8026612447\\r\\n+91 9901210005</td>\n",
       "      <td>Basavanagudi</td>\n",
       "      <td>Casual Dining</td>\n",
       "      <td>Panipuri, Gol Gappe</td>\n",
       "      <td>North Indian, Rajasthani</td>\n",
       "      <td>600</td>\n",
       "      <td>[('Rated 4.0', 'RATED\\n  Very good restaurant ...</td>\n",
       "      <td>[]</td>\n",
       "      <td>Buffet</td>\n",
       "      <td>Banashankari</td>\n",
       "      <td>3.8</td>\n",
       "    </tr>\n",
       "  </tbody>\n",
       "</table>\n",
       "</div>"
      ],
      "text/plain": [
       "                                                 url  \\\n",
       "0  https://www.zomato.com/bangalore/jalsa-banasha...   \n",
       "1  https://www.zomato.com/bangalore/spice-elephan...   \n",
       "2  https://www.zomato.com/SanchurroBangalore?cont...   \n",
       "3  https://www.zomato.com/bangalore/addhuri-udupi...   \n",
       "4  https://www.zomato.com/bangalore/grand-village...   \n",
       "\n",
       "                                             address                   name  \\\n",
       "0  942, 21st Main Road, 2nd Stage, Banashankari, ...                  Jalsa   \n",
       "1  2nd Floor, 80 Feet Road, Near Big Bazaar, 6th ...         Spice Elephant   \n",
       "2  1112, Next to KIMS Medical College, 17th Cross...        San Churro Cafe   \n",
       "3  1st Floor, Annakuteera, 3rd Stage, Banashankar...  Addhuri Udupi Bhojana   \n",
       "4  10, 3rd Floor, Lakshmi Associates, Gandhi Baza...          Grand Village   \n",
       "\n",
       "  online_order book_table   rate  votes                             phone  \\\n",
       "0          Yes        Yes  4.1/5    775    080 42297555\\r\\n+91 9743772233   \n",
       "1          Yes         No  4.1/5    787                      080 41714161   \n",
       "2          Yes         No  3.8/5    918                    +91 9663487993   \n",
       "3           No         No  3.7/5     88                    +91 9620009302   \n",
       "4           No         No  3.8/5    166  +91 8026612447\\r\\n+91 9901210005   \n",
       "\n",
       "       location            rest_type  \\\n",
       "0  Banashankari        Casual Dining   \n",
       "1  Banashankari        Casual Dining   \n",
       "2  Banashankari  Cafe, Casual Dining   \n",
       "3  Banashankari          Quick Bites   \n",
       "4  Basavanagudi        Casual Dining   \n",
       "\n",
       "                                          dish_liked  \\\n",
       "0  Pasta, Lunch Buffet, Masala Papad, Paneer Laja...   \n",
       "1  Momos, Lunch Buffet, Chocolate Nirvana, Thai G...   \n",
       "2  Churros, Cannelloni, Minestrone Soup, Hot Choc...   \n",
       "3                                        Masala Dosa   \n",
       "4                                Panipuri, Gol Gappe   \n",
       "\n",
       "                         cuisines approx_cost(for two people)  \\\n",
       "0  North Indian, Mughlai, Chinese                         800   \n",
       "1     Chinese, North Indian, Thai                         800   \n",
       "2          Cafe, Mexican, Italian                         800   \n",
       "3      South Indian, North Indian                         300   \n",
       "4        North Indian, Rajasthani                         600   \n",
       "\n",
       "                                        reviews_list menu_item  \\\n",
       "0  [('Rated 4.0', 'RATED\\n  A beautiful place to ...        []   \n",
       "1  [('Rated 4.0', 'RATED\\n  Had been here for din...        []   \n",
       "2  [('Rated 3.0', \"RATED\\n  Ambience is not that ...        []   \n",
       "3  [('Rated 4.0', \"RATED\\n  Great food and proper...        []   \n",
       "4  [('Rated 4.0', 'RATED\\n  Very good restaurant ...        []   \n",
       "\n",
       "  listed_in(type) listed_in(city)  rating  \n",
       "0          Buffet    Banashankari     4.1  \n",
       "1          Buffet    Banashankari     4.1  \n",
       "2          Buffet    Banashankari     3.8  \n",
       "3          Buffet    Banashankari     3.7  \n",
       "4          Buffet    Banashankari     3.8  "
      ]
     },
     "execution_count": 84,
     "metadata": {},
     "output_type": "execute_result"
    }
   ],
   "source": [
    "df.head()"
   ]
  },
  {
   "cell_type": "code",
   "execution_count": 86,
   "metadata": {},
   "outputs": [
    {
     "data": {
      "text/html": [
       "<div>\n",
       "<style scoped>\n",
       "    .dataframe tbody tr th:only-of-type {\n",
       "        vertical-align: middle;\n",
       "    }\n",
       "\n",
       "    .dataframe tbody tr th {\n",
       "        vertical-align: top;\n",
       "    }\n",
       "\n",
       "    .dataframe thead th {\n",
       "        text-align: right;\n",
       "    }\n",
       "</style>\n",
       "<table border=\"1\" class=\"dataframe\">\n",
       "  <thead>\n",
       "    <tr style=\"text-align: right;\">\n",
       "      <th></th>\n",
       "      <th>url</th>\n",
       "      <th>address</th>\n",
       "      <th>name</th>\n",
       "      <th>online_order</th>\n",
       "      <th>book_table</th>\n",
       "      <th>rate</th>\n",
       "      <th>votes</th>\n",
       "      <th>phone</th>\n",
       "      <th>location</th>\n",
       "      <th>rest_type</th>\n",
       "      <th>dish_liked</th>\n",
       "      <th>cuisines</th>\n",
       "      <th>approx_cost(for two people)</th>\n",
       "      <th>reviews_list</th>\n",
       "      <th>menu_item</th>\n",
       "      <th>listed_in(type)</th>\n",
       "      <th>listed_in(city)</th>\n",
       "      <th>rating</th>\n",
       "    </tr>\n",
       "  </thead>\n",
       "  <tbody>\n",
       "    <tr>\n",
       "      <th>5</th>\n",
       "      <td>https://www.zomato.com/bangalore/timepass-dinn...</td>\n",
       "      <td>37, 5-1, 4th Floor, Bosco Court, Gandhi Bazaar...</td>\n",
       "      <td>Timepass Dinner</td>\n",
       "      <td>Yes</td>\n",
       "      <td>No</td>\n",
       "      <td>3.8/5</td>\n",
       "      <td>286</td>\n",
       "      <td>+91 9980040002\\r\\n+91 9980063005</td>\n",
       "      <td>Basavanagudi</td>\n",
       "      <td>Casual Dining</td>\n",
       "      <td>Onion Rings, Pasta, Kadhai Paneer, Salads, Sal...</td>\n",
       "      <td>North Indian</td>\n",
       "      <td>600</td>\n",
       "      <td>[('Rated 3.0', 'RATED\\n  Food 3/5\\nAmbience 3/...</td>\n",
       "      <td>[]</td>\n",
       "      <td>Buffet</td>\n",
       "      <td>Banashankari</td>\n",
       "      <td>3.8</td>\n",
       "    </tr>\n",
       "    <tr>\n",
       "      <th>50</th>\n",
       "      <td>https://www.zomato.com/bangalore/petoo-banasha...</td>\n",
       "      <td>276, Ground Floor, 100 Feet Outer Ring Road, B...</td>\n",
       "      <td>Petoo</td>\n",
       "      <td>No</td>\n",
       "      <td>No</td>\n",
       "      <td>3.7/5</td>\n",
       "      <td>21</td>\n",
       "      <td>+91 8026893211</td>\n",
       "      <td>Banashankari</td>\n",
       "      <td>Quick Bites</td>\n",
       "      <td>NaN</td>\n",
       "      <td>North Indian</td>\n",
       "      <td>450</td>\n",
       "      <td>[('Rated 2.0', 'RATED\\n  This is a neatly made...</td>\n",
       "      <td>[]</td>\n",
       "      <td>Delivery</td>\n",
       "      <td>Banashankari</td>\n",
       "      <td>3.7</td>\n",
       "    </tr>\n",
       "    <tr>\n",
       "      <th>72</th>\n",
       "      <td>https://www.zomato.com/bangalore/spicy-tandoor...</td>\n",
       "      <td>Opposite ICICi Bank, Hanuman Nagar, Banashanka...</td>\n",
       "      <td>Spicy Tandoor</td>\n",
       "      <td>No</td>\n",
       "      <td>No</td>\n",
       "      <td>1</td>\n",
       "      <td>0</td>\n",
       "      <td>+91 8050884222</td>\n",
       "      <td>Banashankari</td>\n",
       "      <td>Quick Bites</td>\n",
       "      <td>NaN</td>\n",
       "      <td>North Indian</td>\n",
       "      <td>150</td>\n",
       "      <td>[('Rated 4.0', 'RATED\\n  cost for chicken roll...</td>\n",
       "      <td>[]</td>\n",
       "      <td>Delivery</td>\n",
       "      <td>Banashankari</td>\n",
       "      <td>1.0</td>\n",
       "    </tr>\n",
       "    <tr>\n",
       "      <th>87</th>\n",
       "      <td>https://www.zomato.com/bangalore/krishna-sagar...</td>\n",
       "      <td>38, 22nd Main, 22nd Cross, Opposite BDA, 2nd S...</td>\n",
       "      <td>Krishna Sagar</td>\n",
       "      <td>No</td>\n",
       "      <td>No</td>\n",
       "      <td>3.5/5</td>\n",
       "      <td>31</td>\n",
       "      <td>+91 8892752997\\r\\n+91 7204780429</td>\n",
       "      <td>Banashankari</td>\n",
       "      <td>Quick Bites</td>\n",
       "      <td>NaN</td>\n",
       "      <td>North Indian</td>\n",
       "      <td>200</td>\n",
       "      <td>[('Rated 1.0', 'RATED\\n  Worst experience with...</td>\n",
       "      <td>[]</td>\n",
       "      <td>Delivery</td>\n",
       "      <td>Banashankari</td>\n",
       "      <td>3.5</td>\n",
       "    </tr>\n",
       "    <tr>\n",
       "      <th>94</th>\n",
       "      <td>https://www.zomato.com/bangalore/nandhini-delu...</td>\n",
       "      <td>304, Opposite Apollo Public School, 100 Feet R...</td>\n",
       "      <td>Nandhini Deluxe</td>\n",
       "      <td>No</td>\n",
       "      <td>No</td>\n",
       "      <td>2.6/5</td>\n",
       "      <td>283</td>\n",
       "      <td>080 26890011\\r\\n080 26890033</td>\n",
       "      <td>Banashankari</td>\n",
       "      <td>Casual Dining</td>\n",
       "      <td>Biryani, Chicken Guntur, Thali, Buttermilk, Ma...</td>\n",
       "      <td>North Indian</td>\n",
       "      <td>600</td>\n",
       "      <td>[('Rated 3.0', 'RATED\\n  Ididnt like much.\\n\\n...</td>\n",
       "      <td>[]</td>\n",
       "      <td>Delivery</td>\n",
       "      <td>Banashankari</td>\n",
       "      <td>2.6</td>\n",
       "    </tr>\n",
       "  </tbody>\n",
       "</table>\n",
       "</div>"
      ],
      "text/plain": [
       "                                                  url  \\\n",
       "5   https://www.zomato.com/bangalore/timepass-dinn...   \n",
       "50  https://www.zomato.com/bangalore/petoo-banasha...   \n",
       "72  https://www.zomato.com/bangalore/spicy-tandoor...   \n",
       "87  https://www.zomato.com/bangalore/krishna-sagar...   \n",
       "94  https://www.zomato.com/bangalore/nandhini-delu...   \n",
       "\n",
       "                                              address             name  \\\n",
       "5   37, 5-1, 4th Floor, Bosco Court, Gandhi Bazaar...  Timepass Dinner   \n",
       "50  276, Ground Floor, 100 Feet Outer Ring Road, B...            Petoo   \n",
       "72  Opposite ICICi Bank, Hanuman Nagar, Banashanka...    Spicy Tandoor   \n",
       "87  38, 22nd Main, 22nd Cross, Opposite BDA, 2nd S...    Krishna Sagar   \n",
       "94  304, Opposite Apollo Public School, 100 Feet R...  Nandhini Deluxe   \n",
       "\n",
       "   online_order book_table   rate  votes                             phone  \\\n",
       "5           Yes         No  3.8/5    286  +91 9980040002\\r\\n+91 9980063005   \n",
       "50           No         No  3.7/5     21                    +91 8026893211   \n",
       "72           No         No      1      0                    +91 8050884222   \n",
       "87           No         No  3.5/5     31  +91 8892752997\\r\\n+91 7204780429   \n",
       "94           No         No  2.6/5    283      080 26890011\\r\\n080 26890033   \n",
       "\n",
       "        location      rest_type  \\\n",
       "5   Basavanagudi  Casual Dining   \n",
       "50  Banashankari    Quick Bites   \n",
       "72  Banashankari    Quick Bites   \n",
       "87  Banashankari    Quick Bites   \n",
       "94  Banashankari  Casual Dining   \n",
       "\n",
       "                                           dish_liked      cuisines  \\\n",
       "5   Onion Rings, Pasta, Kadhai Paneer, Salads, Sal...  North Indian   \n",
       "50                                                NaN  North Indian   \n",
       "72                                                NaN  North Indian   \n",
       "87                                                NaN  North Indian   \n",
       "94  Biryani, Chicken Guntur, Thali, Buttermilk, Ma...  North Indian   \n",
       "\n",
       "   approx_cost(for two people)  \\\n",
       "5                          600   \n",
       "50                         450   \n",
       "72                         150   \n",
       "87                         200   \n",
       "94                         600   \n",
       "\n",
       "                                         reviews_list menu_item  \\\n",
       "5   [('Rated 3.0', 'RATED\\n  Food 3/5\\nAmbience 3/...        []   \n",
       "50  [('Rated 2.0', 'RATED\\n  This is a neatly made...        []   \n",
       "72  [('Rated 4.0', 'RATED\\n  cost for chicken roll...        []   \n",
       "87  [('Rated 1.0', 'RATED\\n  Worst experience with...        []   \n",
       "94  [('Rated 3.0', 'RATED\\n  Ididnt like much.\\n\\n...        []   \n",
       "\n",
       "   listed_in(type) listed_in(city)  rating  \n",
       "5           Buffet    Banashankari     3.8  \n",
       "50        Delivery    Banashankari     3.7  \n",
       "72        Delivery    Banashankari     1.0  \n",
       "87        Delivery    Banashankari     3.5  \n",
       "94        Delivery    Banashankari     2.6  "
      ]
     },
     "execution_count": 86,
     "metadata": {},
     "output_type": "execute_result"
    }
   ],
   "source": [
    "filter = df['cuisines']==\"North Indian\"\n",
    "df2 = df[filter]\n",
    "df2.head()"
   ]
  },
  {
   "cell_type": "code",
   "execution_count": 89,
   "metadata": {},
   "outputs": [],
   "source": [
    "North_India = df2.groupby('location')['url'].count().reset_index()"
   ]
  },
  {
   "cell_type": "code",
   "execution_count": 90,
   "metadata": {},
   "outputs": [
    {
     "data": {
      "text/html": [
       "<div>\n",
       "<style scoped>\n",
       "    .dataframe tbody tr th:only-of-type {\n",
       "        vertical-align: middle;\n",
       "    }\n",
       "\n",
       "    .dataframe tbody tr th {\n",
       "        vertical-align: top;\n",
       "    }\n",
       "\n",
       "    .dataframe thead th {\n",
       "        text-align: right;\n",
       "    }\n",
       "</style>\n",
       "<table border=\"1\" class=\"dataframe\">\n",
       "  <thead>\n",
       "    <tr style=\"text-align: right;\">\n",
       "      <th></th>\n",
       "      <th>location</th>\n",
       "      <th>url</th>\n",
       "    </tr>\n",
       "  </thead>\n",
       "  <tbody>\n",
       "    <tr>\n",
       "      <th>0</th>\n",
       "      <td>BTM</td>\n",
       "      <td>274</td>\n",
       "    </tr>\n",
       "    <tr>\n",
       "      <th>1</th>\n",
       "      <td>Banashankari</td>\n",
       "      <td>35</td>\n",
       "    </tr>\n",
       "    <tr>\n",
       "      <th>2</th>\n",
       "      <td>Banaswadi</td>\n",
       "      <td>9</td>\n",
       "    </tr>\n",
       "    <tr>\n",
       "      <th>3</th>\n",
       "      <td>Bannerghatta Road</td>\n",
       "      <td>60</td>\n",
       "    </tr>\n",
       "    <tr>\n",
       "      <th>4</th>\n",
       "      <td>Basavanagudi</td>\n",
       "      <td>17</td>\n",
       "    </tr>\n",
       "  </tbody>\n",
       "</table>\n",
       "</div>"
      ],
      "text/plain": [
       "            location  url\n",
       "0                BTM  274\n",
       "1       Banashankari   35\n",
       "2          Banaswadi    9\n",
       "3  Bannerghatta Road   60\n",
       "4       Basavanagudi   17"
      ]
     },
     "execution_count": 90,
     "metadata": {},
     "output_type": "execute_result"
    }
   ],
   "source": [
    "North_India.head()"
   ]
  },
  {
   "cell_type": "code",
   "execution_count": 92,
   "metadata": {},
   "outputs": [],
   "source": [
    "North_India.columns=['Name', 'Count']"
   ]
  },
  {
   "cell_type": "code",
   "execution_count": 93,
   "metadata": {},
   "outputs": [
    {
     "data": {
      "text/html": [
       "<div>\n",
       "<style scoped>\n",
       "    .dataframe tbody tr th:only-of-type {\n",
       "        vertical-align: middle;\n",
       "    }\n",
       "\n",
       "    .dataframe tbody tr th {\n",
       "        vertical-align: top;\n",
       "    }\n",
       "\n",
       "    .dataframe thead th {\n",
       "        text-align: right;\n",
       "    }\n",
       "</style>\n",
       "<table border=\"1\" class=\"dataframe\">\n",
       "  <thead>\n",
       "    <tr style=\"text-align: right;\">\n",
       "      <th></th>\n",
       "      <th>Name</th>\n",
       "      <th>Count</th>\n",
       "    </tr>\n",
       "  </thead>\n",
       "  <tbody>\n",
       "    <tr>\n",
       "      <th>0</th>\n",
       "      <td>BTM</td>\n",
       "      <td>274</td>\n",
       "    </tr>\n",
       "    <tr>\n",
       "      <th>1</th>\n",
       "      <td>Banashankari</td>\n",
       "      <td>35</td>\n",
       "    </tr>\n",
       "    <tr>\n",
       "      <th>2</th>\n",
       "      <td>Banaswadi</td>\n",
       "      <td>9</td>\n",
       "    </tr>\n",
       "    <tr>\n",
       "      <th>3</th>\n",
       "      <td>Bannerghatta Road</td>\n",
       "      <td>60</td>\n",
       "    </tr>\n",
       "    <tr>\n",
       "      <th>4</th>\n",
       "      <td>Basavanagudi</td>\n",
       "      <td>17</td>\n",
       "    </tr>\n",
       "  </tbody>\n",
       "</table>\n",
       "</div>"
      ],
      "text/plain": [
       "                Name  Count\n",
       "0                BTM    274\n",
       "1       Banashankari     35\n",
       "2          Banaswadi      9\n",
       "3  Bannerghatta Road     60\n",
       "4       Basavanagudi     17"
      ]
     },
     "execution_count": 93,
     "metadata": {},
     "output_type": "execute_result"
    }
   ],
   "source": [
    "North_India.head()"
   ]
  },
  {
   "cell_type": "code",
   "execution_count": 95,
   "metadata": {},
   "outputs": [],
   "source": [
    "North_India = North_India.merge(locations, on='Name', how='left').dropna()"
   ]
  },
  {
   "cell_type": "code",
   "execution_count": 98,
   "metadata": {},
   "outputs": [],
   "source": [
    "NI = North_India[['Latitude', 'Longitude', 'Count']].head()"
   ]
  },
  {
   "cell_type": "code",
   "execution_count": 99,
   "metadata": {},
   "outputs": [
    {
     "data": {
      "text/plain": [
       "<folium.plugins.heat_map.HeatMap at 0x213c409e490>"
      ]
     },
     "execution_count": 99,
     "metadata": {},
     "output_type": "execute_result"
    }
   ],
   "source": [
    "HeatMap(NI, zoom=20, radius=50).add_to(baseMap)"
   ]
  },
  {
   "cell_type": "code",
   "execution_count": 100,
   "metadata": {},
   "outputs": [
    {
     "data": {
      "text/html": [
       "<div style=\"width:100%;\"><div style=\"position:relative;width:100%;height:0;padding-bottom:60%;\"><span style=\"color:#565656\">Make this Notebook Trusted to load map: File -> Trust Notebook</span><iframe src=\"about:blank\" style=\"position:absolute;width:100%;height:100%;left:0;top:0;border:none !important;\" data-html=%3C%21DOCTYPE%20html%3E%0A%3Chead%3E%20%20%20%20%0A%20%20%20%20%3Cmeta%20http-equiv%3D%22content-type%22%20content%3D%22text/html%3B%20charset%3DUTF-8%22%20/%3E%0A%20%20%20%20%0A%20%20%20%20%20%20%20%20%3Cscript%3E%0A%20%20%20%20%20%20%20%20%20%20%20%20L_NO_TOUCH%20%3D%20false%3B%0A%20%20%20%20%20%20%20%20%20%20%20%20L_DISABLE_3D%20%3D%20false%3B%0A%20%20%20%20%20%20%20%20%3C/script%3E%0A%20%20%20%20%0A%20%20%20%20%3Cstyle%3Ehtml%2C%20body%20%7Bwidth%3A%20100%25%3Bheight%3A%20100%25%3Bmargin%3A%200%3Bpadding%3A%200%3B%7D%3C/style%3E%0A%20%20%20%20%3Cstyle%3E%23map%20%7Bposition%3Aabsolute%3Btop%3A0%3Bbottom%3A0%3Bright%3A0%3Bleft%3A0%3B%7D%3C/style%3E%0A%20%20%20%20%3Cscript%20src%3D%22https%3A//cdn.jsdelivr.net/npm/leaflet%401.6.0/dist/leaflet.js%22%3E%3C/script%3E%0A%20%20%20%20%3Cscript%20src%3D%22https%3A//code.jquery.com/jquery-1.12.4.min.js%22%3E%3C/script%3E%0A%20%20%20%20%3Cscript%20src%3D%22https%3A//maxcdn.bootstrapcdn.com/bootstrap/3.2.0/js/bootstrap.min.js%22%3E%3C/script%3E%0A%20%20%20%20%3Cscript%20src%3D%22https%3A//cdnjs.cloudflare.com/ajax/libs/Leaflet.awesome-markers/2.0.2/leaflet.awesome-markers.js%22%3E%3C/script%3E%0A%20%20%20%20%3Clink%20rel%3D%22stylesheet%22%20href%3D%22https%3A//cdn.jsdelivr.net/npm/leaflet%401.6.0/dist/leaflet.css%22/%3E%0A%20%20%20%20%3Clink%20rel%3D%22stylesheet%22%20href%3D%22https%3A//maxcdn.bootstrapcdn.com/bootstrap/3.2.0/css/bootstrap.min.css%22/%3E%0A%20%20%20%20%3Clink%20rel%3D%22stylesheet%22%20href%3D%22https%3A//maxcdn.bootstrapcdn.com/bootstrap/3.2.0/css/bootstrap-theme.min.css%22/%3E%0A%20%20%20%20%3Clink%20rel%3D%22stylesheet%22%20href%3D%22https%3A//maxcdn.bootstrapcdn.com/font-awesome/4.6.3/css/font-awesome.min.css%22/%3E%0A%20%20%20%20%3Clink%20rel%3D%22stylesheet%22%20href%3D%22https%3A//cdnjs.cloudflare.com/ajax/libs/Leaflet.awesome-markers/2.0.2/leaflet.awesome-markers.css%22/%3E%0A%20%20%20%20%3Clink%20rel%3D%22stylesheet%22%20href%3D%22https%3A//cdn.jsdelivr.net/gh/python-visualization/folium/folium/templates/leaflet.awesome.rotate.min.css%22/%3E%0A%20%20%20%20%0A%20%20%20%20%20%20%20%20%20%20%20%20%3Cmeta%20name%3D%22viewport%22%20content%3D%22width%3Ddevice-width%2C%0A%20%20%20%20%20%20%20%20%20%20%20%20%20%20%20%20initial-scale%3D1.0%2C%20maximum-scale%3D1.0%2C%20user-scalable%3Dno%22%20/%3E%0A%20%20%20%20%20%20%20%20%20%20%20%20%3Cstyle%3E%0A%20%20%20%20%20%20%20%20%20%20%20%20%20%20%20%20%23map_39dda0a1c5d64842af78e22cedad88f9%20%7B%0A%20%20%20%20%20%20%20%20%20%20%20%20%20%20%20%20%20%20%20%20position%3A%20relative%3B%0A%20%20%20%20%20%20%20%20%20%20%20%20%20%20%20%20%20%20%20%20width%3A%20100.0%25%3B%0A%20%20%20%20%20%20%20%20%20%20%20%20%20%20%20%20%20%20%20%20height%3A%20100.0%25%3B%0A%20%20%20%20%20%20%20%20%20%20%20%20%20%20%20%20%20%20%20%20left%3A%200.0%25%3B%0A%20%20%20%20%20%20%20%20%20%20%20%20%20%20%20%20%20%20%20%20top%3A%200.0%25%3B%0A%20%20%20%20%20%20%20%20%20%20%20%20%20%20%20%20%7D%0A%20%20%20%20%20%20%20%20%20%20%20%20%3C/style%3E%0A%20%20%20%20%20%20%20%20%0A%20%20%20%20%3Cscript%20src%3D%22https%3A//cdn.jsdelivr.net/gh/python-visualization/folium%40master/folium/templates/leaflet_heat.min.js%22%3E%3C/script%3E%0A%20%20%20%20%3Cscript%20src%3D%22https%3A//cdnjs.cloudflare.com/ajax/libs/leaflet.markercluster/1.1.0/leaflet.markercluster.js%22%3E%3C/script%3E%0A%20%20%20%20%3Clink%20rel%3D%22stylesheet%22%20href%3D%22https%3A//cdnjs.cloudflare.com/ajax/libs/leaflet.markercluster/1.1.0/MarkerCluster.css%22/%3E%0A%20%20%20%20%3Clink%20rel%3D%22stylesheet%22%20href%3D%22https%3A//cdnjs.cloudflare.com/ajax/libs/leaflet.markercluster/1.1.0/MarkerCluster.Default.css%22/%3E%0A%3C/head%3E%0A%3Cbody%3E%20%20%20%20%0A%20%20%20%20%0A%20%20%20%20%20%20%20%20%20%20%20%20%3Cdiv%20class%3D%22folium-map%22%20id%3D%22map_39dda0a1c5d64842af78e22cedad88f9%22%20%3E%3C/div%3E%0A%20%20%20%20%20%20%20%20%0A%3C/body%3E%0A%3Cscript%3E%20%20%20%20%0A%20%20%20%20%0A%20%20%20%20%20%20%20%20%20%20%20%20var%20map_39dda0a1c5d64842af78e22cedad88f9%20%3D%20L.map%28%0A%20%20%20%20%20%20%20%20%20%20%20%20%20%20%20%20%22map_39dda0a1c5d64842af78e22cedad88f9%22%2C%0A%20%20%20%20%20%20%20%20%20%20%20%20%20%20%20%20%7B%0A%20%20%20%20%20%20%20%20%20%20%20%20%20%20%20%20%20%20%20%20center%3A%20%5B12.9716%2C%2077.5946%5D%2C%0A%20%20%20%20%20%20%20%20%20%20%20%20%20%20%20%20%20%20%20%20crs%3A%20L.CRS.EPSG3857%2C%0A%20%20%20%20%20%20%20%20%20%20%20%20%20%20%20%20%20%20%20%20zoom%3A%2012%2C%0A%20%20%20%20%20%20%20%20%20%20%20%20%20%20%20%20%20%20%20%20zoomControl%3A%20true%2C%0A%20%20%20%20%20%20%20%20%20%20%20%20%20%20%20%20%20%20%20%20preferCanvas%3A%20false%2C%0A%20%20%20%20%20%20%20%20%20%20%20%20%20%20%20%20%7D%0A%20%20%20%20%20%20%20%20%20%20%20%20%29%3B%0A%0A%20%20%20%20%20%20%20%20%20%20%20%20%0A%0A%20%20%20%20%20%20%20%20%0A%20%20%20%20%0A%20%20%20%20%20%20%20%20%20%20%20%20var%20tile_layer_9f72edd3385b4d748dfbdf8c68d94fd4%20%3D%20L.tileLayer%28%0A%20%20%20%20%20%20%20%20%20%20%20%20%20%20%20%20%22https%3A//%7Bs%7D.tile.openstreetmap.org/%7Bz%7D/%7Bx%7D/%7By%7D.png%22%2C%0A%20%20%20%20%20%20%20%20%20%20%20%20%20%20%20%20%7B%22attribution%22%3A%20%22Data%20by%20%5Cu0026copy%3B%20%5Cu003ca%20href%3D%5C%22http%3A//openstreetmap.org%5C%22%5Cu003eOpenStreetMap%5Cu003c/a%5Cu003e%2C%20under%20%5Cu003ca%20href%3D%5C%22http%3A//www.openstreetmap.org/copyright%5C%22%5Cu003eODbL%5Cu003c/a%5Cu003e.%22%2C%20%22detectRetina%22%3A%20false%2C%20%22maxNativeZoom%22%3A%2018%2C%20%22maxZoom%22%3A%2018%2C%20%22minZoom%22%3A%200%2C%20%22noWrap%22%3A%20false%2C%20%22opacity%22%3A%201%2C%20%22subdomains%22%3A%20%22abc%22%2C%20%22tms%22%3A%20false%7D%0A%20%20%20%20%20%20%20%20%20%20%20%20%29.addTo%28map_39dda0a1c5d64842af78e22cedad88f9%29%3B%0A%20%20%20%20%20%20%20%20%0A%20%20%20%20%0A%20%20%20%20%20%20%20%20%20%20%20%20var%20heat_map_b6d05ecceadc4507a197fb71111bb8c0%20%3D%20L.heatLayer%28%0A%20%20%20%20%20%20%20%20%20%20%20%20%20%20%20%20%5B%5B45.95485055%2C%20-112.49659530324134%2C%205124.0%5D%2C%20%5B18.1475%2C%2041.538889%2C%202523.0%5D%2C%20%5B13.00540865%2C%2074.79460685941484%2C%202504.0%5D%2C%20%5B12.2655944%2C%2076.6465404%2C%202235.0%5D%2C%20%5B44.3730577%2C%20-71.6118577%2C%202144.0%5D%2C%20%5B12.9732913%2C%2077.6404672%2C%202083.0%5D%2C%20%5B27.64392675%2C%2083.05280519687284%2C%201926.0%5D%2C%20%5B12.9552572%2C%2077.6984163%2C%201846.0%5D%2C%20%5B12.887979%2C%2077.5970812%2C%201630.0%5D%2C%20%5B12.93577245%2C%2077.66676103753434%2C%201286.0%5D%2C%20%5B-6.2659285%2C%20106.7842561%2C%201258.0%5D%2C%20%5B14.5395813%2C%20121.070371%2C%201238.0%5D%2C%20%5B40.28745%2C%20-76.964526%2C%201218.0%5D%2C%20%5B13.0078418%2C%2074.7963208%2C%201181.0%5D%2C%20%5B12.9400321%2C%2077.6203272%2C%201156.0%5D%2C%20%5B12.9242381%2C%2077.6289059%2C%201065.0%5D%2C%20%5B12.9778793%2C%2077.6246697%2C%201023.0%5D%2C%20%5B12.93433385%2C%2077.63040639553275%2C%201017.0%5D%2C%20%5B17.9895618%2C%2079.5967057%2C%20918.0%5D%2C%20%5B15.8876779%2C%2075.7046777%2C%20906.0%5D%2C%20%5B13.0221416%2C%2077.6403368%2C%20853.0%5D%2C%20%5B50.7721586%2C%200.09772783661369303%2C%20812.0%5D%2C%20%5B12.996845%2C%2077.6130165%2C%20727.0%5D%2C%20%5B13.0027353%2C%2077.5703253%2C%20725.0%5D%2C%20%5B12.9417261%2C%2077.5755021%2C%20684.0%5D%2C%20%5B38.7385916%2C%20-77.5275749%2C%20675.0%5D%2C%20%5B13.0141618%2C%2077.6518539%2C%20664.0%5D%2C%20%5B33.5935063%2C%20-79.0345627%2C%20658.0%5D%2C%20%5B13.0346384%2C%2077.5681733%2C%20649.0%5D%2C%20%5B13.0093455%2C%2077.6377094%2C%20648.0%5D%2C%20%5B12.9882338%2C%2077.554883%2C%20591.0%5D%2C%20%5B51.373656%2C%20-0.1042366%2C%20569.0%5D%2C%20%5B40.7652844%2C%20-76.373824%2C%20529.0%5D%2C%20%5B12.9575547%2C%2077.5979099%2C%20511.0%5D%2C%20%5B18.5322493%2C%2073.8499601124847%2C%20499.0%5D%2C%20%5B12.9624669%2C%2077.6381958%2C%20496.0%5D%2C%20%5B31.89376%2C%20-88.066644%2C%20491.0%5D%2C%20%5B38.4876975%2C%20-109.4595323%2C%20446.0%5D%2C%20%5B12.945245%2C%2077.6269144%2C%20439.0%5D%2C%20%5B51.5173375%2C%20-0.073532%2C%20370.0%5D%2C%20%5B51.5227651%2C%20-0.7354457%2C%20352.0%5D%2C%20%5B12.9417812%2C%2077.6160146%2C%20320.0%5D%2C%20%5B12.988721250000001%2C%2077.58516877601824%2C%20295.0%5D%2C%20%5B12.9678074%2C%2077.6568367%2C%20272.0%5D%2C%20%5B12.9489339%2C%2077.5968273%2C%20246.0%5D%2C%20%5B12.9089453%2C%2077.6239038%2C%20238.0%5D%2C%20%5B12.9271867%2C%2077.6266252%2C%20216.0%5D%2C%20%5B12.9081487%2C%2077.5553179%2C%20195.0%5D%2C%20%5B12.973936%2C%2077.6509982%2C%20194.0%5D%2C%20%5B12.9932739%2C%2077.5388099%2C%20191.0%5D%2C%20%5B13.2227%2C%2078.5541977%2C%20187.0%5D%2C%20%5B12.9931876%2C%2077.5753419%2C%20165.0%5D%2C%20%5B13.0258087%2C%2077.6305067%2C%20161.0%5D%2C%20%5B1.2847055%2C%20103.84320655721689%2C%20155.0%5D%2C%20%5B13.0358698%2C%2077.6323597%2C%20153.0%5D%2C%20%5B34.977289%2C%20-78.974578%2C%20151.0%5D%2C%20%5B22.3146438%2C%2073.1597756%2C%20139.0%5D%2C%20%5B39.76880625%2C%20-86.15345077251979%2C%20126.0%5D%2C%20%5B13.02383%2C%2077.5529215%2C%20119.0%5D%2C%20%5B12.9414662%2C%2077.7470942%2C%20117.0%5D%2C%20%5B12.967576%2C%2077.7150877%2C%20113.0%5D%2C%20%5B13.0646907%2C%2077.49626895712257%2C%20107.0%5D%2C%20%5B12.9243509%2C%2077.6255562%2C%20102.0%5D%2C%20%5B12.773175%2C%2077.7831871%2C%20102.0%5D%2C%20%5B12.9846713%2C%2077.6790908%2C%20101.0%5D%2C%20%5B17.2510682%2C%2080.1651978%2C%2090.0%5D%2C%20%5B13.0227204%2C%2077.595715%2C%2080.0%5D%2C%20%5B22.8359967%2C%2069.3405962%2C%2080.0%5D%2C%20%5B23.1485712%2C%2081.6048241%2C%2076.0%5D%2C%20%5B15.8782951%2C%2074.5084834%2C%2063.0%5D%2C%20%5B13.0621474%2C%2077.58006135480495%2C%2053.0%5D%2C%20%5B13.2923988%2C%2077.7519261%2C%2048.0%5D%2C%20%5B13.0215466%2C%2077.7640586%2C%2044.0%5D%2C%20%5B11.9917786%2C%2076.5066292%2C%2038.0%5D%2C%20%5B12.945048%2C%2077.263004%2C%2034.0%5D%2C%20%5B12.957998%2C%2077.6037312%2C%2027.0%5D%2C%20%5B38.7801076%2C%20-121.5056438%2C%2027.0%5D%2C%20%5B12.3872141%2C%2076.6669626%2C%2022.0%5D%2C%20%5B13.194416%2C%2078.7011301%2C%2022.0%5D%2C%20%5B12.5607431%2C%2077.4258375%2C%2019.0%5D%2C%20%5B13.007516%2C%2077.695935%2C%2018.0%5D%2C%20%5B12.9055682%2C%2077.5455438%2C%2017.0%5D%2C%20%5B13.0217151%2C%2077.7660547%2C%2014.0%5D%2C%20%5B13.0382184%2C%2077.5919%2C%2014.0%5D%2C%20%5B12.9546741%2C%2077.5121724%2C%209.0%5D%2C%20%5B12.9176571%2C%2077.4837568%2C%209.0%5D%2C%20%5B13.0101286%2C%2077.5548006%2C%208.0%5D%2C%20%5B13.0011289%2C%2077.6325617%2C%206.0%5D%2C%20%5B13.1006982%2C%2077.5963454%2C%206.0%5D%2C%20%5B13.0784743%2C%2077.6068938%2C%203.0%5D%2C%20%5B12.9274413%2C%2077.5155224%2C%202.0%5D%2C%20%5B13.0329419%2C%2077.5273253%2C%201.0%5D%5D%2C%0A%20%20%20%20%20%20%20%20%20%20%20%20%20%20%20%20%7B%22blur%22%3A%2015%2C%20%22maxZoom%22%3A%2018%2C%20%22minOpacity%22%3A%200.5%2C%20%22radius%22%3A%2025%2C%20%22zoom%22%3A%2020%7D%0A%20%20%20%20%20%20%20%20%20%20%20%20%29.addTo%28map_39dda0a1c5d64842af78e22cedad88f9%29%3B%0A%20%20%20%20%20%20%20%20%0A%20%20%20%20%0A%20%20%20%20%20%20%20%20%20%20%20%20var%20fast_marker_cluster_26333ebe5fe245ddb744b0a0b693d8f6%20%3D%20%28function%28%29%7B%0A%20%20%20%20%20%20%20%20%20%20%20%20%20%20%20%20%0A%20%20%20%20%20%20%20%20%20%20%20%20%20%20%20%20var%20callback%20%3D%20function%20%28row%29%20%7B%0A%20%20%20%20%20%20%20%20%20%20%20%20%20%20%20%20%20%20%20%20var%20icon%20%3D%20L.AwesomeMarkers.icon%28%29%3B%0A%20%20%20%20%20%20%20%20%20%20%20%20%20%20%20%20%20%20%20%20var%20marker%20%3D%20L.marker%28new%20L.LatLng%28row%5B0%5D%2C%20row%5B1%5D%29%29%3B%0A%20%20%20%20%20%20%20%20%20%20%20%20%20%20%20%20%20%20%20%20marker.setIcon%28icon%29%3B%0A%20%20%20%20%20%20%20%20%20%20%20%20%20%20%20%20%20%20%20%20return%20marker%3B%0A%20%20%20%20%20%20%20%20%20%20%20%20%20%20%20%20%7D%3B%0A%0A%20%20%20%20%20%20%20%20%20%20%20%20%20%20%20%20var%20data%20%3D%20%5B%5B45.95485055%2C%20-112.49659530324134%2C%205124.0%5D%2C%20%5B18.1475%2C%2041.538889%2C%202523.0%5D%2C%20%5B13.00540865%2C%2074.79460685941484%2C%202504.0%5D%2C%20%5B12.2655944%2C%2076.6465404%2C%202235.0%5D%2C%20%5B44.3730577%2C%20-71.6118577%2C%202144.0%5D%2C%20%5B12.9732913%2C%2077.6404672%2C%202083.0%5D%2C%20%5B27.64392675%2C%2083.05280519687284%2C%201926.0%5D%2C%20%5B12.9552572%2C%2077.6984163%2C%201846.0%5D%2C%20%5B12.887979%2C%2077.5970812%2C%201630.0%5D%2C%20%5B12.93577245%2C%2077.66676103753434%2C%201286.0%5D%2C%20%5B-6.2659285%2C%20106.7842561%2C%201258.0%5D%2C%20%5B14.5395813%2C%20121.070371%2C%201238.0%5D%2C%20%5B40.28745%2C%20-76.964526%2C%201218.0%5D%2C%20%5B13.0078418%2C%2074.7963208%2C%201181.0%5D%2C%20%5B12.9400321%2C%2077.6203272%2C%201156.0%5D%2C%20%5B12.9242381%2C%2077.6289059%2C%201065.0%5D%2C%20%5B12.9778793%2C%2077.6246697%2C%201023.0%5D%2C%20%5B12.93433385%2C%2077.63040639553275%2C%201017.0%5D%2C%20%5B17.9895618%2C%2079.5967057%2C%20918.0%5D%2C%20%5B15.8876779%2C%2075.7046777%2C%20906.0%5D%2C%20%5B13.0221416%2C%2077.6403368%2C%20853.0%5D%2C%20%5B50.7721586%2C%200.09772783661369303%2C%20812.0%5D%2C%20%5B12.996845%2C%2077.6130165%2C%20727.0%5D%2C%20%5B13.0027353%2C%2077.5703253%2C%20725.0%5D%2C%20%5B12.9417261%2C%2077.5755021%2C%20684.0%5D%2C%20%5B38.7385916%2C%20-77.5275749%2C%20675.0%5D%2C%20%5B13.0141618%2C%2077.6518539%2C%20664.0%5D%2C%20%5B33.5935063%2C%20-79.0345627%2C%20658.0%5D%2C%20%5B13.0346384%2C%2077.5681733%2C%20649.0%5D%2C%20%5B13.0093455%2C%2077.6377094%2C%20648.0%5D%2C%20%5B12.9882338%2C%2077.554883%2C%20591.0%5D%2C%20%5B51.373656%2C%20-0.1042366%2C%20569.0%5D%2C%20%5B40.7652844%2C%20-76.373824%2C%20529.0%5D%2C%20%5B12.9575547%2C%2077.5979099%2C%20511.0%5D%2C%20%5B18.5322493%2C%2073.8499601124847%2C%20499.0%5D%2C%20%5B12.9624669%2C%2077.6381958%2C%20496.0%5D%2C%20%5B31.89376%2C%20-88.066644%2C%20491.0%5D%2C%20%5B38.4876975%2C%20-109.4595323%2C%20446.0%5D%2C%20%5B12.945245%2C%2077.6269144%2C%20439.0%5D%2C%20%5B51.5173375%2C%20-0.073532%2C%20370.0%5D%2C%20%5B51.5227651%2C%20-0.7354457%2C%20352.0%5D%2C%20%5B12.9417812%2C%2077.6160146%2C%20320.0%5D%2C%20%5B12.988721250000001%2C%2077.58516877601824%2C%20295.0%5D%2C%20%5B12.9678074%2C%2077.6568367%2C%20272.0%5D%2C%20%5B12.9489339%2C%2077.5968273%2C%20246.0%5D%2C%20%5B12.9089453%2C%2077.6239038%2C%20238.0%5D%2C%20%5B12.9271867%2C%2077.6266252%2C%20216.0%5D%2C%20%5B12.9081487%2C%2077.5553179%2C%20195.0%5D%2C%20%5B12.973936%2C%2077.6509982%2C%20194.0%5D%2C%20%5B12.9932739%2C%2077.5388099%2C%20191.0%5D%2C%20%5B13.2227%2C%2078.5541977%2C%20187.0%5D%2C%20%5B12.9931876%2C%2077.5753419%2C%20165.0%5D%2C%20%5B13.0258087%2C%2077.6305067%2C%20161.0%5D%2C%20%5B1.2847055%2C%20103.84320655721689%2C%20155.0%5D%2C%20%5B13.0358698%2C%2077.6323597%2C%20153.0%5D%2C%20%5B34.977289%2C%20-78.974578%2C%20151.0%5D%2C%20%5B22.3146438%2C%2073.1597756%2C%20139.0%5D%2C%20%5B39.76880625%2C%20-86.15345077251979%2C%20126.0%5D%2C%20%5B13.02383%2C%2077.5529215%2C%20119.0%5D%2C%20%5B12.9414662%2C%2077.7470942%2C%20117.0%5D%2C%20%5B12.967576%2C%2077.7150877%2C%20113.0%5D%2C%20%5B13.0646907%2C%2077.49626895712257%2C%20107.0%5D%2C%20%5B12.9243509%2C%2077.6255562%2C%20102.0%5D%2C%20%5B12.773175%2C%2077.7831871%2C%20102.0%5D%2C%20%5B12.9846713%2C%2077.6790908%2C%20101.0%5D%2C%20%5B17.2510682%2C%2080.1651978%2C%2090.0%5D%2C%20%5B13.0227204%2C%2077.595715%2C%2080.0%5D%2C%20%5B22.8359967%2C%2069.3405962%2C%2080.0%5D%2C%20%5B23.1485712%2C%2081.6048241%2C%2076.0%5D%2C%20%5B15.8782951%2C%2074.5084834%2C%2063.0%5D%2C%20%5B13.0621474%2C%2077.58006135480495%2C%2053.0%5D%2C%20%5B13.2923988%2C%2077.7519261%2C%2048.0%5D%2C%20%5B13.0215466%2C%2077.7640586%2C%2044.0%5D%2C%20%5B11.9917786%2C%2076.5066292%2C%2038.0%5D%2C%20%5B12.945048%2C%2077.263004%2C%2034.0%5D%2C%20%5B12.957998%2C%2077.6037312%2C%2027.0%5D%2C%20%5B38.7801076%2C%20-121.5056438%2C%2027.0%5D%2C%20%5B12.3872141%2C%2076.6669626%2C%2022.0%5D%2C%20%5B13.194416%2C%2078.7011301%2C%2022.0%5D%2C%20%5B12.5607431%2C%2077.4258375%2C%2019.0%5D%2C%20%5B13.007516%2C%2077.695935%2C%2018.0%5D%2C%20%5B12.9055682%2C%2077.5455438%2C%2017.0%5D%2C%20%5B13.0217151%2C%2077.7660547%2C%2014.0%5D%2C%20%5B13.0382184%2C%2077.5919%2C%2014.0%5D%2C%20%5B12.9546741%2C%2077.5121724%2C%209.0%5D%2C%20%5B12.9176571%2C%2077.4837568%2C%209.0%5D%2C%20%5B13.0101286%2C%2077.5548006%2C%208.0%5D%2C%20%5B13.0011289%2C%2077.6325617%2C%206.0%5D%2C%20%5B13.1006982%2C%2077.5963454%2C%206.0%5D%2C%20%5B13.0784743%2C%2077.6068938%2C%203.0%5D%2C%20%5B12.9274413%2C%2077.5155224%2C%202.0%5D%2C%20%5B13.0329419%2C%2077.5273253%2C%201.0%5D%5D%3B%0A%20%20%20%20%20%20%20%20%20%20%20%20%20%20%20%20var%20cluster%20%3D%20L.markerClusterGroup%28%7B%22zoom%22%3A%2020%7D%29%3B%0A%0A%20%20%20%20%20%20%20%20%20%20%20%20%20%20%20%20for%20%28var%20i%20%3D%200%3B%20i%20%3C%20data.length%3B%20i%2B%2B%29%20%7B%0A%20%20%20%20%20%20%20%20%20%20%20%20%20%20%20%20%20%20%20%20var%20row%20%3D%20data%5Bi%5D%3B%0A%20%20%20%20%20%20%20%20%20%20%20%20%20%20%20%20%20%20%20%20var%20marker%20%3D%20callback%28row%29%3B%0A%20%20%20%20%20%20%20%20%20%20%20%20%20%20%20%20%20%20%20%20marker.addTo%28cluster%29%3B%0A%20%20%20%20%20%20%20%20%20%20%20%20%20%20%20%20%7D%0A%0A%20%20%20%20%20%20%20%20%20%20%20%20%20%20%20%20cluster.addTo%28map_39dda0a1c5d64842af78e22cedad88f9%29%3B%0A%20%20%20%20%20%20%20%20%20%20%20%20%20%20%20%20return%20cluster%3B%0A%20%20%20%20%20%20%20%20%20%20%20%20%7D%29%28%29%3B%0A%20%20%20%20%20%20%20%20%0A%20%20%20%20%0A%20%20%20%20%20%20%20%20%20%20%20%20var%20heat_map_a909ecf7d6f845bc9d62773433a1e66c%20%3D%20L.heatLayer%28%0A%20%20%20%20%20%20%20%20%20%20%20%20%20%20%20%20%5B%5B40.7652844%2C%20-76.373824%2C%204.066933867735475%5D%2C%20%5B51.5227651%2C%20-0.7354457%2C%204.0172011661807625%5D%2C%20%5B12.9271867%2C%2077.6266252%2C%203.9891191709844587%5D%2C%20%5B51.373656%2C%20-0.1042366%2C%203.970363636363635%5D%2C%20%5B38.7801076%2C%20-121.5056438%2C%203.9653846153846155%5D%2C%20%5B13.00540865%2C%2074.79460685941484%2C%203.9275514489710175%5D%2C%20%5B31.89376%2C%20-88.066644%2C%203.901052631578944%5D%2C%20%5B12.9274413%2C%2077.5155224%2C%203.85%5D%2C%20%5B38.7385916%2C%20-77.5275749%2C%203.8495065789473677%5D%2C%20%5B12.93433385%2C%2077.63040639553275%2C%203.840972222222229%5D%2C%20%5B15.8782951%2C%2074.5084834%2C%203.839655172413795%5D%2C%20%5B12.957998%2C%2077.6037312%2C%203.8074074074074087%5D%2C%20%5B34.977289%2C%20-78.974578%2C%203.796428571428575%5D%2C%20%5B13.0078418%2C%2074.7963208%2C%203.774471992653818%5D%2C%20%5B17.9895618%2C%2079.5967057%2C%203.770454545454541%5D%2C%20%5B22.3146438%2C%2073.1597756%2C%203.741605839416058%5D%2C%20%5B50.7721586%2C%200.09772783661369303%2C%203.7227129337539377%5D%2C%20%5B12.9176571%2C%2077.4837568%2C%203.7222222222222223%5D%2C%20%5B12.773175%2C%2077.7831871%2C%203.7148648648648637%5D%2C%20%5B12.9931876%2C%2077.5753419%2C%203.7049295774647875%5D%2C%20%5B12.9732913%2C%2077.6404672%2C%203.698140495867767%5D%2C%20%5B12.9400321%2C%2077.6203272%2C%203.6930693069306937%5D%2C%20%5B13.0027353%2C%2077.5703253%2C%203.692553191489358%5D%2C%20%5B27.64392675%2C%2083.05280519687284%2C%203.6589057043073336%5D%2C%20%5B12.9417812%2C%2077.6160146%2C%203.6408333333333283%5D%2C%20%5B13.1006982%2C%2077.5963454%2C%203.6399999999999997%5D%2C%20%5B13.2923988%2C%2077.7519261%2C%203.6387096774193557%5D%2C%20%5B40.28745%2C%20-76.964526%2C%203.625369003690041%5D%2C%20%5B13.0101286%2C%2077.5548006%2C%203.6250000000000004%5D%2C%20%5B13.0346384%2C%2077.5681733%2C%203.611854684512431%5D%2C%20%5B12.988721250000001%2C%2077.58516877601824%2C%203.6087301587301583%5D%2C%20%5B12.9243509%2C%2077.6255562%2C%203.5999999999999988%5D%2C%20%5B12.9778793%2C%2077.6246697%2C%203.599112097669261%5D%2C%20%5B13.0221416%2C%2077.6403368%2C%203.595989304812834%5D%2C%20%5B12.996845%2C%2077.6130165%2C%203.578719723183388%5D%2C%20%5B13.0093455%2C%2077.6377094%2C%203.5455238095238104%5D%2C%20%5B18.1475%2C%2041.538889%2C%203.5352913533834602%5D%2C%20%5B12.9242381%2C%2077.6289059%2C%203.531229597388462%5D%2C%20%5B12.9417261%2C%2077.5755021%2C%203.5307324840764305%5D%2C%20%5B13.0621474%2C%2077.58006135480495%2C%203.521276595744681%5D%2C%20%5B12.3872141%2C%2076.6669626%2C%203.511111111111112%5D%2C%20%5B12.9055682%2C%2077.5455438%2C%203.511111111111111%5D%2C%20%5B13.02383%2C%2077.5529215%2C%203.5026785714285693%5D%2C%20%5B12.9932739%2C%2077.5388099%2C%203.5006896551724145%5D%2C%20%5B18.5322493%2C%2073.8499601124847%2C%203.498916967509032%5D%2C%20%5B11.9917786%2C%2076.5066292%2C%203.4869565217391307%5D%2C%20%5B12.9846713%2C%2077.6790908%2C%203.4846153846153847%5D%2C%20%5B12.2655944%2C%2076.6465404%2C%203.484315846403459%5D%2C%20%5B12.5607431%2C%2077.4258375%2C%203.478947368421052%5D%2C%20%5B12.9882338%2C%2077.554883%2C%203.475770020533879%5D%2C%20%5B39.76880625%2C%20-86.15345077251979%2C%203.471794871794872%5D%2C%20%5B12.9678074%2C%2077.6568367%2C%203.4717557251908406%5D%2C%20%5B38.4876975%2C%20-109.4595323%2C%203.461658031088085%5D%2C%20%5B44.3730577%2C%20-71.6118577%2C%203.449734199645598%5D%2C%20%5B15.8876779%2C%2075.7046777%2C%203.449068322981369%5D%2C%20%5B13.0646907%2C%2077.49626895712257%2C%203.441758241758243%5D%2C%20%5B12.9552572%2C%2077.6984163%2C%203.440452428476383%5D%2C%20%5B12.945048%2C%2077.263004%2C%203.4375000000000004%5D%2C%20%5B33.5935063%2C%20-79.0345627%2C%203.436660929432015%5D%2C%20%5B12.9624669%2C%2077.6381958%2C%203.4321678321678344%5D%2C%20%5B13.0141618%2C%2077.6518539%2C%203.401002004008019%5D%2C%20%5B23.1485712%2C%2081.6048241%2C%203.4000000000000012%5D%2C%20%5B12.9546741%2C%2077.5121724%2C%203.4%5D%2C%20%5B12.967576%2C%2077.7150877%2C%203.391666666666667%5D%2C%20%5B13.0358698%2C%2077.6323597%2C%203.3873873873873865%5D%2C%20%5B13.2227%2C%2078.5541977%2C%203.381818181818182%5D%2C%20%5B14.5395813%2C%20121.070371%2C%203.3810362694300498%5D%2C%20%5B12.9575547%2C%2077.5979099%2C%203.380000000000003%5D%2C%20%5B12.9414662%2C%2077.7470942%2C%203.3741935483870957%5D%2C%20%5B45.95485055%2C%20-112.49659530324134%2C%203.373808965031689%5D%2C%20%5B12.93577245%2C%2077.66676103753434%2C%203.3710575139146552%5D%2C%20%5B12.9081487%2C%2077.5553179%2C%203.3619047619047615%5D%2C%20%5B1.2847055%2C%20103.84320655721689%2C%203.353389830508472%5D%2C%20%5B22.8359967%2C%2069.3405962%2C%203.347887323943663%5D%2C%20%5B12.887979%2C%2077.5970812%2C%203.3388972809667714%5D%2C%20%5B12.9489339%2C%2077.5968273%2C%203.3364532019704396%5D%2C%20%5B13.0227204%2C%2077.595715%2C%203.3249999999999984%5D%2C%20%5B13.0215466%2C%2077.7640586%2C%203.3099999999999996%5D%2C%20%5B13.007516%2C%2077.695935%2C%203.3090909090909095%5D%2C%20%5B17.2510682%2C%2080.1651978%2C%203.290909090909091%5D%2C%20%5B51.5228207%2C%20-0.0776446%2C%203.235922330097086%5D%2C%20%5B12.973936%2C%2077.6509982%2C%203.2203947368421053%5D%2C%20%5B13.0258087%2C%2077.6305067%2C%203.2083969465648847%5D%2C%20%5B13.0329419%2C%2077.5273253%2C%203.2%5D%2C%20%5B13.194416%2C%2078.7011301%2C%203.1818181818181825%5D%2C%20%5B12.945245%2C%2077.6269144%2C%203.1763513513513515%5D%2C%20%5B-6.2659285%2C%20106.7842561%2C%203.1705394190871385%5D%2C%20%5B13.0382184%2C%2077.5919%2C%203.08%5D%2C%20%5B12.9089453%2C%2077.6239038%2C%203.00955414012739%5D%2C%20%5B13.0217151%2C%2077.7660547%2C%202.6714285714285713%5D%2C%20%5B13.0011289%2C%2077.6325617%2C%202.42%5D%5D%2C%0A%20%20%20%20%20%20%20%20%20%20%20%20%20%20%20%20%7B%22blur%22%3A%2015%2C%20%22maxZoom%22%3A%2018%2C%20%22minOpacity%22%3A%200.5%2C%20%22radius%22%3A%2025%7D%0A%20%20%20%20%20%20%20%20%20%20%20%20%29.addTo%28map_39dda0a1c5d64842af78e22cedad88f9%29%3B%0A%20%20%20%20%20%20%20%20%0A%20%20%20%20%0A%20%20%20%20%20%20%20%20%20%20%20%20var%20heat_map_fe0953fd10c441868c8e50213855e753%20%3D%20L.heatLayer%28%0A%20%20%20%20%20%20%20%20%20%20%20%20%20%20%20%20%5B%5B45.95485055%2C%20-112.49659530324134%2C%20274.0%5D%2C%20%5B15.8876779%2C%2075.7046777%2C%2035.0%5D%2C%20%5B13.0141618%2C%2077.6518539%2C%209.0%5D%2C%20%5B12.887979%2C%2077.5970812%2C%2060.0%5D%2C%20%5B12.9417261%2C%2077.5755021%2C%2017.0%5D%5D%2C%0A%20%20%20%20%20%20%20%20%20%20%20%20%20%20%20%20%7B%22blur%22%3A%2015%2C%20%22maxZoom%22%3A%2018%2C%20%22minOpacity%22%3A%200.5%2C%20%22radius%22%3A%2050%2C%20%22zoom%22%3A%2020%7D%0A%20%20%20%20%20%20%20%20%20%20%20%20%29.addTo%28map_39dda0a1c5d64842af78e22cedad88f9%29%3B%0A%20%20%20%20%20%20%20%20%0A%3C/script%3E onload=\"this.contentDocument.open();this.contentDocument.write(    decodeURIComponent(this.getAttribute('data-html')));this.contentDocument.close();\" allowfullscreen webkitallowfullscreen mozallowfullscreen></iframe></div></div>"
      ],
      "text/plain": [
       "<folium.folium.Map at 0x213c41bc910>"
      ]
     },
     "execution_count": 100,
     "metadata": {},
     "output_type": "execute_result"
    }
   ],
   "source": [
    "baseMap"
   ]
  },
  {
   "cell_type": "markdown",
   "metadata": {},
   "source": [
    "### Automate Spatial Analysis"
   ]
  },
  {
   "cell_type": "code",
   "execution_count": 101,
   "metadata": {},
   "outputs": [],
   "source": [
    "def heatMap_zone(zone):\n",
    "    df2 = df[df['cuisines']==zone]\n",
    "    zoneDF = df2.groupby('location')['url'].count().reset_index()\n",
    "    zoneDF.columns=['Name', 'Count']\n",
    "    zoneDF = zoneDF.merge(locations, on='Name', how='left').dropna()\n",
    "    z = zoneDF[['Latitude', 'Longitude', 'Count']].head()\n",
    "    HeatMap(z, zoom=20, radius=50).add_to(baseMap)\n",
    "    return baseMap"
   ]
  },
  {
   "cell_type": "code",
   "execution_count": 102,
   "metadata": {},
   "outputs": [
    {
     "data": {
      "text/plain": [
       "array(['North Indian, Mughlai, Chinese', 'Chinese, North Indian, Thai',\n",
       "       'Cafe, Mexican, Italian', ..., 'Tibetan, Nepalese',\n",
       "       'North Indian, Street Food, Biryani',\n",
       "       'North Indian, Chinese, Arabian, Momos'], dtype=object)"
      ]
     },
     "execution_count": 102,
     "metadata": {},
     "output_type": "execute_result"
    }
   ],
   "source": [
    "df['cuisines'].unique()"
   ]
  },
  {
   "cell_type": "code",
   "execution_count": 103,
   "metadata": {},
   "outputs": [
    {
     "data": {
      "text/html": [
       "<div style=\"width:100%;\"><div style=\"position:relative;width:100%;height:0;padding-bottom:60%;\"><span style=\"color:#565656\">Make this Notebook Trusted to load map: File -> Trust Notebook</span><iframe src=\"about:blank\" style=\"position:absolute;width:100%;height:100%;left:0;top:0;border:none !important;\" data-html=%3C%21DOCTYPE%20html%3E%0A%3Chead%3E%20%20%20%20%0A%20%20%20%20%3Cmeta%20http-equiv%3D%22content-type%22%20content%3D%22text/html%3B%20charset%3DUTF-8%22%20/%3E%0A%20%20%20%20%0A%20%20%20%20%20%20%20%20%3Cscript%3E%0A%20%20%20%20%20%20%20%20%20%20%20%20L_NO_TOUCH%20%3D%20false%3B%0A%20%20%20%20%20%20%20%20%20%20%20%20L_DISABLE_3D%20%3D%20false%3B%0A%20%20%20%20%20%20%20%20%3C/script%3E%0A%20%20%20%20%0A%20%20%20%20%3Cstyle%3Ehtml%2C%20body%20%7Bwidth%3A%20100%25%3Bheight%3A%20100%25%3Bmargin%3A%200%3Bpadding%3A%200%3B%7D%3C/style%3E%0A%20%20%20%20%3Cstyle%3E%23map%20%7Bposition%3Aabsolute%3Btop%3A0%3Bbottom%3A0%3Bright%3A0%3Bleft%3A0%3B%7D%3C/style%3E%0A%20%20%20%20%3Cscript%20src%3D%22https%3A//cdn.jsdelivr.net/npm/leaflet%401.6.0/dist/leaflet.js%22%3E%3C/script%3E%0A%20%20%20%20%3Cscript%20src%3D%22https%3A//code.jquery.com/jquery-1.12.4.min.js%22%3E%3C/script%3E%0A%20%20%20%20%3Cscript%20src%3D%22https%3A//maxcdn.bootstrapcdn.com/bootstrap/3.2.0/js/bootstrap.min.js%22%3E%3C/script%3E%0A%20%20%20%20%3Cscript%20src%3D%22https%3A//cdnjs.cloudflare.com/ajax/libs/Leaflet.awesome-markers/2.0.2/leaflet.awesome-markers.js%22%3E%3C/script%3E%0A%20%20%20%20%3Clink%20rel%3D%22stylesheet%22%20href%3D%22https%3A//cdn.jsdelivr.net/npm/leaflet%401.6.0/dist/leaflet.css%22/%3E%0A%20%20%20%20%3Clink%20rel%3D%22stylesheet%22%20href%3D%22https%3A//maxcdn.bootstrapcdn.com/bootstrap/3.2.0/css/bootstrap.min.css%22/%3E%0A%20%20%20%20%3Clink%20rel%3D%22stylesheet%22%20href%3D%22https%3A//maxcdn.bootstrapcdn.com/bootstrap/3.2.0/css/bootstrap-theme.min.css%22/%3E%0A%20%20%20%20%3Clink%20rel%3D%22stylesheet%22%20href%3D%22https%3A//maxcdn.bootstrapcdn.com/font-awesome/4.6.3/css/font-awesome.min.css%22/%3E%0A%20%20%20%20%3Clink%20rel%3D%22stylesheet%22%20href%3D%22https%3A//cdnjs.cloudflare.com/ajax/libs/Leaflet.awesome-markers/2.0.2/leaflet.awesome-markers.css%22/%3E%0A%20%20%20%20%3Clink%20rel%3D%22stylesheet%22%20href%3D%22https%3A//cdn.jsdelivr.net/gh/python-visualization/folium/folium/templates/leaflet.awesome.rotate.min.css%22/%3E%0A%20%20%20%20%0A%20%20%20%20%20%20%20%20%20%20%20%20%3Cmeta%20name%3D%22viewport%22%20content%3D%22width%3Ddevice-width%2C%0A%20%20%20%20%20%20%20%20%20%20%20%20%20%20%20%20initial-scale%3D1.0%2C%20maximum-scale%3D1.0%2C%20user-scalable%3Dno%22%20/%3E%0A%20%20%20%20%20%20%20%20%20%20%20%20%3Cstyle%3E%0A%20%20%20%20%20%20%20%20%20%20%20%20%20%20%20%20%23map_39dda0a1c5d64842af78e22cedad88f9%20%7B%0A%20%20%20%20%20%20%20%20%20%20%20%20%20%20%20%20%20%20%20%20position%3A%20relative%3B%0A%20%20%20%20%20%20%20%20%20%20%20%20%20%20%20%20%20%20%20%20width%3A%20100.0%25%3B%0A%20%20%20%20%20%20%20%20%20%20%20%20%20%20%20%20%20%20%20%20height%3A%20100.0%25%3B%0A%20%20%20%20%20%20%20%20%20%20%20%20%20%20%20%20%20%20%20%20left%3A%200.0%25%3B%0A%20%20%20%20%20%20%20%20%20%20%20%20%20%20%20%20%20%20%20%20top%3A%200.0%25%3B%0A%20%20%20%20%20%20%20%20%20%20%20%20%20%20%20%20%7D%0A%20%20%20%20%20%20%20%20%20%20%20%20%3C/style%3E%0A%20%20%20%20%20%20%20%20%0A%20%20%20%20%3Cscript%20src%3D%22https%3A//cdn.jsdelivr.net/gh/python-visualization/folium%40master/folium/templates/leaflet_heat.min.js%22%3E%3C/script%3E%0A%20%20%20%20%3Cscript%20src%3D%22https%3A//cdnjs.cloudflare.com/ajax/libs/leaflet.markercluster/1.1.0/leaflet.markercluster.js%22%3E%3C/script%3E%0A%20%20%20%20%3Clink%20rel%3D%22stylesheet%22%20href%3D%22https%3A//cdnjs.cloudflare.com/ajax/libs/leaflet.markercluster/1.1.0/MarkerCluster.css%22/%3E%0A%20%20%20%20%3Clink%20rel%3D%22stylesheet%22%20href%3D%22https%3A//cdnjs.cloudflare.com/ajax/libs/leaflet.markercluster/1.1.0/MarkerCluster.Default.css%22/%3E%0A%3C/head%3E%0A%3Cbody%3E%20%20%20%20%0A%20%20%20%20%0A%20%20%20%20%20%20%20%20%20%20%20%20%3Cdiv%20class%3D%22folium-map%22%20id%3D%22map_39dda0a1c5d64842af78e22cedad88f9%22%20%3E%3C/div%3E%0A%20%20%20%20%20%20%20%20%0A%3C/body%3E%0A%3Cscript%3E%20%20%20%20%0A%20%20%20%20%0A%20%20%20%20%20%20%20%20%20%20%20%20var%20map_39dda0a1c5d64842af78e22cedad88f9%20%3D%20L.map%28%0A%20%20%20%20%20%20%20%20%20%20%20%20%20%20%20%20%22map_39dda0a1c5d64842af78e22cedad88f9%22%2C%0A%20%20%20%20%20%20%20%20%20%20%20%20%20%20%20%20%7B%0A%20%20%20%20%20%20%20%20%20%20%20%20%20%20%20%20%20%20%20%20center%3A%20%5B12.9716%2C%2077.5946%5D%2C%0A%20%20%20%20%20%20%20%20%20%20%20%20%20%20%20%20%20%20%20%20crs%3A%20L.CRS.EPSG3857%2C%0A%20%20%20%20%20%20%20%20%20%20%20%20%20%20%20%20%20%20%20%20zoom%3A%2012%2C%0A%20%20%20%20%20%20%20%20%20%20%20%20%20%20%20%20%20%20%20%20zoomControl%3A%20true%2C%0A%20%20%20%20%20%20%20%20%20%20%20%20%20%20%20%20%20%20%20%20preferCanvas%3A%20false%2C%0A%20%20%20%20%20%20%20%20%20%20%20%20%20%20%20%20%7D%0A%20%20%20%20%20%20%20%20%20%20%20%20%29%3B%0A%0A%20%20%20%20%20%20%20%20%20%20%20%20%0A%0A%20%20%20%20%20%20%20%20%0A%20%20%20%20%0A%20%20%20%20%20%20%20%20%20%20%20%20var%20tile_layer_9f72edd3385b4d748dfbdf8c68d94fd4%20%3D%20L.tileLayer%28%0A%20%20%20%20%20%20%20%20%20%20%20%20%20%20%20%20%22https%3A//%7Bs%7D.tile.openstreetmap.org/%7Bz%7D/%7Bx%7D/%7By%7D.png%22%2C%0A%20%20%20%20%20%20%20%20%20%20%20%20%20%20%20%20%7B%22attribution%22%3A%20%22Data%20by%20%5Cu0026copy%3B%20%5Cu003ca%20href%3D%5C%22http%3A//openstreetmap.org%5C%22%5Cu003eOpenStreetMap%5Cu003c/a%5Cu003e%2C%20under%20%5Cu003ca%20href%3D%5C%22http%3A//www.openstreetmap.org/copyright%5C%22%5Cu003eODbL%5Cu003c/a%5Cu003e.%22%2C%20%22detectRetina%22%3A%20false%2C%20%22maxNativeZoom%22%3A%2018%2C%20%22maxZoom%22%3A%2018%2C%20%22minZoom%22%3A%200%2C%20%22noWrap%22%3A%20false%2C%20%22opacity%22%3A%201%2C%20%22subdomains%22%3A%20%22abc%22%2C%20%22tms%22%3A%20false%7D%0A%20%20%20%20%20%20%20%20%20%20%20%20%29.addTo%28map_39dda0a1c5d64842af78e22cedad88f9%29%3B%0A%20%20%20%20%20%20%20%20%0A%20%20%20%20%0A%20%20%20%20%20%20%20%20%20%20%20%20var%20heat_map_b6d05ecceadc4507a197fb71111bb8c0%20%3D%20L.heatLayer%28%0A%20%20%20%20%20%20%20%20%20%20%20%20%20%20%20%20%5B%5B45.95485055%2C%20-112.49659530324134%2C%205124.0%5D%2C%20%5B18.1475%2C%2041.538889%2C%202523.0%5D%2C%20%5B13.00540865%2C%2074.79460685941484%2C%202504.0%5D%2C%20%5B12.2655944%2C%2076.6465404%2C%202235.0%5D%2C%20%5B44.3730577%2C%20-71.6118577%2C%202144.0%5D%2C%20%5B12.9732913%2C%2077.6404672%2C%202083.0%5D%2C%20%5B27.64392675%2C%2083.05280519687284%2C%201926.0%5D%2C%20%5B12.9552572%2C%2077.6984163%2C%201846.0%5D%2C%20%5B12.887979%2C%2077.5970812%2C%201630.0%5D%2C%20%5B12.93577245%2C%2077.66676103753434%2C%201286.0%5D%2C%20%5B-6.2659285%2C%20106.7842561%2C%201258.0%5D%2C%20%5B14.5395813%2C%20121.070371%2C%201238.0%5D%2C%20%5B40.28745%2C%20-76.964526%2C%201218.0%5D%2C%20%5B13.0078418%2C%2074.7963208%2C%201181.0%5D%2C%20%5B12.9400321%2C%2077.6203272%2C%201156.0%5D%2C%20%5B12.9242381%2C%2077.6289059%2C%201065.0%5D%2C%20%5B12.9778793%2C%2077.6246697%2C%201023.0%5D%2C%20%5B12.93433385%2C%2077.63040639553275%2C%201017.0%5D%2C%20%5B17.9895618%2C%2079.5967057%2C%20918.0%5D%2C%20%5B15.8876779%2C%2075.7046777%2C%20906.0%5D%2C%20%5B13.0221416%2C%2077.6403368%2C%20853.0%5D%2C%20%5B50.7721586%2C%200.09772783661369303%2C%20812.0%5D%2C%20%5B12.996845%2C%2077.6130165%2C%20727.0%5D%2C%20%5B13.0027353%2C%2077.5703253%2C%20725.0%5D%2C%20%5B12.9417261%2C%2077.5755021%2C%20684.0%5D%2C%20%5B38.7385916%2C%20-77.5275749%2C%20675.0%5D%2C%20%5B13.0141618%2C%2077.6518539%2C%20664.0%5D%2C%20%5B33.5935063%2C%20-79.0345627%2C%20658.0%5D%2C%20%5B13.0346384%2C%2077.5681733%2C%20649.0%5D%2C%20%5B13.0093455%2C%2077.6377094%2C%20648.0%5D%2C%20%5B12.9882338%2C%2077.554883%2C%20591.0%5D%2C%20%5B51.373656%2C%20-0.1042366%2C%20569.0%5D%2C%20%5B40.7652844%2C%20-76.373824%2C%20529.0%5D%2C%20%5B12.9575547%2C%2077.5979099%2C%20511.0%5D%2C%20%5B18.5322493%2C%2073.8499601124847%2C%20499.0%5D%2C%20%5B12.9624669%2C%2077.6381958%2C%20496.0%5D%2C%20%5B31.89376%2C%20-88.066644%2C%20491.0%5D%2C%20%5B38.4876975%2C%20-109.4595323%2C%20446.0%5D%2C%20%5B12.945245%2C%2077.6269144%2C%20439.0%5D%2C%20%5B51.5173375%2C%20-0.073532%2C%20370.0%5D%2C%20%5B51.5227651%2C%20-0.7354457%2C%20352.0%5D%2C%20%5B12.9417812%2C%2077.6160146%2C%20320.0%5D%2C%20%5B12.988721250000001%2C%2077.58516877601824%2C%20295.0%5D%2C%20%5B12.9678074%2C%2077.6568367%2C%20272.0%5D%2C%20%5B12.9489339%2C%2077.5968273%2C%20246.0%5D%2C%20%5B12.9089453%2C%2077.6239038%2C%20238.0%5D%2C%20%5B12.9271867%2C%2077.6266252%2C%20216.0%5D%2C%20%5B12.9081487%2C%2077.5553179%2C%20195.0%5D%2C%20%5B12.973936%2C%2077.6509982%2C%20194.0%5D%2C%20%5B12.9932739%2C%2077.5388099%2C%20191.0%5D%2C%20%5B13.2227%2C%2078.5541977%2C%20187.0%5D%2C%20%5B12.9931876%2C%2077.5753419%2C%20165.0%5D%2C%20%5B13.0258087%2C%2077.6305067%2C%20161.0%5D%2C%20%5B1.2847055%2C%20103.84320655721689%2C%20155.0%5D%2C%20%5B13.0358698%2C%2077.6323597%2C%20153.0%5D%2C%20%5B34.977289%2C%20-78.974578%2C%20151.0%5D%2C%20%5B22.3146438%2C%2073.1597756%2C%20139.0%5D%2C%20%5B39.76880625%2C%20-86.15345077251979%2C%20126.0%5D%2C%20%5B13.02383%2C%2077.5529215%2C%20119.0%5D%2C%20%5B12.9414662%2C%2077.7470942%2C%20117.0%5D%2C%20%5B12.967576%2C%2077.7150877%2C%20113.0%5D%2C%20%5B13.0646907%2C%2077.49626895712257%2C%20107.0%5D%2C%20%5B12.9243509%2C%2077.6255562%2C%20102.0%5D%2C%20%5B12.773175%2C%2077.7831871%2C%20102.0%5D%2C%20%5B12.9846713%2C%2077.6790908%2C%20101.0%5D%2C%20%5B17.2510682%2C%2080.1651978%2C%2090.0%5D%2C%20%5B13.0227204%2C%2077.595715%2C%2080.0%5D%2C%20%5B22.8359967%2C%2069.3405962%2C%2080.0%5D%2C%20%5B23.1485712%2C%2081.6048241%2C%2076.0%5D%2C%20%5B15.8782951%2C%2074.5084834%2C%2063.0%5D%2C%20%5B13.0621474%2C%2077.58006135480495%2C%2053.0%5D%2C%20%5B13.2923988%2C%2077.7519261%2C%2048.0%5D%2C%20%5B13.0215466%2C%2077.7640586%2C%2044.0%5D%2C%20%5B11.9917786%2C%2076.5066292%2C%2038.0%5D%2C%20%5B12.945048%2C%2077.263004%2C%2034.0%5D%2C%20%5B12.957998%2C%2077.6037312%2C%2027.0%5D%2C%20%5B38.7801076%2C%20-121.5056438%2C%2027.0%5D%2C%20%5B12.3872141%2C%2076.6669626%2C%2022.0%5D%2C%20%5B13.194416%2C%2078.7011301%2C%2022.0%5D%2C%20%5B12.5607431%2C%2077.4258375%2C%2019.0%5D%2C%20%5B13.007516%2C%2077.695935%2C%2018.0%5D%2C%20%5B12.9055682%2C%2077.5455438%2C%2017.0%5D%2C%20%5B13.0217151%2C%2077.7660547%2C%2014.0%5D%2C%20%5B13.0382184%2C%2077.5919%2C%2014.0%5D%2C%20%5B12.9546741%2C%2077.5121724%2C%209.0%5D%2C%20%5B12.9176571%2C%2077.4837568%2C%209.0%5D%2C%20%5B13.0101286%2C%2077.5548006%2C%208.0%5D%2C%20%5B13.0011289%2C%2077.6325617%2C%206.0%5D%2C%20%5B13.1006982%2C%2077.5963454%2C%206.0%5D%2C%20%5B13.0784743%2C%2077.6068938%2C%203.0%5D%2C%20%5B12.9274413%2C%2077.5155224%2C%202.0%5D%2C%20%5B13.0329419%2C%2077.5273253%2C%201.0%5D%5D%2C%0A%20%20%20%20%20%20%20%20%20%20%20%20%20%20%20%20%7B%22blur%22%3A%2015%2C%20%22maxZoom%22%3A%2018%2C%20%22minOpacity%22%3A%200.5%2C%20%22radius%22%3A%2025%2C%20%22zoom%22%3A%2020%7D%0A%20%20%20%20%20%20%20%20%20%20%20%20%29.addTo%28map_39dda0a1c5d64842af78e22cedad88f9%29%3B%0A%20%20%20%20%20%20%20%20%0A%20%20%20%20%0A%20%20%20%20%20%20%20%20%20%20%20%20var%20fast_marker_cluster_26333ebe5fe245ddb744b0a0b693d8f6%20%3D%20%28function%28%29%7B%0A%20%20%20%20%20%20%20%20%20%20%20%20%20%20%20%20%0A%20%20%20%20%20%20%20%20%20%20%20%20%20%20%20%20var%20callback%20%3D%20function%20%28row%29%20%7B%0A%20%20%20%20%20%20%20%20%20%20%20%20%20%20%20%20%20%20%20%20var%20icon%20%3D%20L.AwesomeMarkers.icon%28%29%3B%0A%20%20%20%20%20%20%20%20%20%20%20%20%20%20%20%20%20%20%20%20var%20marker%20%3D%20L.marker%28new%20L.LatLng%28row%5B0%5D%2C%20row%5B1%5D%29%29%3B%0A%20%20%20%20%20%20%20%20%20%20%20%20%20%20%20%20%20%20%20%20marker.setIcon%28icon%29%3B%0A%20%20%20%20%20%20%20%20%20%20%20%20%20%20%20%20%20%20%20%20return%20marker%3B%0A%20%20%20%20%20%20%20%20%20%20%20%20%20%20%20%20%7D%3B%0A%0A%20%20%20%20%20%20%20%20%20%20%20%20%20%20%20%20var%20data%20%3D%20%5B%5B45.95485055%2C%20-112.49659530324134%2C%205124.0%5D%2C%20%5B18.1475%2C%2041.538889%2C%202523.0%5D%2C%20%5B13.00540865%2C%2074.79460685941484%2C%202504.0%5D%2C%20%5B12.2655944%2C%2076.6465404%2C%202235.0%5D%2C%20%5B44.3730577%2C%20-71.6118577%2C%202144.0%5D%2C%20%5B12.9732913%2C%2077.6404672%2C%202083.0%5D%2C%20%5B27.64392675%2C%2083.05280519687284%2C%201926.0%5D%2C%20%5B12.9552572%2C%2077.6984163%2C%201846.0%5D%2C%20%5B12.887979%2C%2077.5970812%2C%201630.0%5D%2C%20%5B12.93577245%2C%2077.66676103753434%2C%201286.0%5D%2C%20%5B-6.2659285%2C%20106.7842561%2C%201258.0%5D%2C%20%5B14.5395813%2C%20121.070371%2C%201238.0%5D%2C%20%5B40.28745%2C%20-76.964526%2C%201218.0%5D%2C%20%5B13.0078418%2C%2074.7963208%2C%201181.0%5D%2C%20%5B12.9400321%2C%2077.6203272%2C%201156.0%5D%2C%20%5B12.9242381%2C%2077.6289059%2C%201065.0%5D%2C%20%5B12.9778793%2C%2077.6246697%2C%201023.0%5D%2C%20%5B12.93433385%2C%2077.63040639553275%2C%201017.0%5D%2C%20%5B17.9895618%2C%2079.5967057%2C%20918.0%5D%2C%20%5B15.8876779%2C%2075.7046777%2C%20906.0%5D%2C%20%5B13.0221416%2C%2077.6403368%2C%20853.0%5D%2C%20%5B50.7721586%2C%200.09772783661369303%2C%20812.0%5D%2C%20%5B12.996845%2C%2077.6130165%2C%20727.0%5D%2C%20%5B13.0027353%2C%2077.5703253%2C%20725.0%5D%2C%20%5B12.9417261%2C%2077.5755021%2C%20684.0%5D%2C%20%5B38.7385916%2C%20-77.5275749%2C%20675.0%5D%2C%20%5B13.0141618%2C%2077.6518539%2C%20664.0%5D%2C%20%5B33.5935063%2C%20-79.0345627%2C%20658.0%5D%2C%20%5B13.0346384%2C%2077.5681733%2C%20649.0%5D%2C%20%5B13.0093455%2C%2077.6377094%2C%20648.0%5D%2C%20%5B12.9882338%2C%2077.554883%2C%20591.0%5D%2C%20%5B51.373656%2C%20-0.1042366%2C%20569.0%5D%2C%20%5B40.7652844%2C%20-76.373824%2C%20529.0%5D%2C%20%5B12.9575547%2C%2077.5979099%2C%20511.0%5D%2C%20%5B18.5322493%2C%2073.8499601124847%2C%20499.0%5D%2C%20%5B12.9624669%2C%2077.6381958%2C%20496.0%5D%2C%20%5B31.89376%2C%20-88.066644%2C%20491.0%5D%2C%20%5B38.4876975%2C%20-109.4595323%2C%20446.0%5D%2C%20%5B12.945245%2C%2077.6269144%2C%20439.0%5D%2C%20%5B51.5173375%2C%20-0.073532%2C%20370.0%5D%2C%20%5B51.5227651%2C%20-0.7354457%2C%20352.0%5D%2C%20%5B12.9417812%2C%2077.6160146%2C%20320.0%5D%2C%20%5B12.988721250000001%2C%2077.58516877601824%2C%20295.0%5D%2C%20%5B12.9678074%2C%2077.6568367%2C%20272.0%5D%2C%20%5B12.9489339%2C%2077.5968273%2C%20246.0%5D%2C%20%5B12.9089453%2C%2077.6239038%2C%20238.0%5D%2C%20%5B12.9271867%2C%2077.6266252%2C%20216.0%5D%2C%20%5B12.9081487%2C%2077.5553179%2C%20195.0%5D%2C%20%5B12.973936%2C%2077.6509982%2C%20194.0%5D%2C%20%5B12.9932739%2C%2077.5388099%2C%20191.0%5D%2C%20%5B13.2227%2C%2078.5541977%2C%20187.0%5D%2C%20%5B12.9931876%2C%2077.5753419%2C%20165.0%5D%2C%20%5B13.0258087%2C%2077.6305067%2C%20161.0%5D%2C%20%5B1.2847055%2C%20103.84320655721689%2C%20155.0%5D%2C%20%5B13.0358698%2C%2077.6323597%2C%20153.0%5D%2C%20%5B34.977289%2C%20-78.974578%2C%20151.0%5D%2C%20%5B22.3146438%2C%2073.1597756%2C%20139.0%5D%2C%20%5B39.76880625%2C%20-86.15345077251979%2C%20126.0%5D%2C%20%5B13.02383%2C%2077.5529215%2C%20119.0%5D%2C%20%5B12.9414662%2C%2077.7470942%2C%20117.0%5D%2C%20%5B12.967576%2C%2077.7150877%2C%20113.0%5D%2C%20%5B13.0646907%2C%2077.49626895712257%2C%20107.0%5D%2C%20%5B12.9243509%2C%2077.6255562%2C%20102.0%5D%2C%20%5B12.773175%2C%2077.7831871%2C%20102.0%5D%2C%20%5B12.9846713%2C%2077.6790908%2C%20101.0%5D%2C%20%5B17.2510682%2C%2080.1651978%2C%2090.0%5D%2C%20%5B13.0227204%2C%2077.595715%2C%2080.0%5D%2C%20%5B22.8359967%2C%2069.3405962%2C%2080.0%5D%2C%20%5B23.1485712%2C%2081.6048241%2C%2076.0%5D%2C%20%5B15.8782951%2C%2074.5084834%2C%2063.0%5D%2C%20%5B13.0621474%2C%2077.58006135480495%2C%2053.0%5D%2C%20%5B13.2923988%2C%2077.7519261%2C%2048.0%5D%2C%20%5B13.0215466%2C%2077.7640586%2C%2044.0%5D%2C%20%5B11.9917786%2C%2076.5066292%2C%2038.0%5D%2C%20%5B12.945048%2C%2077.263004%2C%2034.0%5D%2C%20%5B12.957998%2C%2077.6037312%2C%2027.0%5D%2C%20%5B38.7801076%2C%20-121.5056438%2C%2027.0%5D%2C%20%5B12.3872141%2C%2076.6669626%2C%2022.0%5D%2C%20%5B13.194416%2C%2078.7011301%2C%2022.0%5D%2C%20%5B12.5607431%2C%2077.4258375%2C%2019.0%5D%2C%20%5B13.007516%2C%2077.695935%2C%2018.0%5D%2C%20%5B12.9055682%2C%2077.5455438%2C%2017.0%5D%2C%20%5B13.0217151%2C%2077.7660547%2C%2014.0%5D%2C%20%5B13.0382184%2C%2077.5919%2C%2014.0%5D%2C%20%5B12.9546741%2C%2077.5121724%2C%209.0%5D%2C%20%5B12.9176571%2C%2077.4837568%2C%209.0%5D%2C%20%5B13.0101286%2C%2077.5548006%2C%208.0%5D%2C%20%5B13.0011289%2C%2077.6325617%2C%206.0%5D%2C%20%5B13.1006982%2C%2077.5963454%2C%206.0%5D%2C%20%5B13.0784743%2C%2077.6068938%2C%203.0%5D%2C%20%5B12.9274413%2C%2077.5155224%2C%202.0%5D%2C%20%5B13.0329419%2C%2077.5273253%2C%201.0%5D%5D%3B%0A%20%20%20%20%20%20%20%20%20%20%20%20%20%20%20%20var%20cluster%20%3D%20L.markerClusterGroup%28%7B%22zoom%22%3A%2020%7D%29%3B%0A%0A%20%20%20%20%20%20%20%20%20%20%20%20%20%20%20%20for%20%28var%20i%20%3D%200%3B%20i%20%3C%20data.length%3B%20i%2B%2B%29%20%7B%0A%20%20%20%20%20%20%20%20%20%20%20%20%20%20%20%20%20%20%20%20var%20row%20%3D%20data%5Bi%5D%3B%0A%20%20%20%20%20%20%20%20%20%20%20%20%20%20%20%20%20%20%20%20var%20marker%20%3D%20callback%28row%29%3B%0A%20%20%20%20%20%20%20%20%20%20%20%20%20%20%20%20%20%20%20%20marker.addTo%28cluster%29%3B%0A%20%20%20%20%20%20%20%20%20%20%20%20%20%20%20%20%7D%0A%0A%20%20%20%20%20%20%20%20%20%20%20%20%20%20%20%20cluster.addTo%28map_39dda0a1c5d64842af78e22cedad88f9%29%3B%0A%20%20%20%20%20%20%20%20%20%20%20%20%20%20%20%20return%20cluster%3B%0A%20%20%20%20%20%20%20%20%20%20%20%20%7D%29%28%29%3B%0A%20%20%20%20%20%20%20%20%0A%20%20%20%20%0A%20%20%20%20%20%20%20%20%20%20%20%20var%20heat_map_a909ecf7d6f845bc9d62773433a1e66c%20%3D%20L.heatLayer%28%0A%20%20%20%20%20%20%20%20%20%20%20%20%20%20%20%20%5B%5B40.7652844%2C%20-76.373824%2C%204.066933867735475%5D%2C%20%5B51.5227651%2C%20-0.7354457%2C%204.0172011661807625%5D%2C%20%5B12.9271867%2C%2077.6266252%2C%203.9891191709844587%5D%2C%20%5B51.373656%2C%20-0.1042366%2C%203.970363636363635%5D%2C%20%5B38.7801076%2C%20-121.5056438%2C%203.9653846153846155%5D%2C%20%5B13.00540865%2C%2074.79460685941484%2C%203.9275514489710175%5D%2C%20%5B31.89376%2C%20-88.066644%2C%203.901052631578944%5D%2C%20%5B12.9274413%2C%2077.5155224%2C%203.85%5D%2C%20%5B38.7385916%2C%20-77.5275749%2C%203.8495065789473677%5D%2C%20%5B12.93433385%2C%2077.63040639553275%2C%203.840972222222229%5D%2C%20%5B15.8782951%2C%2074.5084834%2C%203.839655172413795%5D%2C%20%5B12.957998%2C%2077.6037312%2C%203.8074074074074087%5D%2C%20%5B34.977289%2C%20-78.974578%2C%203.796428571428575%5D%2C%20%5B13.0078418%2C%2074.7963208%2C%203.774471992653818%5D%2C%20%5B17.9895618%2C%2079.5967057%2C%203.770454545454541%5D%2C%20%5B22.3146438%2C%2073.1597756%2C%203.741605839416058%5D%2C%20%5B50.7721586%2C%200.09772783661369303%2C%203.7227129337539377%5D%2C%20%5B12.9176571%2C%2077.4837568%2C%203.7222222222222223%5D%2C%20%5B12.773175%2C%2077.7831871%2C%203.7148648648648637%5D%2C%20%5B12.9931876%2C%2077.5753419%2C%203.7049295774647875%5D%2C%20%5B12.9732913%2C%2077.6404672%2C%203.698140495867767%5D%2C%20%5B12.9400321%2C%2077.6203272%2C%203.6930693069306937%5D%2C%20%5B13.0027353%2C%2077.5703253%2C%203.692553191489358%5D%2C%20%5B27.64392675%2C%2083.05280519687284%2C%203.6589057043073336%5D%2C%20%5B12.9417812%2C%2077.6160146%2C%203.6408333333333283%5D%2C%20%5B13.1006982%2C%2077.5963454%2C%203.6399999999999997%5D%2C%20%5B13.2923988%2C%2077.7519261%2C%203.6387096774193557%5D%2C%20%5B40.28745%2C%20-76.964526%2C%203.625369003690041%5D%2C%20%5B13.0101286%2C%2077.5548006%2C%203.6250000000000004%5D%2C%20%5B13.0346384%2C%2077.5681733%2C%203.611854684512431%5D%2C%20%5B12.988721250000001%2C%2077.58516877601824%2C%203.6087301587301583%5D%2C%20%5B12.9243509%2C%2077.6255562%2C%203.5999999999999988%5D%2C%20%5B12.9778793%2C%2077.6246697%2C%203.599112097669261%5D%2C%20%5B13.0221416%2C%2077.6403368%2C%203.595989304812834%5D%2C%20%5B12.996845%2C%2077.6130165%2C%203.578719723183388%5D%2C%20%5B13.0093455%2C%2077.6377094%2C%203.5455238095238104%5D%2C%20%5B18.1475%2C%2041.538889%2C%203.5352913533834602%5D%2C%20%5B12.9242381%2C%2077.6289059%2C%203.531229597388462%5D%2C%20%5B12.9417261%2C%2077.5755021%2C%203.5307324840764305%5D%2C%20%5B13.0621474%2C%2077.58006135480495%2C%203.521276595744681%5D%2C%20%5B12.3872141%2C%2076.6669626%2C%203.511111111111112%5D%2C%20%5B12.9055682%2C%2077.5455438%2C%203.511111111111111%5D%2C%20%5B13.02383%2C%2077.5529215%2C%203.5026785714285693%5D%2C%20%5B12.9932739%2C%2077.5388099%2C%203.5006896551724145%5D%2C%20%5B18.5322493%2C%2073.8499601124847%2C%203.498916967509032%5D%2C%20%5B11.9917786%2C%2076.5066292%2C%203.4869565217391307%5D%2C%20%5B12.9846713%2C%2077.6790908%2C%203.4846153846153847%5D%2C%20%5B12.2655944%2C%2076.6465404%2C%203.484315846403459%5D%2C%20%5B12.5607431%2C%2077.4258375%2C%203.478947368421052%5D%2C%20%5B12.9882338%2C%2077.554883%2C%203.475770020533879%5D%2C%20%5B39.76880625%2C%20-86.15345077251979%2C%203.471794871794872%5D%2C%20%5B12.9678074%2C%2077.6568367%2C%203.4717557251908406%5D%2C%20%5B38.4876975%2C%20-109.4595323%2C%203.461658031088085%5D%2C%20%5B44.3730577%2C%20-71.6118577%2C%203.449734199645598%5D%2C%20%5B15.8876779%2C%2075.7046777%2C%203.449068322981369%5D%2C%20%5B13.0646907%2C%2077.49626895712257%2C%203.441758241758243%5D%2C%20%5B12.9552572%2C%2077.6984163%2C%203.440452428476383%5D%2C%20%5B12.945048%2C%2077.263004%2C%203.4375000000000004%5D%2C%20%5B33.5935063%2C%20-79.0345627%2C%203.436660929432015%5D%2C%20%5B12.9624669%2C%2077.6381958%2C%203.4321678321678344%5D%2C%20%5B13.0141618%2C%2077.6518539%2C%203.401002004008019%5D%2C%20%5B23.1485712%2C%2081.6048241%2C%203.4000000000000012%5D%2C%20%5B12.9546741%2C%2077.5121724%2C%203.4%5D%2C%20%5B12.967576%2C%2077.7150877%2C%203.391666666666667%5D%2C%20%5B13.0358698%2C%2077.6323597%2C%203.3873873873873865%5D%2C%20%5B13.2227%2C%2078.5541977%2C%203.381818181818182%5D%2C%20%5B14.5395813%2C%20121.070371%2C%203.3810362694300498%5D%2C%20%5B12.9575547%2C%2077.5979099%2C%203.380000000000003%5D%2C%20%5B12.9414662%2C%2077.7470942%2C%203.3741935483870957%5D%2C%20%5B45.95485055%2C%20-112.49659530324134%2C%203.373808965031689%5D%2C%20%5B12.93577245%2C%2077.66676103753434%2C%203.3710575139146552%5D%2C%20%5B12.9081487%2C%2077.5553179%2C%203.3619047619047615%5D%2C%20%5B1.2847055%2C%20103.84320655721689%2C%203.353389830508472%5D%2C%20%5B22.8359967%2C%2069.3405962%2C%203.347887323943663%5D%2C%20%5B12.887979%2C%2077.5970812%2C%203.3388972809667714%5D%2C%20%5B12.9489339%2C%2077.5968273%2C%203.3364532019704396%5D%2C%20%5B13.0227204%2C%2077.595715%2C%203.3249999999999984%5D%2C%20%5B13.0215466%2C%2077.7640586%2C%203.3099999999999996%5D%2C%20%5B13.007516%2C%2077.695935%2C%203.3090909090909095%5D%2C%20%5B17.2510682%2C%2080.1651978%2C%203.290909090909091%5D%2C%20%5B51.5228207%2C%20-0.0776446%2C%203.235922330097086%5D%2C%20%5B12.973936%2C%2077.6509982%2C%203.2203947368421053%5D%2C%20%5B13.0258087%2C%2077.6305067%2C%203.2083969465648847%5D%2C%20%5B13.0329419%2C%2077.5273253%2C%203.2%5D%2C%20%5B13.194416%2C%2078.7011301%2C%203.1818181818181825%5D%2C%20%5B12.945245%2C%2077.6269144%2C%203.1763513513513515%5D%2C%20%5B-6.2659285%2C%20106.7842561%2C%203.1705394190871385%5D%2C%20%5B13.0382184%2C%2077.5919%2C%203.08%5D%2C%20%5B12.9089453%2C%2077.6239038%2C%203.00955414012739%5D%2C%20%5B13.0217151%2C%2077.7660547%2C%202.6714285714285713%5D%2C%20%5B13.0011289%2C%2077.6325617%2C%202.42%5D%5D%2C%0A%20%20%20%20%20%20%20%20%20%20%20%20%20%20%20%20%7B%22blur%22%3A%2015%2C%20%22maxZoom%22%3A%2018%2C%20%22minOpacity%22%3A%200.5%2C%20%22radius%22%3A%2025%7D%0A%20%20%20%20%20%20%20%20%20%20%20%20%29.addTo%28map_39dda0a1c5d64842af78e22cedad88f9%29%3B%0A%20%20%20%20%20%20%20%20%0A%20%20%20%20%0A%20%20%20%20%20%20%20%20%20%20%20%20var%20heat_map_fe0953fd10c441868c8e50213855e753%20%3D%20L.heatLayer%28%0A%20%20%20%20%20%20%20%20%20%20%20%20%20%20%20%20%5B%5B45.95485055%2C%20-112.49659530324134%2C%20274.0%5D%2C%20%5B15.8876779%2C%2075.7046777%2C%2035.0%5D%2C%20%5B13.0141618%2C%2077.6518539%2C%209.0%5D%2C%20%5B12.887979%2C%2077.5970812%2C%2060.0%5D%2C%20%5B12.9417261%2C%2077.5755021%2C%2017.0%5D%5D%2C%0A%20%20%20%20%20%20%20%20%20%20%20%20%20%20%20%20%7B%22blur%22%3A%2015%2C%20%22maxZoom%22%3A%2018%2C%20%22minOpacity%22%3A%200.5%2C%20%22radius%22%3A%2050%2C%20%22zoom%22%3A%2020%7D%0A%20%20%20%20%20%20%20%20%20%20%20%20%29.addTo%28map_39dda0a1c5d64842af78e22cedad88f9%29%3B%0A%20%20%20%20%20%20%20%20%0A%20%20%20%20%0A%20%20%20%20%20%20%20%20%20%20%20%20var%20heat_map_ee8eced2dbef47e09b425e50fc8dec69%20%3D%20L.heatLayer%28%0A%20%20%20%20%20%20%20%20%20%20%20%20%20%20%20%20%5B%5D%2C%0A%20%20%20%20%20%20%20%20%20%20%20%20%20%20%20%20%7B%22blur%22%3A%2015%2C%20%22maxZoom%22%3A%2018%2C%20%22minOpacity%22%3A%200.5%2C%20%22radius%22%3A%2050%2C%20%22zoom%22%3A%2020%7D%0A%20%20%20%20%20%20%20%20%20%20%20%20%29.addTo%28map_39dda0a1c5d64842af78e22cedad88f9%29%3B%0A%20%20%20%20%20%20%20%20%0A%3C/script%3E onload=\"this.contentDocument.open();this.contentDocument.write(    decodeURIComponent(this.getAttribute('data-html')));this.contentDocument.close();\" allowfullscreen webkitallowfullscreen mozallowfullscreen></iframe></div></div>"
      ],
      "text/plain": [
       "<folium.folium.Map at 0x213c41bc910>"
      ]
     },
     "execution_count": 103,
     "metadata": {},
     "output_type": "execute_result"
    }
   ],
   "source": [
    "# executing function for Nepalese\n",
    "heatMap_zone('Nepalese')"
   ]
  },
  {
   "cell_type": "code",
   "execution_count": null,
   "metadata": {},
   "outputs": [],
   "source": []
  }
 ],
 "metadata": {
  "kernelspec": {
   "display_name": "Python 3",
   "language": "python",
   "name": "python3"
  },
  "language_info": {
   "codemirror_mode": {
    "name": "ipython",
    "version": 3
   },
   "file_extension": ".py",
   "mimetype": "text/x-python",
   "name": "python",
   "nbconvert_exporter": "python",
   "pygments_lexer": "ipython3",
   "version": "3.8.5"
  }
 },
 "nbformat": 4,
 "nbformat_minor": 4
}
